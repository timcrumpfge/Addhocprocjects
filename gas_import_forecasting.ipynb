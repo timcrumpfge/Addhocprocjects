{
  "cells": [
    {
      "cell_type": "markdown",
      "metadata": {},
      "source": [
        "# Gas Import Forecasting Analysis\n",
        "\n",
        "This notebook analyzes gas import data from multiple countries and implements various forecasting models to predict future imports.\n",
        "\n",
        "## Data Overview\n",
        "- Countries: Algeria, Libya, Iran, Azerbaijan, Norway, Russia\n",
        "- Time Period: January 2018 - July 2025\n",
        "- Missing values present in Iran column\n",
        "- Monthly frequency data\n"
      ]
    },
    {
      "cell_type": "code",
      "execution_count": 24,
      "metadata": {},
      "outputs": [
        {
          "name": "stdout",
          "output_type": "stream",
          "text": [
            "TensorFlow not installed; proceeding without LSTM models.\n",
            "Libraries imported successfully!\n"
          ]
        }
      ],
      "source": [
        "import pandas as pd\n",
        "import numpy as np\n",
        "import matplotlib.pyplot as plt\n",
        "import seaborn as sns\n",
        "from datetime import datetime\n",
        "import warnings\n",
        "warnings.filterwarnings('ignore')\n",
        "\n",
        "# Set up plotting style\n",
        "plt.style.use('seaborn-v0_8')\n",
        "sns.set_palette(\"husl\")\n",
        "\n",
        "# Import forecasting libraries\n",
        "from statsmodels.tsa.arima.model import ARIMA\n",
        "from statsmodels.tsa.seasonal import seasonal_decompose\n",
        "from statsmodels.tsa.stattools import adfuller\n",
        "from sklearn.metrics import mean_absolute_error, mean_squared_error\n",
        "from sklearn.preprocessing import MinMaxScaler\n",
        "\n",
        "# TensorFlow is optional; wrap import to avoid blocking if not installed\n",
        "try:\n",
        "    import tensorflow as tf\n",
        "    from tensorflow.keras.models import Sequential\n",
        "    from tensorflow.keras.layers import LSTM, Dense, Dropout\n",
        "    from tensorflow.keras.optimizers import Adam\n",
        "    print(f\"TensorFlow available: {tf.__version__}\")\n",
        "except Exception:\n",
        "    tf = None\n",
        "    print(\"TensorFlow not installed; proceeding without LSTM models.\")\n",
        "\n",
        "print(\"Libraries imported successfully!\")"
      ]
    },
    {
      "cell_type": "markdown",
      "metadata": {},
      "source": [
        "## Project setup\n",
        "We'll load pipeline import data from `Copy of Excel-Pipeline Supply to Europe.xlsm`, detect available import routes (columns), and run per-route forecasts with robust defaults. You can tweak the config in the next cell."
      ]
    },
    {
      "cell_type": "code",
      "execution_count": 25,
      "metadata": {},
      "outputs": [
        {
          "name": "stdout",
          "output_type": "stream",
          "text": [
            "Config ready: C:\\Users\\tcrump\\OneDrive - FACTS Global Energy Pte Ltd\\Desktop\\Coding projects\\Copy of Excel-Pipeline Supply to Europe.xlsm\n"
          ]
        }
      ],
      "source": [
        "# --- Configuration ---\n",
        "from pathlib import Path\n",
        "DATA_FILE = Path(r\"Copy of Excel-Pipeline Supply to Europe.xlsm\")\n",
        "DATE_COL_CANDIDATES = [\"date\", \"month\", \"period\", \"Date\", \"Month\", \"Period\"]\n",
        "ROUTE_EXCLUDE_KEYWORDS = [\"total\", \"sum\"]  # columns with these tokens will be excluded from route list\n",
        "FORECAST_HORIZON = 12  # months\n",
        "FREQ = \"MS\"  # Month Start\n",
        "TEST_SIZE = 12  # last N periods for backtest/evaluation\n",
        "OUTPUT_DIR = Path(\"forecasts_outputs\")\n",
        "OUTPUT_DIR.mkdir(exist_ok=True)\n",
        "print(\"Config ready:\", DATA_FILE.resolve())"
      ]
    },
    {
      "cell_type": "code",
      "execution_count": 26,
      "metadata": {},
      "outputs": [
        {
          "name": "stdout",
          "output_type": "stream",
          "text": [
            "Workbook sheets: ['Sheet1']\n",
            "'speedsheet' not found; falling back to selected_sheet: Sheet1\n",
            "Loaded sheet 'Sheet1' with shape (108, 10)\n",
            "Set index to 'Month'. Range: 2018-01-01 00:00:00 -> 2026-12-01 00:00:00 (freq=MS)\n",
            "speedsheet preview:\n",
            "            Year  Days in Month      Algeria       Libya        Iran  \\\n",
            "Month                                                                  \n",
            "2018-01-01  2018             31  4239.162936  358.000000  951.961290   \n",
            "2018-02-01  2018             28  4338.118069  432.801011  863.589286   \n",
            "2018-03-01  2018             31  4224.964454  559.756465  841.506452   \n",
            "2018-04-01  2018             30  3104.056450   16.088201  938.980000   \n",
            "2018-05-01  2018             31  2663.250106  249.226631  569.354839   \n",
            "...          ...            ...          ...         ...         ...   \n",
            "2026-08-01  2026             31  2760.576469  124.125241  488.458480   \n",
            "2026-09-01  2026             30  2703.838966  123.174642  487.381442   \n",
            "2026-10-01  2026             31  3073.091097  155.780577  447.439486   \n",
            "2026-11-01  2026             30  2992.287288  188.211798  785.299964   \n",
            "2026-12-01  2026             31  3060.753122  138.127303  719.775296   \n",
            "\n",
            "             Azerbaijan        Norway        Russia         Total  \n",
            "Month                                                              \n",
            "2018-01-01   732.520548  12728.536284  17217.662681  36227.843739  \n",
            "2018-02-01   715.102357  12566.071915  14187.217504  33102.900141  \n",
            "2018-03-01   704.553839  12152.898630  19583.904806  38067.584647  \n",
            "2018-04-01   416.963600  11623.007101  19482.228850  35581.324202  \n",
            "2018-05-01   750.956258  10715.367705  16005.757884  30953.913423  \n",
            "...                 ...           ...           ...           ...  \n",
            "2026-08-01  2268.222289  10766.589309   2027.875663  18435.847450  \n",
            "2026-09-01  2447.372223   8583.430313   2060.706104  16405.903689  \n",
            "2026-10-01  2601.659732  11423.364506   2155.919600  19857.254999  \n",
            "2026-11-01  2542.436476  11874.178589   2672.265712  21054.679825  \n",
            "2026-12-01  2716.387610  12172.131890   2621.401940  21428.577160  \n",
            "\n",
            "[108 rows x 9 columns]\n"
          ]
        }
      ],
      "source": [
        "# Load a sheet named \"speedsheet\" (case-insensitive) from the workbook, with sensible fallbacks.\n",
        "xls = pd.ExcelFile(DATA_FILE)\n",
        "print(\"Workbook sheets:\", xls.sheet_names)\n",
        "\n",
        "# find a sheet called \"speedsheet\" (case-insensitive)\n",
        "target_sheet = next((s for s in xls.sheet_names if s.lower() == \"speedsheet\"), None)\n",
        "\n",
        "# fallback to selected_sheet if defined and present, otherwise use the first sheet\n",
        "if target_sheet is None:\n",
        "    if 'selected_sheet' in globals() and selected_sheet in xls.sheet_names:\n",
        "        target_sheet = selected_sheet\n",
        "        print(f\"'speedsheet' not found; falling back to selected_sheet: {selected_sheet}\")\n",
        "    else:\n",
        "        target_sheet = xls.sheet_names[0]\n",
        "        print(f\"'speedsheet' not found; falling back to first sheet: {target_sheet}\")\n",
        "\n",
        "# read the sheet\n",
        "df_speedsheet = pd.read_excel(DATA_FILE, sheet_name=target_sheet)\n",
        "print(f\"Loaded sheet '{target_sheet}' with shape {df_speedsheet.shape}\")\n",
        "\n",
        "# attempt to detect date column using DATE_COL_CANDIDATES (case-insensitive)\n",
        "date_col = None\n",
        "cols_map = {c.lower(): c for c in df_speedsheet.columns}\n",
        "for cand in DATE_COL_CANDIDATES:\n",
        "    if cand.lower() in cols_map:\n",
        "        date_col = cols_map[cand.lower()]\n",
        "        break\n",
        "\n",
        "# additional heuristic if not found\n",
        "if date_col is None:\n",
        "    for c in df_speedsheet.columns:\n",
        "        if any(token in str(c).lower() for token in (\"date\", \"month\", \"period\")):\n",
        "            date_col = c\n",
        "            break\n",
        "\n",
        "if date_col is None:\n",
        "    print(\"No date column detected. Dataframe left as-is. Columns:\", list(df_speedsheet.columns))\n",
        "else:\n",
        "    # parse and set datetime index\n",
        "    df_speedsheet[date_col] = pd.to_datetime(df_speedsheet[date_col], errors='coerce')\n",
        "    df_speedsheet = df_speedsheet.set_index(date_col).sort_index()\n",
        "    try:\n",
        "        df_speedsheet = df_speedsheet.asfreq(FREQ)\n",
        "    except Exception:\n",
        "        # if asfreq fails, keep the index as-is\n",
        "        pass\n",
        "    print(f\"Set index to '{date_col}'. Range: {df_speedsheet.index.min()} -> {df_speedsheet.index.max()} (freq={FREQ})\")\n",
        "\n",
        "# coerce numeric columns\n",
        "for c in df_speedsheet.columns:\n",
        "    df_speedsheet[c] = pd.to_numeric(df_speedsheet[c], errors='coerce')\n",
        "\n",
        "# expose a clear variable for downstream cells\n",
        "speedsheet = df_speedsheet.copy()\n",
        "\n",
        "# quick preview\n",
        "print(\"speedsheet preview:\")\n",
        "print(speedsheet)"
      ]
    },
    {
      "cell_type": "code",
      "execution_count": 27,
      "metadata": {},
      "outputs": [
        {
          "name": "stdout",
          "output_type": "stream",
          "text": [
            "Cutoff: 2025-07-01\n",
            "History shape: (91, 6) range: 2018-01-01 00:00:00 -> 2025-07-01 00:00:00\n",
            "Forecast-period shape: (29, 6) range: 2025-08-01 00:00:00 -> 2027-12-01 00:00:00\n"
          ]
        }
      ],
      "source": [
        "# Split df_combined so forecasts are after Jul-2025 (i.e. > 2025-07-01)\n",
        "cutoff = pd.to_datetime(\"2025-07-01\")\n",
        "\n",
        "# ensure datetime index\n",
        "if not isinstance(df_combined.index, pd.DatetimeIndex):\n",
        "    df_combined.index = pd.to_datetime(df_combined.index)\n",
        "\n",
        "# history includes Jul-2025, forecasts are everything after\n",
        "df_history = df_combined.loc[:cutoff].copy()\n",
        "df_forecast_period = df_combined.loc[df_combined.index > cutoff].copy()\n",
        "\n",
        "print(\"Cutoff:\", cutoff.date())\n",
        "print(\"History shape:\", df_history.shape, \"range:\", df_history.index.min(), \"->\", df_history.index.max())\n",
        "print(\"Forecast-period shape:\", df_forecast_period.shape,\n",
        "      \"range:\", (df_forecast_period.index.min() if len(df_forecast_period) else None),\n",
        "      \"->\", (df_forecast_period.index.max() if len(df_forecast_period) else None))"
      ]
    },
    {
      "cell_type": "code",
      "execution_count": 29,
      "metadata": {},
      "outputs": [
        {
          "name": "stdout",
          "output_type": "stream",
          "text": [
            "Saved plot to: forecasts_outputs\\actuals_vs_forecast_by_route.png\n"
          ]
        },
        {
          "data": {
            "image/png": "[encoded data removed]",
            "text/plain": [
              "<Figure size 1400x1200 with 7 Axes>"
            ]
          },
          "metadata": {},
          "output_type": "display_data"
        }
      ],
      "source": [
        "# Plot actuals for each route + Total in subplots and save to outputs (split actuals vs forecast)\n",
        "cols = ['Algeria', 'Libya', 'Iran', 'Azerbaijan', 'Norway', 'Russia']\n",
        "\n",
        "# build plotting dataframe (use speedsheet Total if available, otherwise sum)\n",
        "df_plot = df_actuals[cols].copy()\n",
        "if 'Total' in speedsheet.columns:\n",
        "    df_plot['Total'] = speedsheet['Total']\n",
        "else:\n",
        "    df_plot['Total'] = df_plot.sum(axis=1)\n",
        "\n",
        "# split at cutoff (forecast = everything after Jul-2025)\n",
        "actual = df_plot.loc[:cutoff]\n",
        "forecast = df_plot.loc[df_plot.index > cutoff]\n",
        "\n",
        "# create subplots (4x2 -> 8 slots, 7 series)\n",
        "fig, axes = plt.subplots(4, 2, figsize=(14, 12), sharex=True)\n",
        "axes = axes.flatten()\n",
        "\n",
        "for i, col in enumerate(cols + ['Total']):\n",
        "    ax = axes[i]\n",
        "    # plot actuals (solid)\n",
        "    if col in actual.columns and not actual[col].dropna().empty:\n",
        "        actual[col].plot(ax=ax, linewidth=2, label='Actual', color='C0')\n",
        "    # plot forecast (dashed) if any values exist after cutoff\n",
        "    if col in forecast.columns and not forecast[col].dropna().empty:\n",
        "        forecast[col].plot(ax=ax, linewidth=2, linestyle='--', label='Forecast', color='C1')\n",
        "    ax.set_title(col)\n",
        "    ax.grid(alpha=0.3)\n",
        "    ax.legend()\n",
        "\n",
        "# remove the unused axis (last one)\n",
        "if len(cols) + 1 < len(axes):\n",
        "    fig.delaxes(axes[-1])\n",
        "\n",
        "fig.suptitle(\"Actuals (solid) and Forecast (dashed) by Route (forecast > 2025-07-01)\", fontsize=16)\n",
        "plt.tight_layout(rect=[0, 0, 1, 0.96])\n",
        "\n",
        "out_path = OUTPUT_DIR / \"actuals_vs_forecast_by_route.png\"\n",
        "fig.savefig(out_path, dpi=150)\n",
        "print(\"Saved plot to:\", out_path)\n",
        "plt.show()"
      ]
    },
    {
      "cell_type": "code",
      "execution_count": 31,
      "metadata": {},
      "outputs": [
        {
          "name": "stdout",
          "output_type": "stream",
          "text": [
            "Forecasting utilities ready: seasonal naive and ETS.\n"
          ]
        }
      ],
      "source": [
        "# --- Forecasting utilities: Seasonal Naive + ETS (Holt-Winters) ---\n",
        "import numpy as np\n",
        "import pandas as pd\n",
        "from statsmodels.tsa.holtwinters import ExponentialSmoothing\n",
        "\n",
        "DEF_SEASONAL_PERIODS = 12\n",
        "\n",
        "def _clean_series(s: pd.Series) -> pd.Series:\n",
        "    s = pd.to_numeric(s, errors=\"coerce\")\n",
        "    s = s.interpolate(limit_direction=\"both\")\n",
        "    s = s.fillna(method=\"ffill\").fillna(method=\"bfill\")\n",
        "    return s\n",
        "\n",
        "def forecast_seasonal_naive(series: pd.Series, horizon: int, m: int = DEF_SEASONAL_PERIODS) -> pd.Series:\n",
        "    s = _clean_series(series)\n",
        "    if m <= 0:\n",
        "        m = DEF_SEASONAL_PERIODS\n",
        "    if len(s.dropna()) == 0:\n",
        "        return pd.Series([np.nan] * horizon)\n",
        "    if len(s) < m:\n",
        "        last_val = s.iloc[-1]\n",
        "        return pd.Series([last_val] * horizon)\n",
        "    last_cycle = s.iloc[-m:]\n",
        "    reps = int(np.ceil(horizon / m))\n",
        "    vals = np.tile(last_cycle.values, reps)[:horizon]\n",
        "    return pd.Series(vals)\n",
        "\n",
        "def forecast_ets(series: pd.Series, horizon: int, m: int = DEF_SEASONAL_PERIODS) -> pd.Series:\n",
        "    s = _clean_series(series)\n",
        "    if len(s.dropna()) < (m * 2):\n",
        "        # not enough data for seasonal ETS; fallback to simple exponential smoothing via ETS without seasonality\n",
        "        try:\n",
        "            model = ExponentialSmoothing(s, trend=None, seasonal=None)\n",
        "            fit = model.fit(optimized=True)\n",
        "            return pd.Series(fit.forecast(horizon).values)\n",
        "        except Exception:\n",
        "            return forecast_seasonal_naive(series, horizon, m)\n",
        "    # try additive seasonality first; fallback to multiplicative\n",
        "    for seasonal in (\"add\", \"mul\"):\n",
        "        try:\n",
        "            model = ExponentialSmoothing(s, trend=None, seasonal=seasonal, seasonal_periods=m)\n",
        "            fit = model.fit(optimized=True)\n",
        "            return pd.Series(fit.forecast(horizon).values)\n",
        "        except Exception:\n",
        "            continue\n",
        "    # last fallback\n",
        "    return forecast_seasonal_naive(series, horizon, m)\n",
        "\n",
        "print(\"Forecasting utilities ready: seasonal naive and ETS.\")"
      ]
    },
    {
      "cell_type": "code",
      "execution_count": 32,
      "metadata": {},
      "outputs": [
        {
          "name": "stdout",
          "output_type": "stream",
          "text": [
            "Saved alternative forecasts to: forecasts_outputs\\alternative_forecasts.csv\n",
            "Saved comparison plot: forecasts_outputs\\comparison_Algeria.png\n"
          ]
        },
        {
          "data": {
            "image/png": "[encoded data removed]",
            "text/plain": [
              "<Figure size 1000x500 with 1 Axes>"
            ]
          },
          "metadata": {},
          "output_type": "display_data"
        }
      ],
      "source": [
        "# --- Compare alternative forecasts with existing forecast period ---\n",
        "# Inputs expected: df_history, df_forecast_period, FREQ, FORECAST_HORIZON, routes\n",
        "import pandas as pd\n",
        "import numpy as np\n",
        "import matplotlib.pyplot as plt\n",
        "\n",
        "# Determine horizon based on forecast_period rows, else use default\n",
        "if 'df_forecast_period' in globals() and len(df_forecast_period) > 0:\n",
        "    horizon = len(df_forecast_period)\n",
        "else:\n",
        "    # build a future index and use default horizon\n",
        "    last_observed = df_history.index.max() if 'df_history' in globals() else speedsheet.index.max()\n",
        "    future_idx = pd.date_range(last_observed + pd.offsets.MonthBegin(1), periods=FORECAST_HORIZON, freq=FREQ)\n",
        "    df_forecast_period = pd.DataFrame(index=future_idx)\n",
        "    horizon = FORECAST_HORIZON\n",
        "\n",
        "alts = {}\n",
        "for route in routes:\n",
        "    series = df_history[route] if 'df_history' in globals() else speedsheet[route]\n",
        "    series = series.asfreq(FREQ)\n",
        "    # align future index to the constructed forecast period\n",
        "    idx_future = df_forecast_period.index\n",
        "    # seasonal naive\n",
        "    sn = forecast_seasonal_naive(series, horizon)\n",
        "    sn.index = idx_future\n",
        "    # ETS\n",
        "    ets = forecast_ets(series, horizon)\n",
        "    ets.index = idx_future\n",
        "    alts[(route, 'SeasonalNaive')] = sn\n",
        "    alts[(route, 'ETS')] = ets\n",
        "\n",
        "# assemble dataframe: MultiIndex columns (method -> route) then flatten\n",
        "methods = sorted(set(m for _, m in alts.keys()))\n",
        "alt_cols = []\n",
        "frames = []\n",
        "for m in methods:\n",
        "    df_m = pd.DataFrame({r: alts[(r, m)] for r in routes}, index=df_forecast_period.index)\n",
        "    df_m.columns = pd.MultiIndex.from_product([[m], df_m.columns])\n",
        "    frames.append(df_m)\n",
        "alt_df = pd.concat(frames, axis=1).sort_index(axis=1)\n",
        "alt_df.columns = [f\"{m}_{r}\" for m, r in alt_df.columns]\n",
        "\n",
        "# Save alternative forecasts\n",
        "out_csv = OUTPUT_DIR / \"alternative_forecasts.csv\"\n",
        "alt_df.to_csv(out_csv)\n",
        "print(\"Saved alternative forecasts to:\", out_csv)\n",
        "\n",
        "# Quick comparison plot for one route\n",
        "route_example = routes[0] if routes else None\n",
        "if route_example is not None:\n",
        "    plt.figure(figsize=(10,5))\n",
        "    # plot history\n",
        "    (df_history[route_example] if 'df_history' in globals() else speedsheet[route_example]).plot(label='Actual', color='C0')\n",
        "    # existing forecast if present\n",
        "    if 'df_forecast_period' in globals() and route_example in df_forecast_period.columns:\n",
        "        df_forecast_period[route_example].plot(label='Existing Forecast', linestyle='--', color='C1')\n",
        "    # alternatives\n",
        "    alt_df[f'SeasonalNaive_{route_example}'].plot(label='SeasonalNaive', linestyle=':', color='C2')\n",
        "    alt_df[f'ETS_{route_example}'].plot(label='ETS', linestyle='-.', color='C3')\n",
        "    plt.title(f\"Forecast comparison for {route_example}\")\n",
        "    plt.legend()\n",
        "    plt.grid(alpha=0.3)\n",
        "    plt.tight_layout()\n",
        "    out_png = OUTPUT_DIR / f\"comparison_{route_example}.png\"\n",
        "    plt.savefig(out_png, dpi=150)\n",
        "    print(\"Saved comparison plot:\", out_png)\n",
        "    plt.show()\n",
        "else:\n",
        "    print(\"No routes detected; nothing to plot.\")"
      ]
    },
    {
      "cell_type": "code",
      "execution_count": 36,
      "metadata": {},
      "outputs": [
        {
          "data": {
            "application/vnd.microsoft.datawrangler.viewer.v0+json": {
              "columns": [
                {
                  "name": "index",
                  "rawType": "int64",
                  "type": "integer"
                },
                {
                  "name": "route",
                  "rawType": "object",
                  "type": "string"
                },
                {
                  "name": "method",
                  "rawType": "object",
                  "type": "string"
                },
                {
                  "name": "MAE_to_existing",
                  "rawType": "float64",
                  "type": "float"
                },
                {
                  "name": "RMSE_to_existing",
                  "rawType": "float64",
                  "type": "float"
                },
                {
                  "name": "MAPE_to_existing",
                  "rawType": "float64",
                  "type": "float"
                }
              ],
              "ref": "9d516686-30fc-4148-a332-9374e3abf1dd",
              "rows": [
                [
                  "2",
                  "Algeria",
                  "SARIMAX",
                  "136.11408678376182",
                  "207.17918937947994",
                  "4.970885592653032"
                ],
                [
                  "1",
                  "Algeria",
                  "ETS",
                  "156.69032575781833",
                  "231.66372801236494",
                  "5.720987048823587"
                ],
                [
                  "3",
                  "Algeria",
                  "XGB",
                  "203.02098794471928",
                  "272.27594417037136",
                  "7.391658031695907"
                ],
                [
                  "0",
                  "Algeria",
                  "SeasonalNaive",
                  "205.7701895364989",
                  "280.73191553668585",
                  "7.084997949452651"
                ],
                [
                  "4",
                  "Algeria",
                  "RF",
                  "217.42538324026071",
                  "292.0280043386254",
                  "7.93837287661089"
                ],
                [
                  "17",
                  "Azerbaijan",
                  "SARIMAX",
                  "138.40599830494793",
                  "169.28291558608598",
                  "5.544514848302226"
                ],
                [
                  "19",
                  "Azerbaijan",
                  "RF",
                  "205.25428424479492",
                  "233.73307712231363",
                  "8.075237983909677"
                ],
                [
                  "16",
                  "Azerbaijan",
                  "ETS",
                  "212.7769637326517",
                  "231.58383214878174",
                  "8.429772647457307"
                ],
                [
                  "18",
                  "Azerbaijan",
                  "XGB",
                  "237.77341970938255",
                  "254.57227829852462",
                  "9.551968421438824"
                ],
                [
                  "15",
                  "Azerbaijan",
                  "SeasonalNaive",
                  "268.3347418739365",
                  "320.56146010019046",
                  "10.884153658979072"
                ],
                [
                  "12",
                  "Iran",
                  "SARIMAX",
                  "113.45490568327057",
                  "126.92044567210776",
                  "18.607857764838748"
                ],
                [
                  "14",
                  "Iran",
                  "RF",
                  "117.03621441680694",
                  "137.347856241795",
                  "19.001269888321907"
                ],
                [
                  "13",
                  "Iran",
                  "XGB",
                  "219.4318057658369",
                  "267.90206666785065",
                  "38.14853484677711"
                ],
                [
                  "10",
                  "Iran",
                  "SeasonalNaive",
                  "255.5448478445292",
                  "302.47271370403996",
                  "43.43183762057894"
                ],
                [
                  "11",
                  "Iran",
                  "ETS",
                  "405.7298328553166",
                  "419.95162240628235",
                  "68.05882623666535"
                ],
                [
                  "5",
                  "Libya",
                  "SeasonalNaive",
                  "48.61432543709784",
                  "57.65030830161208",
                  "59.19570931020879"
                ],
                [
                  "6",
                  "Libya",
                  "ETS",
                  "53.64272662364139",
                  "61.30686718955471",
                  "63.49484741312189"
                ],
                [
                  "8",
                  "Libya",
                  "XGB",
                  "61.13762771728193",
                  "69.12882662955342",
                  "71.50374289484535"
                ],
                [
                  "9",
                  "Libya",
                  "RF",
                  "62.38999561012106",
                  "67.47071258480747",
                  "68.19030202068785"
                ],
                [
                  "7",
                  "Libya",
                  "SARIMAX",
                  "106.92483228678333",
                  "118.12174777063551",
                  "85.5978929691516"
                ],
                [
                  "20",
                  "Norway",
                  "SeasonalNaive",
                  "508.6698816513389",
                  "554.5163037437295",
                  "4.729350477189912"
                ],
                [
                  "23",
                  "Norway",
                  "XGB",
                  "612.0986745884711",
                  "788.1375703064381",
                  "5.940830858586192"
                ],
                [
                  "21",
                  "Norway",
                  "ETS",
                  "629.7255326567379",
                  "667.4304769181848",
                  "5.801671487660713"
                ],
                [
                  "24",
                  "Norway",
                  "RF",
                  "637.4802834488011",
                  "742.6525808329419",
                  "5.879041754297332"
                ],
                [
                  "22",
                  "Norway",
                  "SARIMAX",
                  "747.4414857361708",
                  "807.1473103346384",
                  "6.765915134969387"
                ],
                [
                  "27",
                  "Russia",
                  "SARIMAX",
                  "951.922867863713",
                  "1174.5500539907239",
                  "34.367439970612466"
                ],
                [
                  "29",
                  "Russia",
                  "RF",
                  "1039.8623053618137",
                  "1169.3063755072749",
                  "39.131265747047244"
                ],
                [
                  "26",
                  "Russia",
                  "ETS",
                  "1060.9236931729658",
                  "1348.1841191398726",
                  "45.27739240445845"
                ],
                [
                  "28",
                  "Russia",
                  "XGB",
                  "1290.949034020961",
                  "1438.0167383628955",
                  "49.39589396449124"
                ],
                [
                  "25",
                  "Russia",
                  "SeasonalNaive",
                  "1358.1178116614865",
                  "1528.7018662661312",
                  "51.92309413425913"
                ]
              ],
              "shape": {
                "columns": 5,
                "rows": 30
              }
            },
            "text/html": [
              "<div>\n",
              "<style scoped>\n",
              "    .dataframe tbody tr th:only-of-type {\n",
              "        vertical-align: middle;\n",
              "    }\n",
              "\n",
              "    .dataframe tbody tr th {\n",
              "        vertical-align: top;\n",
              "    }\n",
              "\n",
              "    .dataframe thead th {\n",
              "        text-align: right;\n",
              "    }\n",
              "</style>\n",
              "<table border=\"1\" class=\"dataframe\">\n",
              "  <thead>\n",
              "    <tr style=\"text-align: right;\">\n",
              "      <th></th>\n",
              "      <th>route</th>\n",
              "      <th>method</th>\n",
              "      <th>MAE_to_existing</th>\n",
              "      <th>RMSE_to_existing</th>\n",
              "      <th>MAPE_to_existing</th>\n",
              "    </tr>\n",
              "  </thead>\n",
              "  <tbody>\n",
              "    <tr>\n",
              "      <th>2</th>\n",
              "      <td>Algeria</td>\n",
              "      <td>SARIMAX</td>\n",
              "      <td>136.114087</td>\n",
              "      <td>207.179189</td>\n",
              "      <td>4.970886</td>\n",
              "    </tr>\n",
              "    <tr>\n",
              "      <th>1</th>\n",
              "      <td>Algeria</td>\n",
              "      <td>ETS</td>\n",
              "      <td>156.690326</td>\n",
              "      <td>231.663728</td>\n",
              "      <td>5.720987</td>\n",
              "    </tr>\n",
              "    <tr>\n",
              "      <th>3</th>\n",
              "      <td>Algeria</td>\n",
              "      <td>XGB</td>\n",
              "      <td>203.020988</td>\n",
              "      <td>272.275944</td>\n",
              "      <td>7.391658</td>\n",
              "    </tr>\n",
              "    <tr>\n",
              "      <th>0</th>\n",
              "      <td>Algeria</td>\n",
              "      <td>SeasonalNaive</td>\n",
              "      <td>205.770190</td>\n",
              "      <td>280.731916</td>\n",
              "      <td>7.084998</td>\n",
              "    </tr>\n",
              "    <tr>\n",
              "      <th>4</th>\n",
              "      <td>Algeria</td>\n",
              "      <td>RF</td>\n",
              "      <td>217.425383</td>\n",
              "      <td>292.028004</td>\n",
              "      <td>7.938373</td>\n",
              "    </tr>\n",
              "    <tr>\n",
              "      <th>17</th>\n",
              "      <td>Azerbaijan</td>\n",
              "      <td>SARIMAX</td>\n",
              "      <td>138.405998</td>\n",
              "      <td>169.282916</td>\n",
              "      <td>5.544515</td>\n",
              "    </tr>\n",
              "    <tr>\n",
              "      <th>19</th>\n",
              "      <td>Azerbaijan</td>\n",
              "      <td>RF</td>\n",
              "      <td>205.254284</td>\n",
              "      <td>233.733077</td>\n",
              "      <td>8.075238</td>\n",
              "    </tr>\n",
              "    <tr>\n",
              "      <th>16</th>\n",
              "      <td>Azerbaijan</td>\n",
              "      <td>ETS</td>\n",
              "      <td>212.776964</td>\n",
              "      <td>231.583832</td>\n",
              "      <td>8.429773</td>\n",
              "    </tr>\n",
              "    <tr>\n",
              "      <th>18</th>\n",
              "      <td>Azerbaijan</td>\n",
              "      <td>XGB</td>\n",
              "      <td>237.773420</td>\n",
              "      <td>254.572278</td>\n",
              "      <td>9.551968</td>\n",
              "    </tr>\n",
              "    <tr>\n",
              "      <th>15</th>\n",
              "      <td>Azerbaijan</td>\n",
              "      <td>SeasonalNaive</td>\n",
              "      <td>268.334742</td>\n",
              "      <td>320.561460</td>\n",
              "      <td>10.884154</td>\n",
              "    </tr>\n",
              "    <tr>\n",
              "      <th>12</th>\n",
              "      <td>Iran</td>\n",
              "      <td>SARIMAX</td>\n",
              "      <td>113.454906</td>\n",
              "      <td>126.920446</td>\n",
              "      <td>18.607858</td>\n",
              "    </tr>\n",
              "    <tr>\n",
              "      <th>14</th>\n",
              "      <td>Iran</td>\n",
              "      <td>RF</td>\n",
              "      <td>117.036214</td>\n",
              "      <td>137.347856</td>\n",
              "      <td>19.001270</td>\n",
              "    </tr>\n",
              "    <tr>\n",
              "      <th>13</th>\n",
              "      <td>Iran</td>\n",
              "      <td>XGB</td>\n",
              "      <td>219.431806</td>\n",
              "      <td>267.902067</td>\n",
              "      <td>38.148535</td>\n",
              "    </tr>\n",
              "    <tr>\n",
              "      <th>10</th>\n",
              "      <td>Iran</td>\n",
              "      <td>SeasonalNaive</td>\n",
              "      <td>255.544848</td>\n",
              "      <td>302.472714</td>\n",
              "      <td>43.431838</td>\n",
              "    </tr>\n",
              "    <tr>\n",
              "      <th>11</th>\n",
              "      <td>Iran</td>\n",
              "      <td>ETS</td>\n",
              "      <td>405.729833</td>\n",
              "      <td>419.951622</td>\n",
              "      <td>68.058826</td>\n",
              "    </tr>\n",
              "    <tr>\n",
              "      <th>5</th>\n",
              "      <td>Libya</td>\n",
              "      <td>SeasonalNaive</td>\n",
              "      <td>48.614325</td>\n",
              "      <td>57.650308</td>\n",
              "      <td>59.195709</td>\n",
              "    </tr>\n",
              "    <tr>\n",
              "      <th>6</th>\n",
              "      <td>Libya</td>\n",
              "      <td>ETS</td>\n",
              "      <td>53.642727</td>\n",
              "      <td>61.306867</td>\n",
              "      <td>63.494847</td>\n",
              "    </tr>\n",
              "    <tr>\n",
              "      <th>8</th>\n",
              "      <td>Libya</td>\n",
              "      <td>XGB</td>\n",
              "      <td>61.137628</td>\n",
              "      <td>69.128827</td>\n",
              "      <td>71.503743</td>\n",
              "    </tr>\n",
              "    <tr>\n",
              "      <th>9</th>\n",
              "      <td>Libya</td>\n",
              "      <td>RF</td>\n",
              "      <td>62.389996</td>\n",
              "      <td>67.470713</td>\n",
              "      <td>68.190302</td>\n",
              "    </tr>\n",
              "    <tr>\n",
              "      <th>7</th>\n",
              "      <td>Libya</td>\n",
              "      <td>SARIMAX</td>\n",
              "      <td>106.924832</td>\n",
              "      <td>118.121748</td>\n",
              "      <td>85.597893</td>\n",
              "    </tr>\n",
              "    <tr>\n",
              "      <th>20</th>\n",
              "      <td>Norway</td>\n",
              "      <td>SeasonalNaive</td>\n",
              "      <td>508.669882</td>\n",
              "      <td>554.516304</td>\n",
              "      <td>4.729350</td>\n",
              "    </tr>\n",
              "    <tr>\n",
              "      <th>23</th>\n",
              "      <td>Norway</td>\n",
              "      <td>XGB</td>\n",
              "      <td>612.098675</td>\n",
              "      <td>788.137570</td>\n",
              "      <td>5.940831</td>\n",
              "    </tr>\n",
              "    <tr>\n",
              "      <th>21</th>\n",
              "      <td>Norway</td>\n",
              "      <td>ETS</td>\n",
              "      <td>629.725533</td>\n",
              "      <td>667.430477</td>\n",
              "      <td>5.801671</td>\n",
              "    </tr>\n",
              "    <tr>\n",
              "      <th>24</th>\n",
              "      <td>Norway</td>\n",
              "      <td>RF</td>\n",
              "      <td>637.480283</td>\n",
              "      <td>742.652581</td>\n",
              "      <td>5.879042</td>\n",
              "    </tr>\n",
              "    <tr>\n",
              "      <th>22</th>\n",
              "      <td>Norway</td>\n",
              "      <td>SARIMAX</td>\n",
              "      <td>747.441486</td>\n",
              "      <td>807.147310</td>\n",
              "      <td>6.765915</td>\n",
              "    </tr>\n",
              "    <tr>\n",
              "      <th>27</th>\n",
              "      <td>Russia</td>\n",
              "      <td>SARIMAX</td>\n",
              "      <td>951.922868</td>\n",
              "      <td>1174.550054</td>\n",
              "      <td>34.367440</td>\n",
              "    </tr>\n",
              "    <tr>\n",
              "      <th>29</th>\n",
              "      <td>Russia</td>\n",
              "      <td>RF</td>\n",
              "      <td>1039.862305</td>\n",
              "      <td>1169.306376</td>\n",
              "      <td>39.131266</td>\n",
              "    </tr>\n",
              "    <tr>\n",
              "      <th>26</th>\n",
              "      <td>Russia</td>\n",
              "      <td>ETS</td>\n",
              "      <td>1060.923693</td>\n",
              "      <td>1348.184119</td>\n",
              "      <td>45.277392</td>\n",
              "    </tr>\n",
              "    <tr>\n",
              "      <th>28</th>\n",
              "      <td>Russia</td>\n",
              "      <td>XGB</td>\n",
              "      <td>1290.949034</td>\n",
              "      <td>1438.016738</td>\n",
              "      <td>49.395894</td>\n",
              "    </tr>\n",
              "    <tr>\n",
              "      <th>25</th>\n",
              "      <td>Russia</td>\n",
              "      <td>SeasonalNaive</td>\n",
              "      <td>1358.117812</td>\n",
              "      <td>1528.701866</td>\n",
              "      <td>51.923094</td>\n",
              "    </tr>\n",
              "  </tbody>\n",
              "</table>\n",
              "</div>"
            ],
            "text/plain": [
              "         route         method  MAE_to_existing  RMSE_to_existing  \\\n",
              "2      Algeria        SARIMAX       136.114087        207.179189   \n",
              "1      Algeria            ETS       156.690326        231.663728   \n",
              "3      Algeria            XGB       203.020988        272.275944   \n",
              "0      Algeria  SeasonalNaive       205.770190        280.731916   \n",
              "4      Algeria             RF       217.425383        292.028004   \n",
              "17  Azerbaijan        SARIMAX       138.405998        169.282916   \n",
              "19  Azerbaijan             RF       205.254284        233.733077   \n",
              "16  Azerbaijan            ETS       212.776964        231.583832   \n",
              "18  Azerbaijan            XGB       237.773420        254.572278   \n",
              "15  Azerbaijan  SeasonalNaive       268.334742        320.561460   \n",
              "12        Iran        SARIMAX       113.454906        126.920446   \n",
              "14        Iran             RF       117.036214        137.347856   \n",
              "13        Iran            XGB       219.431806        267.902067   \n",
              "10        Iran  SeasonalNaive       255.544848        302.472714   \n",
              "11        Iran            ETS       405.729833        419.951622   \n",
              "5        Libya  SeasonalNaive        48.614325         57.650308   \n",
              "6        Libya            ETS        53.642727         61.306867   \n",
              "8        Libya            XGB        61.137628         69.128827   \n",
              "9        Libya             RF        62.389996         67.470713   \n",
              "7        Libya        SARIMAX       106.924832        118.121748   \n",
              "20      Norway  SeasonalNaive       508.669882        554.516304   \n",
              "23      Norway            XGB       612.098675        788.137570   \n",
              "21      Norway            ETS       629.725533        667.430477   \n",
              "24      Norway             RF       637.480283        742.652581   \n",
              "22      Norway        SARIMAX       747.441486        807.147310   \n",
              "27      Russia        SARIMAX       951.922868       1174.550054   \n",
              "29      Russia             RF      1039.862305       1169.306376   \n",
              "26      Russia            ETS      1060.923693       1348.184119   \n",
              "28      Russia            XGB      1290.949034       1438.016738   \n",
              "25      Russia  SeasonalNaive      1358.117812       1528.701866   \n",
              "\n",
              "    MAPE_to_existing  \n",
              "2           4.970886  \n",
              "1           5.720987  \n",
              "3           7.391658  \n",
              "0           7.084998  \n",
              "4           7.938373  \n",
              "17          5.544515  \n",
              "19          8.075238  \n",
              "16          8.429773  \n",
              "18          9.551968  \n",
              "15         10.884154  \n",
              "12         18.607858  \n",
              "14         19.001270  \n",
              "13         38.148535  \n",
              "10         43.431838  \n",
              "11         68.058826  \n",
              "5          59.195709  \n",
              "6          63.494847  \n",
              "8          71.503743  \n",
              "9          68.190302  \n",
              "7          85.597893  \n",
              "20          4.729350  \n",
              "23          5.940831  \n",
              "21          5.801671  \n",
              "24          5.879042  \n",
              "22          6.765915  \n",
              "27         34.367440  \n",
              "29         39.131266  \n",
              "26         45.277392  \n",
              "28         49.395894  \n",
              "25         51.923094  "
            ]
          },
          "metadata": {},
          "output_type": "display_data"
        },
        {
          "name": "stdout",
          "output_type": "stream",
          "text": [
            "Saved metrics to: forecasts_outputs\\alternative_vs_existing_metrics.csv\n",
            "Saved metrics plot to: forecasts_outputs\\metrics_vs_existing_Algeria.png\n"
          ]
        },
        {
          "data": {
            "image/png": "[encoded data removed]",
            "text/plain": [
              "<Figure size 800x400 with 1 Axes>"
            ]
          },
          "metadata": {},
          "output_type": "display_data"
        }
      ],
      "source": [
        "# --- Metrics: alternative vs existing forecasts ---\n",
        "import numpy as np\n",
        "import pandas as pd\n",
        "import matplotlib.pyplot as plt\n",
        "\n",
        "def _mae(a, b):\n",
        "    a = np.asarray(a, dtype=float)\n",
        "    b = np.asarray(b, dtype=float)\n",
        "    return float(np.nanmean(np.abs(a - b)))\n",
        "\n",
        "def _rmse(a, b):\n",
        "    a = np.asarray(a, dtype=float)\n",
        "    b = np.asarray(b, dtype=float)\n",
        "    return float(np.sqrt(np.nanmean((a - b) ** 2)))\n",
        "\n",
        "def _mape(a, b):\n",
        "    a = np.asarray(a, dtype=float)\n",
        "    b = np.asarray(b, dtype=float)\n",
        "    mask = a != 0\n",
        "    if not np.any(mask):\n",
        "        return np.nan\n",
        "    return float(np.nanmean(np.abs((a[mask] - b[mask]) / a[mask])) * 100.0)\n",
        "\n",
        "metrics = []\n",
        "for route in routes:\n",
        "    if 'df_forecast_period' not in globals() or route not in df_forecast_period.columns:\n",
        "        continue\n",
        "    y_ref = pd.to_numeric(df_forecast_period[route], errors='coerce')\n",
        "    for method in ['SeasonalNaive', 'ETS']:\n",
        "        col = f'{method}_{route}'\n",
        "        if 'alt_df' in globals() and col in alt_df.columns:\n",
        "            y_alt = pd.to_numeric(alt_df[col], errors='coerce').reindex(y_ref.index)\n",
        "            metrics.append({\n",
        "                'route': route,\n",
        "                'method': method,\n",
        "                'MAE_to_existing': _mae(y_ref, y_alt),\n",
        "                'RMSE_to_existing': _rmse(y_ref, y_alt),\n",
        "                'MAPE_to_existing': _mape(y_ref, y_alt),\n",
        "            })\n",
        "    # include advanced methods if present\n",
        "    for method in ['SARIMAX', 'XGB', 'RF', 'NeuralProphet']:\n",
        "        col = f'{method}_{route}'\n",
        "        if 'adv_df' in globals() and col in adv_df.columns:\n",
        "            y_alt = pd.to_numeric(adv_df[col], errors='coerce').reindex(y_ref.index)\n",
        "            metrics.append({\n",
        "                'route': route,\n",
        "                'method': method,\n",
        "                'MAE_to_existing': _mae(y_ref, y_alt),\n",
        "                'RMSE_to_existing': _rmse(y_ref, y_alt),\n",
        "                'MAPE_to_existing': _mape(y_ref, y_alt),\n",
        "            })\n",
        "\n",
        "metrics_df = pd.DataFrame(metrics).sort_values(['route', 'MAE_to_existing'])\n",
        "display(metrics_df)\n",
        "\n",
        "# Save metrics\n",
        "metrics_path = OUTPUT_DIR / 'alternative_vs_existing_metrics.csv'\n",
        "metrics_df.to_csv(metrics_path, index=False)\n",
        "print('Saved metrics to:', metrics_path)\n",
        "\n",
        "# optional: bar chart for one route\n",
        "route_example = routes[0] if routes else None\n",
        "if route_example and (metrics_df['route'] == route_example).any():\n",
        "    plot_df = metrics_df[metrics_df['route'] == route_example].set_index('method')\n",
        "    ax = plot_df[['MAE_to_existing','RMSE_to_existing']].plot(kind='bar', figsize=(8,4), title=f\"Alt vs Existing: {route_example}\")\n",
        "    ax.set_ylabel('Error vs Existing')\n",
        "    plt.tight_layout()\n",
        "    out_png = OUTPUT_DIR / f\"metrics_vs_existing_{route_example}.png\"\n",
        "    plt.savefig(out_png, dpi=150)\n",
        "    print('Saved metrics plot to:', out_png)\n",
        "    plt.show()\n",
        "else:\n",
        "    print('No metrics to plot for example route.')"
      ]
    },
    {
      "cell_type": "code",
      "execution_count": 34,
      "metadata": {},
      "outputs": [
        {
          "name": "stdout",
          "output_type": "stream",
          "text": [
            "Advanced forecasting utilities ready (SARIMAX, XGB, RF, optional NeuralProphet).\n"
          ]
        }
      ],
      "source": [
        "# --- Advanced forecasting utilities: SARIMAX, XGBoost, RandomForest, NeuralProphet (optional) ---\n",
        "import warnings\n",
        "import numpy as np\n",
        "import pandas as pd\n",
        "from statsmodels.tsa.statespace.sarimax import SARIMAX\n",
        "from sklearn.ensemble import RandomForestRegressor\n",
        "from xgboost import XGBRegressor\n",
        "\n",
        "def _clean(s: pd.Series) -> pd.Series:\n",
        "    s = pd.to_numeric(s, errors='coerce')\n",
        "    s = s.interpolate(limit_direction='both')\n",
        "    s = s.fillna(method='ffill').fillna(method='bfill')\n",
        "    return s\n",
        "\n",
        "def fit_sarimax_quick(series: pd.Series, m: int = 12):\n",
        "    y = _clean(series).asfreq(FREQ)\n",
        "    best_model = None\n",
        "    best_aic = np.inf\n",
        "    best_order = None\n",
        "    best_seasonal = None\n",
        "    for p in (0,1,2):\n",
        "        for d in (0,1):\n",
        "            for q in (0,1,2):\n",
        "                order = (p,d,q)\n",
        "                for P in (0,1):\n",
        "                    for D in (0,1):\n",
        "                        for Q in (0,1):\n",
        "                            seas = (P,D,Q,m)\n",
        "                            try:\n",
        "                                with warnings.catch_warnings():\n",
        "                                    warnings.simplefilter('ignore')\n",
        "                                    model = SARIMAX(y, order=order, seasonal_order=seas, enforce_stationarity=False, enforce_invertibility=False).fit(disp=False)\n",
        "                                if model.aic < best_aic:\n",
        "                                    best_aic = model.aic\n",
        "                                    best_model = model\n",
        "                                    best_order = order\n",
        "                                    best_seasonal = seas\n",
        "                            except Exception:\n",
        "                                continue\n",
        "    return best_model, best_order, best_seasonal, best_aic\n",
        "\n",
        "def build_supervised(series: pd.Series, lags: int = 12, add_month=True) -> tuple[pd.DataFrame, pd.Series]:\n",
        "    y = _clean(series).asfreq(FREQ)\n",
        "    df = pd.DataFrame({'y': y})\n",
        "    for L in range(1, lags+1):\n",
        "        df[f'lag_{L}'] = df['y'].shift(L)\n",
        "    if add_month:\n",
        "        df['month'] = df.index.month\n",
        "        month_dummies = pd.get_dummies(df['month'], prefix='m', drop_first=False)\n",
        "        df = pd.concat([df.drop(columns=['month']), month_dummies], axis=1)\n",
        "    df = df.dropna()\n",
        "    X = df.drop(columns=['y'])\n",
        "    y = df['y']\n",
        "    return X, y\n",
        "\n",
        "def forecast_ml_recursive(series: pd.Series, horizon: int, model: str = 'xgb', lags: int = 12) -> pd.Series:\n",
        "    y = _clean(series).asfreq(FREQ)\n",
        "    X, Y = build_supervised(y, lags=lags, add_month=True)\n",
        "    if model == 'xgb':\n",
        "        reg = XGBRegressor(n_estimators=400, max_depth=4, learning_rate=0.05, subsample=0.9, colsample_bytree=0.9, random_state=42)\n",
        "    elif model == 'rf':\n",
        "        reg = RandomForestRegressor(n_estimators=500, max_depth=None, random_state=42, n_jobs=-1)\n",
        "    else:\n",
        "        raise ValueError(\"model must be 'xgb' or 'rf'\")\n",
        "    reg.fit(X.values, Y.values)\n",
        "    # recursive forecasting\n",
        "    history = y.copy()\n",
        "    preds = []\n",
        "    for h in range(horizon):\n",
        "        # build one-step feature vector from latest history\n",
        "        values = history.values\n",
        "        feats = {}\n",
        "        for L in range(1, lags+1):\n",
        "            feats[f'lag_{L}'] = values[-L] if len(values) >= L else values[0]\n",
        "        # month dummies for next step\n",
        "        next_ts = (history.index[-1] + pd.offsets.MonthBegin(1)) if len(history) else pd.Timestamp.today().to_period('M').to_timestamp()\n",
        "        m = next_ts.month\n",
        "        for k in range(1,13):\n",
        "            feats[f'm_{k}'] = 1 if m == k else 0\n",
        "        # ensure column order matches training\n",
        "        feat_row = [feats.get(col, 0) for col in X.columns]\n",
        "        yhat = reg.predict(np.array(feat_row).reshape(1,-1))[0]\n",
        "        # append to preds and history\n",
        "        preds.append(yhat)\n",
        "        history = pd.concat([history, pd.Series([yhat], index=[next_ts])])\n",
        "    return pd.Series(preds)\n",
        "\n",
        "def forecast_neuralprophet(series: pd.Series, horizon: int):\n",
        "    try:\n",
        "        from neuralprophet import NeuralProphet\n",
        "    except Exception:\n",
        "        return None  # not installed\n",
        "    df = pd.DataFrame({'ds': series.index, 'y': _clean(series).values})\n",
        "    m = NeuralProphet(seasonality_mode='additive', yearly_seasonality=True, weekly_seasonality=False, daily_seasonality=False, n_forecasts=1, n_lags=0)\n",
        "    m = m.fit(df, freq='MS', progress='none', minimal=True)\n",
        "    future = m.make_future_dataframe(df, periods=horizon, n_historic_predictions=False)\n",
        "    fcst = m.predict(future)\n",
        "    yhat = fcst['yhat1'].tail(horizon).reset_index(drop=True)\n",
        "    return pd.Series(yhat.values)\n",
        "\n",
        "print(\"Advanced forecasting utilities ready (SARIMAX, XGB, RF, optional NeuralProphet).\")"
      ]
    },
    {
      "cell_type": "code",
      "execution_count": 37,
      "metadata": {},
      "outputs": [
        {
          "name": "stdout",
          "output_type": "stream",
          "text": [
            "Saved advanced forecasts to: forecasts_outputs\\advanced_forecasts.csv\n",
            "Saved advanced comparison (Plotly) to: forecasts_outputs\\advanced_comparison_Algeria.html\n"
          ]
        },
        {
          "data": {
            "application/vnd.plotly.v1+json": {
              "config": {
                "plotlyServerURL": "https://plot.ly"
              },
              "data": [
                {
                  "line": {
                    "color": "#1f77b4"
                  },
                  "mode": "lines",
                  "name": "Actual",
                  "type": "scatter",
                  "x": [
                    "2018-01-01T00:00:00.000000000",
                    "2018-02-01T00:00:00.000000000",
                    "2018-03-01T00:00:00.000000000",
                    "2018-04-01T00:00:00.000000000",
                    "2018-05-01T00:00:00.000000000",
                    "2018-06-01T00:00:00.000000000",
                    "2018-07-01T00:00:00.000000000",
                    "2018-08-01T00:00:00.000000000",
                    "2018-09-01T00:00:00.000000000",
                    "2018-10-01T00:00:00.000000000",
                    "2018-11-01T00:00:00.000000000",
                    "2018-12-01T00:00:00.000000000",
                    "2019-01-01T00:00:00.000000000",
                    "2019-02-01T00:00:00.000000000",
                    "2019-03-01T00:00:00.000000000",
                    "2019-04-01T00:00:00.000000000",
                    "2019-05-01T00:00:00.000000000",
                    "2019-06-01T00:00:00.000000000",
                    "2019-07-01T00:00:00.000000000",
                    "2019-08-01T00:00:00.000000000",
                    "2019-09-01T00:00:00.000000000",
                    "2019-10-01T00:00:00.000000000",
                    "2019-11-01T00:00:00.000000000",
                    "2019-12-01T00:00:00.000000000",
                    "2020-01-01T00:00:00.000000000",
                    "2020-02-01T00:00:00.000000000",
                    "2020-03-01T00:00:00.000000000",
                    "2020-04-01T00:00:00.000000000",
                    "2020-05-01T00:00:00.000000000",
                    "2020-06-01T00:00:00.000000000",
                    "2020-07-01T00:00:00.000000000",
                    "2020-08-01T00:00:00.000000000",
                    "2020-09-01T00:00:00.000000000",
                    "2020-10-01T00:00:00.000000000",
                    "2020-11-01T00:00:00.000000000",
                    "2020-12-01T00:00:00.000000000",
                    "2021-01-01T00:00:00.000000000",
                    "2021-02-01T00:00:00.000000000",
                    "2021-03-01T00:00:00.000000000",
                    "2021-04-01T00:00:00.000000000",
                    "2021-05-01T00:00:00.000000000",
                    "2021-06-01T00:00:00.000000000",
                    "2021-07-01T00:00:00.000000000",
                    "2021-08-01T00:00:00.000000000",
                    "2021-09-01T00:00:00.000000000",
                    "2021-10-01T00:00:00.000000000",
                    "2021-11-01T00:00:00.000000000",
                    "2021-12-01T00:00:00.000000000",
                    "2022-01-01T00:00:00.000000000",
                    "2022-02-01T00:00:00.000000000",
                    "2022-03-01T00:00:00.000000000",
                    "2022-04-01T00:00:00.000000000",
                    "2022-05-01T00:00:00.000000000",
                    "2022-06-01T00:00:00.000000000",
                    "2022-07-01T00:00:00.000000000",
                    "2022-08-01T00:00:00.000000000",
                    "2022-09-01T00:00:00.000000000",
                    "2022-10-01T00:00:00.000000000",
                    "2022-11-01T00:00:00.000000000",
                    "2022-12-01T00:00:00.000000000",
                    "2023-01-01T00:00:00.000000000",
                    "2023-02-01T00:00:00.000000000",
                    "2023-03-01T00:00:00.000000000",
                    "2023-04-01T00:00:00.000000000",
                    "2023-05-01T00:00:00.000000000",
                    "2023-06-01T00:00:00.000000000",
                    "2023-07-01T00:00:00.000000000",
                    "2023-08-01T00:00:00.000000000",
                    "2023-09-01T00:00:00.000000000",
                    "2023-10-01T00:00:00.000000000",
                    "2023-11-01T00:00:00.000000000",
                    "2023-12-01T00:00:00.000000000",
                    "2024-01-01T00:00:00.000000000",
                    "2024-02-01T00:00:00.000000000",
                    "2024-03-01T00:00:00.000000000",
                    "2024-04-01T00:00:00.000000000",
                    "2024-05-01T00:00:00.000000000",
                    "2024-06-01T00:00:00.000000000",
                    "2024-07-01T00:00:00.000000000",
                    "2024-08-01T00:00:00.000000000",
                    "2024-09-01T00:00:00.000000000",
                    "2024-10-01T00:00:00.000000000",
                    "2024-11-01T00:00:00.000000000",
                    "2024-12-01T00:00:00.000000000",
                    "2025-01-01T00:00:00.000000000",
                    "2025-02-01T00:00:00.000000000",
                    "2025-03-01T00:00:00.000000000",
                    "2025-04-01T00:00:00.000000000",
                    "2025-05-01T00:00:00.000000000",
                    "2025-06-01T00:00:00.000000000",
                    "2025-07-01T00:00:00.000000000"
                  ],
                  "y": {
                    "bdata": "0nEvtimPsEBEtr85HvKwQADmc+b2gLBAREUF5xxAqEAB4uINgM6kQIBzfpJIwKZAuFXLaA2VpEDewGb6hGiiQJ4M/JMlIKRAcLgGt+OxqEComsBbq6OpQJTTNP0hS6pAomnLc21CrEDaCo30m7mkQA0jOwEcuZNAeffdezK5m0Bq9i/YwJudQFiyBl0C2plA2qAIxDermkC2UbrwDJOXQNejcD0KtphAgn3reuLzn0CQZ7F+UfahQMZIh9Trv6ZA6lXoOrSioUAMtaZ5B7GYQAy1pnkHsZhA0A5Rl0q8kED5D+m3r1ORQJT2Bl9Y75JAdthgKfvWm0B87JoqkKyeQGwJzfa376FA21xrbqPIqECuU0mGDOypQBt8PCy9gaxA14ZAq0VPqkAolK7g6o2uQDdlEhhw1q5ADLtaHMUXrEDCAVfpPBCtQOB6FK5HP6tAjulEBmk4qUDgYnuFQbmlQAAjvtdTsqZAfLFJXWj/qkAejWP5N1GoQN6iC+mX0qdAxEdvZaOrqEBYfMVX/EWpQAR6I21k2qhAa9RDNBrZqEDnuIoTd8SnQABGyxDtDqZAuQBMBGPupUBWbhK0FJOoQLd1Gyj6nqlAbKswf5r7p0CLJb9YcuGmQA7S2bNYE6xAVVJJlRvPokC0sMb03i+mQI2kAx9tR6dA0gxE+SfTrEDMbYjW+ImmQECnDXTawqZAQgghhBCZqEBhHxf2cc2oQG2g0wY6YKtA9957771UqEADnTbQ6cmmQCmllFJKIadAMzMzMzPbo0DKyFg6ceqjQEc2TAiU06hAD5wzonTEqkAm4ZBFARmpQCYJr0r//adA2BZxv6lvpkBMvcf9NyWmQBC3MPhxVqBAOLTIdr62qUAyTetJs/OqQIrgwo35hqdAOPyuiwHYqECWS38MWnepQLlyyfaHnadAeAVZTnZup0BmvyqsqQanQAIJEUEVb6dA+aJc4ICOpUA=",
                    "dtype": "f8"
                  }
                },
                {
                  "line": {
                    "color": "#ff7f0e",
                    "dash": "dash"
                  },
                  "mode": "lines",
                  "name": "Existing Forecast",
                  "type": "scatter",
                  "x": [
                    "2025-08-01T00:00:00.000000000",
                    "2025-09-01T00:00:00.000000000",
                    "2025-10-01T00:00:00.000000000",
                    "2025-11-01T00:00:00.000000000",
                    "2025-12-01T00:00:00.000000000",
                    "2026-01-01T00:00:00.000000000",
                    "2026-02-01T00:00:00.000000000",
                    "2026-03-01T00:00:00.000000000",
                    "2026-04-01T00:00:00.000000000",
                    "2026-05-01T00:00:00.000000000",
                    "2026-06-01T00:00:00.000000000",
                    "2026-07-01T00:00:00.000000000",
                    "2026-08-01T00:00:00.000000000",
                    "2026-09-01T00:00:00.000000000",
                    "2026-10-01T00:00:00.000000000",
                    "2026-11-01T00:00:00.000000000",
                    "2026-12-01T00:00:00.000000000",
                    "2027-01-01T00:00:00.000000000",
                    "2027-02-01T00:00:00.000000000",
                    "2027-03-01T00:00:00.000000000",
                    "2027-04-01T00:00:00.000000000",
                    "2027-05-01T00:00:00.000000000",
                    "2027-06-01T00:00:00.000000000",
                    "2027-07-01T00:00:00.000000000",
                    "2027-08-01T00:00:00.000000000",
                    "2027-09-01T00:00:00.000000000",
                    "2027-10-01T00:00:00.000000000",
                    "2027-11-01T00:00:00.000000000",
                    "2027-12-01T00:00:00.000000000"
                  ],
                  "y": {
                    "bdata": "8Ritd423pUCEg5mY346gQGEi8CvEBKpAoIWvlb3QqUD4CmHdDDurQKAXEZoR+aRA6caOu9ZQpkDHXVfdKkynQIk+RLBApKhASEixI621pkD9vJQjfrKlQDJGzDvRrqVABIvrJieRpUCaFeOMrR+lQFDzRaQuAqhAEONrF5Ngp0AJ0SuZgemnQJ/f4R4mTqVA5l4HQb84pkB1fiJxLOimQLsx+UYH86dAnYQkBDmZpkABDocscUemQFy1Ts/CE6ZAyYM4/eshpkC2kM6NSOWkQN4KgAxmf6lAg6MVZzJLqUB24s3zxQmqQA==",
                    "dtype": "f8"
                  }
                },
                {
                  "mode": "lines",
                  "name": "RF",
                  "type": "scatter",
                  "x": [
                    "2025-08-01T00:00:00.000000000",
                    "2025-09-01T00:00:00.000000000",
                    "2025-10-01T00:00:00.000000000",
                    "2025-11-01T00:00:00.000000000",
                    "2025-12-01T00:00:00.000000000",
                    "2026-01-01T00:00:00.000000000",
                    "2026-02-01T00:00:00.000000000",
                    "2026-03-01T00:00:00.000000000",
                    "2026-04-01T00:00:00.000000000",
                    "2026-05-01T00:00:00.000000000",
                    "2026-06-01T00:00:00.000000000",
                    "2026-07-01T00:00:00.000000000",
                    "2026-08-01T00:00:00.000000000",
                    "2026-09-01T00:00:00.000000000",
                    "2026-10-01T00:00:00.000000000",
                    "2026-11-01T00:00:00.000000000",
                    "2026-12-01T00:00:00.000000000",
                    "2027-01-01T00:00:00.000000000",
                    "2027-02-01T00:00:00.000000000",
                    "2027-03-01T00:00:00.000000000",
                    "2027-04-01T00:00:00.000000000",
                    "2027-05-01T00:00:00.000000000",
                    "2027-06-01T00:00:00.000000000",
                    "2027-07-01T00:00:00.000000000",
                    "2027-08-01T00:00:00.000000000",
                    "2027-09-01T00:00:00.000000000",
                    "2027-10-01T00:00:00.000000000",
                    "2027-11-01T00:00:00.000000000",
                    "2027-12-01T00:00:00.000000000"
                  ],
                  "y": {
                    "bdata": "5XkVifAPqEA41hunIA2pQAC9XVB6hahAumTVfdUHqEAy41kbE6moQFQVzBVELKdAs/JeigDkpkBhkut9rEOnQJE4LAc/L6hAYxYzwFiDp0CrSZ02P7inQH4cWcsdSahABUtiZh0MqED1mL8vLIynQCP4h8mEsKdA6ngdPTTEp0BbRDCm9/mnQMnChRgvZadAImqxXwyWp0ADc5r45MinQIXfLsrHBKhAjEPQ0qvSp0DL0T9KnMynQHqrvn+UradApH9NECTSp0D2gx0xdZOnQKEEoQ0P0qdAqWyN25bJp0DTqJM0SyOoQA==",
                    "dtype": "f8"
                  }
                },
                {
                  "mode": "lines",
                  "name": "SARIMAX",
                  "type": "scatter",
                  "x": [
                    "2025-08-01T00:00:00.000000000",
                    "2025-09-01T00:00:00.000000000",
                    "2025-10-01T00:00:00.000000000",
                    "2025-11-01T00:00:00.000000000",
                    "2025-12-01T00:00:00.000000000",
                    "2026-01-01T00:00:00.000000000",
                    "2026-02-01T00:00:00.000000000",
                    "2026-03-01T00:00:00.000000000",
                    "2026-04-01T00:00:00.000000000",
                    "2026-05-01T00:00:00.000000000",
                    "2026-06-01T00:00:00.000000000",
                    "2026-07-01T00:00:00.000000000",
                    "2026-08-01T00:00:00.000000000",
                    "2026-09-01T00:00:00.000000000",
                    "2026-10-01T00:00:00.000000000",
                    "2026-11-01T00:00:00.000000000",
                    "2026-12-01T00:00:00.000000000",
                    "2027-01-01T00:00:00.000000000",
                    "2027-02-01T00:00:00.000000000",
                    "2027-03-01T00:00:00.000000000",
                    "2027-04-01T00:00:00.000000000",
                    "2027-05-01T00:00:00.000000000",
                    "2027-06-01T00:00:00.000000000",
                    "2027-07-01T00:00:00.000000000",
                    "2027-08-01T00:00:00.000000000",
                    "2027-09-01T00:00:00.000000000",
                    "2027-10-01T00:00:00.000000000",
                    "2027-11-01T00:00:00.000000000",
                    "2027-12-01T00:00:00.000000000"
                  ],
                  "y": {
                    "bdata": "mrzpDGQcpkBuU5fjMqumQINncE6pHqlAHvsAcatDqEBS37p3vfCpQJzZP5V9VqhArdicrvtIp0B9kY/GwW+nQLTsiEVpY6lA6y3ASJdLp0DjPuugjLWlQGzscoRPEKZAuSf0t48Ep0CIn28JtJylQEDCU/VzSahAe4Zmc2ZJqUC/eBVHVCmqQE1e1Gm0/aZAY49Ntz83p0BQNBAzBoGoQEuqA92z2KhAGbXDjL8kpkC3SZcKqFOmQCc6NnlzuaZApCKnxhXupUBDSEr2zQelQInAUJ/WQqlA75Ec3cxGqUDrEQG1Nu+oQA==",
                    "dtype": "f8"
                  }
                },
                {
                  "mode": "lines",
                  "name": "XGB",
                  "type": "scatter",
                  "x": [
                    "2025-08-01T00:00:00.000000000",
                    "2025-09-01T00:00:00.000000000",
                    "2025-10-01T00:00:00.000000000",
                    "2025-11-01T00:00:00.000000000",
                    "2025-12-01T00:00:00.000000000",
                    "2026-01-01T00:00:00.000000000",
                    "2026-02-01T00:00:00.000000000",
                    "2026-03-01T00:00:00.000000000",
                    "2026-04-01T00:00:00.000000000",
                    "2026-05-01T00:00:00.000000000",
                    "2026-06-01T00:00:00.000000000",
                    "2026-07-01T00:00:00.000000000",
                    "2026-08-01T00:00:00.000000000",
                    "2026-09-01T00:00:00.000000000",
                    "2026-10-01T00:00:00.000000000",
                    "2026-11-01T00:00:00.000000000",
                    "2026-12-01T00:00:00.000000000",
                    "2027-01-01T00:00:00.000000000",
                    "2027-02-01T00:00:00.000000000",
                    "2027-03-01T00:00:00.000000000",
                    "2027-04-01T00:00:00.000000000",
                    "2027-05-01T00:00:00.000000000",
                    "2027-06-01T00:00:00.000000000",
                    "2027-07-01T00:00:00.000000000",
                    "2027-08-01T00:00:00.000000000",
                    "2027-09-01T00:00:00.000000000",
                    "2027-10-01T00:00:00.000000000",
                    "2027-11-01T00:00:00.000000000",
                    "2027-12-01T00:00:00.000000000"
                  ],
                  "y": {
                    "bdata": "7qoqRfAZPUUsSE5FDRJGRYmXSUWt1kBF3OI1RV4tN0WAvzhFFOQ9RVn8M0VQ4DlF+59JRc2iREWl70NFa3w7RfgzPUWpNjhFBhg9RSEAOkWNSEhFDRtARb3sQkVnkDxFw803RQ/hPkX1SjtFZPRBRWPVQEU=",
                    "dtype": "f4"
                  }
                }
              ],
              "layout": {
                "legend": {
                  "orientation": "h",
                  "x": 0,
                  "xanchor": "left",
                  "y": 1.02,
                  "yanchor": "bottom"
                },
                "template": {
                  "data": {
                    "bar": [
                      {
                        "error_x": {
                          "color": "#2a3f5f"
                        },
                        "error_y": {
                          "color": "#2a3f5f"
                        },
                        "marker": {
                          "line": {
                            "color": "white",
                            "width": 0.5
                          },
                          "pattern": {
                            "fillmode": "overlay",
                            "size": 10,
                            "solidity": 0.2
                          }
                        },
                        "type": "bar"
                      }
                    ],
                    "barpolar": [
                      {
                        "marker": {
                          "line": {
                            "color": "white",
                            "width": 0.5
                          },
                          "pattern": {
                            "fillmode": "overlay",
                            "size": 10,
                            "solidity": 0.2
                          }
                        },
                        "type": "barpolar"
                      }
                    ],
                    "carpet": [
                      {
                        "aaxis": {
                          "endlinecolor": "#2a3f5f",
                          "gridcolor": "#C8D4E3",
                          "linecolor": "#C8D4E3",
                          "minorgridcolor": "#C8D4E3",
                          "startlinecolor": "#2a3f5f"
                        },
                        "baxis": {
                          "endlinecolor": "#2a3f5f",
                          "gridcolor": "#C8D4E3",
                          "linecolor": "#C8D4E3",
                          "minorgridcolor": "#C8D4E3",
                          "startlinecolor": "#2a3f5f"
                        },
                        "type": "carpet"
                      }
                    ],
                    "choropleth": [
                      {
                        "colorbar": {
                          "outlinewidth": 0,
                          "ticks": ""
                        },
                        "type": "choropleth"
                      }
                    ],
                    "contour": [
                      {
                        "colorbar": {
                          "outlinewidth": 0,
                          "ticks": ""
                        },
                        "colorscale": [
                          [
                            0,
                            "#0d0887"
                          ],
                          [
                            0.1111111111111111,
                            "#46039f"
                          ],
                          [
                            0.2222222222222222,
                            "#7201a8"
                          ],
                          [
                            0.3333333333333333,
                            "#9c179e"
                          ],
                          [
                            0.4444444444444444,
                            "#bd3786"
                          ],
                          [
                            0.5555555555555556,
                            "#d8576b"
                          ],
                          [
                            0.6666666666666666,
                            "#ed7953"
                          ],
                          [
                            0.7777777777777778,
                            "#fb9f3a"
                          ],
                          [
                            0.8888888888888888,
                            "#fdca26"
                          ],
                          [
                            1,
                            "#f0f921"
                          ]
                        ],
                        "type": "contour"
                      }
                    ],
                    "contourcarpet": [
                      {
                        "colorbar": {
                          "outlinewidth": 0,
                          "ticks": ""
                        },
                        "type": "contourcarpet"
                      }
                    ],
                    "heatmap": [
                      {
                        "colorbar": {
                          "outlinewidth": 0,
                          "ticks": ""
                        },
                        "colorscale": [
                          [
                            0,
                            "#0d0887"
                          ],
                          [
                            0.1111111111111111,
                            "#46039f"
                          ],
                          [
                            0.2222222222222222,
                            "#7201a8"
                          ],
                          [
                            0.3333333333333333,
                            "#9c179e"
                          ],
                          [
                            0.4444444444444444,
                            "#bd3786"
                          ],
                          [
                            0.5555555555555556,
                            "#d8576b"
                          ],
                          [
                            0.6666666666666666,
                            "#ed7953"
                          ],
                          [
                            0.7777777777777778,
                            "#fb9f3a"
                          ],
                          [
                            0.8888888888888888,
                            "#fdca26"
                          ],
                          [
                            1,
                            "#f0f921"
                          ]
                        ],
                        "type": "heatmap"
                      }
                    ],
                    "histogram": [
                      {
                        "marker": {
                          "pattern": {
                            "fillmode": "overlay",
                            "size": 10,
                            "solidity": 0.2
                          }
                        },
                        "type": "histogram"
                      }
                    ],
                    "histogram2d": [
                      {
                        "colorbar": {
                          "outlinewidth": 0,
                          "ticks": ""
                        },
                        "colorscale": [
                          [
                            0,
                            "#0d0887"
                          ],
                          [
                            0.1111111111111111,
                            "#46039f"
                          ],
                          [
                            0.2222222222222222,
                            "#7201a8"
                          ],
                          [
                            0.3333333333333333,
                            "#9c179e"
                          ],
                          [
                            0.4444444444444444,
                            "#bd3786"
                          ],
                          [
                            0.5555555555555556,
                            "#d8576b"
                          ],
                          [
                            0.6666666666666666,
                            "#ed7953"
                          ],
                          [
                            0.7777777777777778,
                            "#fb9f3a"
                          ],
                          [
                            0.8888888888888888,
                            "#fdca26"
                          ],
                          [
                            1,
                            "#f0f921"
                          ]
                        ],
                        "type": "histogram2d"
                      }
                    ],
                    "histogram2dcontour": [
                      {
                        "colorbar": {
                          "outlinewidth": 0,
                          "ticks": ""
                        },
                        "colorscale": [
                          [
                            0,
                            "#0d0887"
                          ],
                          [
                            0.1111111111111111,
                            "#46039f"
                          ],
                          [
                            0.2222222222222222,
                            "#7201a8"
                          ],
                          [
                            0.3333333333333333,
                            "#9c179e"
                          ],
                          [
                            0.4444444444444444,
                            "#bd3786"
                          ],
                          [
                            0.5555555555555556,
                            "#d8576b"
                          ],
                          [
                            0.6666666666666666,
                            "#ed7953"
                          ],
                          [
                            0.7777777777777778,
                            "#fb9f3a"
                          ],
                          [
                            0.8888888888888888,
                            "#fdca26"
                          ],
                          [
                            1,
                            "#f0f921"
                          ]
                        ],
                        "type": "histogram2dcontour"
                      }
                    ],
                    "mesh3d": [
                      {
                        "colorbar": {
                          "outlinewidth": 0,
                          "ticks": ""
                        },
                        "type": "mesh3d"
                      }
                    ],
                    "parcoords": [
                      {
                        "line": {
                          "colorbar": {
                            "outlinewidth": 0,
                            "ticks": ""
                          }
                        },
                        "type": "parcoords"
                      }
                    ],
                    "pie": [
                      {
                        "automargin": true,
                        "type": "pie"
                      }
                    ],
                    "scatter": [
                      {
                        "fillpattern": {
                          "fillmode": "overlay",
                          "size": 10,
                          "solidity": 0.2
                        },
                        "type": "scatter"
                      }
                    ],
                    "scatter3d": [
                      {
                        "line": {
                          "colorbar": {
                            "outlinewidth": 0,
                            "ticks": ""
                          }
                        },
                        "marker": {
                          "colorbar": {
                            "outlinewidth": 0,
                            "ticks": ""
                          }
                        },
                        "type": "scatter3d"
                      }
                    ],
                    "scattercarpet": [
                      {
                        "marker": {
                          "colorbar": {
                            "outlinewidth": 0,
                            "ticks": ""
                          }
                        },
                        "type": "scattercarpet"
                      }
                    ],
                    "scattergeo": [
                      {
                        "marker": {
                          "colorbar": {
                            "outlinewidth": 0,
                            "ticks": ""
                          }
                        },
                        "type": "scattergeo"
                      }
                    ],
                    "scattergl": [
                      {
                        "marker": {
                          "colorbar": {
                            "outlinewidth": 0,
                            "ticks": ""
                          }
                        },
                        "type": "scattergl"
                      }
                    ],
                    "scattermap": [
                      {
                        "marker": {
                          "colorbar": {
                            "outlinewidth": 0,
                            "ticks": ""
                          }
                        },
                        "type": "scattermap"
                      }
                    ],
                    "scattermapbox": [
                      {
                        "marker": {
                          "colorbar": {
                            "outlinewidth": 0,
                            "ticks": ""
                          }
                        },
                        "type": "scattermapbox"
                      }
                    ],
                    "scatterpolar": [
                      {
                        "marker": {
                          "colorbar": {
                            "outlinewidth": 0,
                            "ticks": ""
                          }
                        },
                        "type": "scatterpolar"
                      }
                    ],
                    "scatterpolargl": [
                      {
                        "marker": {
                          "colorbar": {
                            "outlinewidth": 0,
                            "ticks": ""
                          }
                        },
                        "type": "scatterpolargl"
                      }
                    ],
                    "scatterternary": [
                      {
                        "marker": {
                          "colorbar": {
                            "outlinewidth": 0,
                            "ticks": ""
                          }
                        },
                        "type": "scatterternary"
                      }
                    ],
                    "surface": [
                      {
                        "colorbar": {
                          "outlinewidth": 0,
                          "ticks": ""
                        },
                        "colorscale": [
                          [
                            0,
                            "#0d0887"
                          ],
                          [
                            0.1111111111111111,
                            "#46039f"
                          ],
                          [
                            0.2222222222222222,
                            "#7201a8"
                          ],
                          [
                            0.3333333333333333,
                            "#9c179e"
                          ],
                          [
                            0.4444444444444444,
                            "#bd3786"
                          ],
                          [
                            0.5555555555555556,
                            "#d8576b"
                          ],
                          [
                            0.6666666666666666,
                            "#ed7953"
                          ],
                          [
                            0.7777777777777778,
                            "#fb9f3a"
                          ],
                          [
                            0.8888888888888888,
                            "#fdca26"
                          ],
                          [
                            1,
                            "#f0f921"
                          ]
                        ],
                        "type": "surface"
                      }
                    ],
                    "table": [
                      {
                        "cells": {
                          "fill": {
                            "color": "#EBF0F8"
                          },
                          "line": {
                            "color": "white"
                          }
                        },
                        "header": {
                          "fill": {
                            "color": "#C8D4E3"
                          },
                          "line": {
                            "color": "white"
                          }
                        },
                        "type": "table"
                      }
                    ]
                  },
                  "layout": {
                    "annotationdefaults": {
                      "arrowcolor": "#2a3f5f",
                      "arrowhead": 0,
                      "arrowwidth": 1
                    },
                    "autotypenumbers": "strict",
                    "coloraxis": {
                      "colorbar": {
                        "outlinewidth": 0,
                        "ticks": ""
                      }
                    },
                    "colorscale": {
                      "diverging": [
                        [
                          0,
                          "#8e0152"
                        ],
                        [
                          0.1,
                          "#c51b7d"
                        ],
                        [
                          0.2,
                          "#de77ae"
                        ],
                        [
                          0.3,
                          "#f1b6da"
                        ],
                        [
                          0.4,
                          "#fde0ef"
                        ],
                        [
                          0.5,
                          "#f7f7f7"
                        ],
                        [
                          0.6,
                          "#e6f5d0"
                        ],
                        [
                          0.7,
                          "#b8e186"
                        ],
                        [
                          0.8,
                          "#7fbc41"
                        ],
                        [
                          0.9,
                          "#4d9221"
                        ],
                        [
                          1,
                          "#276419"
                        ]
                      ],
                      "sequential": [
                        [
                          0,
                          "#0d0887"
                        ],
                        [
                          0.1111111111111111,
                          "#46039f"
                        ],
                        [
                          0.2222222222222222,
                          "#7201a8"
                        ],
                        [
                          0.3333333333333333,
                          "#9c179e"
                        ],
                        [
                          0.4444444444444444,
                          "#bd3786"
                        ],
                        [
                          0.5555555555555556,
                          "#d8576b"
                        ],
                        [
                          0.6666666666666666,
                          "#ed7953"
                        ],
                        [
                          0.7777777777777778,
                          "#fb9f3a"
                        ],
                        [
                          0.8888888888888888,
                          "#fdca26"
                        ],
                        [
                          1,
                          "#f0f921"
                        ]
                      ],
                      "sequentialminus": [
                        [
                          0,
                          "#0d0887"
                        ],
                        [
                          0.1111111111111111,
                          "#46039f"
                        ],
                        [
                          0.2222222222222222,
                          "#7201a8"
                        ],
                        [
                          0.3333333333333333,
                          "#9c179e"
                        ],
                        [
                          0.4444444444444444,
                          "#bd3786"
                        ],
                        [
                          0.5555555555555556,
                          "#d8576b"
                        ],
                        [
                          0.6666666666666666,
                          "#ed7953"
                        ],
                        [
                          0.7777777777777778,
                          "#fb9f3a"
                        ],
                        [
                          0.8888888888888888,
                          "#fdca26"
                        ],
                        [
                          1,
                          "#f0f921"
                        ]
                      ]
                    },
                    "colorway": [
                      "#636efa",
                      "#EF553B",
                      "#00cc96",
                      "#ab63fa",
                      "#FFA15A",
                      "#19d3f3",
                      "#FF6692",
                      "#B6E880",
                      "#FF97FF",
                      "#FECB52"
                    ],
                    "font": {
                      "color": "#2a3f5f"
                    },
                    "geo": {
                      "bgcolor": "white",
                      "lakecolor": "white",
                      "landcolor": "white",
                      "showlakes": true,
                      "showland": true,
                      "subunitcolor": "#C8D4E3"
                    },
                    "hoverlabel": {
                      "align": "left"
                    },
                    "hovermode": "closest",
                    "mapbox": {
                      "style": "light"
                    },
                    "paper_bgcolor": "white",
                    "plot_bgcolor": "white",
                    "polar": {
                      "angularaxis": {
                        "gridcolor": "#EBF0F8",
                        "linecolor": "#EBF0F8",
                        "ticks": ""
                      },
                      "bgcolor": "white",
                      "radialaxis": {
                        "gridcolor": "#EBF0F8",
                        "linecolor": "#EBF0F8",
                        "ticks": ""
                      }
                    },
                    "scene": {
                      "xaxis": {
                        "backgroundcolor": "white",
                        "gridcolor": "#DFE8F3",
                        "gridwidth": 2,
                        "linecolor": "#EBF0F8",
                        "showbackground": true,
                        "ticks": "",
                        "zerolinecolor": "#EBF0F8"
                      },
                      "yaxis": {
                        "backgroundcolor": "white",
                        "gridcolor": "#DFE8F3",
                        "gridwidth": 2,
                        "linecolor": "#EBF0F8",
                        "showbackground": true,
                        "ticks": "",
                        "zerolinecolor": "#EBF0F8"
                      },
                      "zaxis": {
                        "backgroundcolor": "white",
                        "gridcolor": "#DFE8F3",
                        "gridwidth": 2,
                        "linecolor": "#EBF0F8",
                        "showbackground": true,
                        "ticks": "",
                        "zerolinecolor": "#EBF0F8"
                      }
                    },
                    "shapedefaults": {
                      "line": {
                        "color": "#2a3f5f"
                      }
                    },
                    "ternary": {
                      "aaxis": {
                        "gridcolor": "#DFE8F3",
                        "linecolor": "#A2B1C6",
                        "ticks": ""
                      },
                      "baxis": {
                        "gridcolor": "#DFE8F3",
                        "linecolor": "#A2B1C6",
                        "ticks": ""
                      },
                      "bgcolor": "white",
                      "caxis": {
                        "gridcolor": "#DFE8F3",
                        "linecolor": "#A2B1C6",
                        "ticks": ""
                      }
                    },
                    "title": {
                      "x": 0.05
                    },
                    "xaxis": {
                      "automargin": true,
                      "gridcolor": "#EBF0F8",
                      "linecolor": "#EBF0F8",
                      "ticks": "",
                      "title": {
                        "standoff": 15
                      },
                      "zerolinecolor": "#EBF0F8",
                      "zerolinewidth": 2
                    },
                    "yaxis": {
                      "automargin": true,
                      "gridcolor": "#EBF0F8",
                      "linecolor": "#EBF0F8",
                      "ticks": "",
                      "title": {
                        "standoff": 15
                      },
                      "zerolinecolor": "#EBF0F8",
                      "zerolinewidth": 2
                    }
                  }
                },
                "title": {
                  "text": "Advanced forecasts for Algeria"
                },
                "xaxis": {
                  "title": {
                    "text": "Date"
                  }
                },
                "yaxis": {
                  "title": {
                    "text": "Volume"
                  }
                }
              }
            }
          },
          "metadata": {},
          "output_type": "display_data"
        }
      ],
      "source": [
        "# --- Generate advanced forecasts (aligned with df_forecast_period) ---\n",
        "# Requires: routes, df_history (or speedsheet), df_forecast_period, FREQ\n",
        "if 'df_forecast_period' in globals() and len(df_forecast_period) > 0:\n",
        "    horizon_adv = len(df_forecast_period)\n",
        "    future_idx = df_forecast_period.index\n",
        "else:\n",
        "    last_observed = df_history.index.max() if 'df_history' in globals() else speedsheet.index.max()\n",
        "    future_idx = pd.date_range(last_observed + pd.offsets.MonthBegin(1), periods=FORECAST_HORIZON, freq=FREQ)\n",
        "    horizon_adv = FORECAST_HORIZON\n",
        "adv = {}\n",
        "for route in routes:\n",
        "    series = df_history[route] if 'df_history' in globals() else speedsheet[route]\n",
        "    series = series.asfreq(FREQ)\n",
        "    # SARIMAX\n",
        "    model, order, seas, aic = fit_sarimax_quick(series, m=12)\n",
        "    if model is not None:\n",
        "        sar = model.get_forecast(steps=horizon_adv).predicted_mean\n",
        "        sar.index = future_idx\n",
        "        adv[(route, 'SARIMAX')] = sar\n",
        "    # XGBoost\n",
        "    try:\n",
        "        xgb = forecast_ml_recursive(series, horizon_adv, model='xgb', lags=12)\n",
        "        xgb.index = future_idx\n",
        "        adv[(route, 'XGB')] = xgb\n",
        "    except Exception as e:\n",
        "        print(f\"XGB failed for {route}: {e}\")\n",
        "    # RandomForest\n",
        "    try:\n",
        "        rf = forecast_ml_recursive(series, horizon_adv, model='rf', lags=12)\n",
        "        rf.index = future_idx\n",
        "        adv[(route, 'RF')] = rf\n",
        "    except Exception as e:\n",
        "        print(f\"RF failed for {route}: {e}\")\n",
        "    # NeuralProphet (optional)\n",
        "    np_fc = forecast_neuralprophet(series, horizon_adv)\n",
        "    if np_fc is not None:\n",
        "        np_fc.index = future_idx\n",
        "        adv[(route, 'NeuralProphet')] = np_fc\n",
        "\n",
        "# assemble dataframe\n",
        "methods_adv = sorted(set(m for _, m in adv.keys()))\n",
        "frames = []\n",
        "for m in methods_adv:\n",
        "    df_m = pd.DataFrame({r: adv[(r, m)] for r in routes if (r, m) in adv}, index=future_idx)\n",
        "    df_m.columns = pd.MultiIndex.from_product([[m], df_m.columns])\n",
        "    frames.append(df_m)\n",
        "adv_df = pd.concat(frames, axis=1).sort_index(axis=1) if frames else pd.DataFrame(index=future_idx)\n",
        "adv_df.columns = [f\"{m}_{r}\" for m, r in adv_df.columns] if not adv_df.empty else adv_df.columns\n",
        "out_csv = OUTPUT_DIR / \"advanced_forecasts.csv\"\n",
        "adv_df.to_csv(out_csv)\n",
        "print(\"Saved advanced forecasts to:\", out_csv)\n",
        "\n",
        "# quick example plot (Plotly)\n",
        "route_example = routes[0] if routes else None\n",
        "if route_example is not None:\n",
        "    import plotly.graph_objects as go\n",
        "    fig = go.Figure()\n",
        "    # Actuals\n",
        "    hist_series = (df_history[route_example] if 'df_history' in globals() else speedsheet[route_example])\n",
        "    fig.add_trace(go.Scatter(x=hist_series.index, y=hist_series.values, mode='lines', name='Actual', line=dict(color='#1f77b4')))\n",
        "    # Existing forecast (if present)\n",
        "    if 'df_forecast_period' in globals() and route_example in df_forecast_period.columns:\n",
        "        ref_series = df_forecast_period[route_example]\n",
        "        fig.add_trace(go.Scatter(x=ref_series.index, y=ref_series.values, mode='lines', name='Existing Forecast', line=dict(color='#ff7f0e', dash='dash')))\n",
        "    # Advanced methods\n",
        "    for m in methods_adv:\n",
        "        col = f\"{m}_{route_example}\"\n",
        "        if col in adv_df.columns:\n",
        "            series = adv_df[col]\n",
        "            fig.add_trace(go.Scatter(x=series.index, y=series.values, mode='lines', name=m))\n",
        "    fig.update_layout(\n",
        "        title=f\"Advanced forecasts for {route_example}\",\n",
        "        xaxis_title='Date',\n",
        "        yaxis_title='Volume',\n",
        "        template='plotly_white',\n",
        "        legend=dict(orientation='h', yanchor='bottom', y=1.02, xanchor='left', x=0)\n",
        "    )\n",
        "    out_html = OUTPUT_DIR / f\"advanced_comparison_{route_example}.html\"\n",
        "    fig.write_html(str(out_html))\n",
        "    print(\"Saved advanced comparison (Plotly) to:\", out_html)\n",
        "    fig.show()\n",
        "else:\n",
        "    print(\"No routes detected.\")"
      ]
    },
    {
      "cell_type": "code",
      "execution_count": 38,
      "metadata": {},
      "outputs": [
        {
          "name": "stdout",
          "output_type": "stream",
          "text": [
            "Saved dropdown comparison (Plotly) to: forecasts_outputs\\advanced_comparison_dropdown.html\n"
          ]
        },
        {
          "data": {
            "application/vnd.plotly.v1+json": {
              "config": {
                "plotlyServerURL": "https://plot.ly"
              },
              "data": [
                {
                  "line": {
                    "color": "#1f77b4"
                  },
                  "mode": "lines",
                  "name": "Actual (Algeria)",
                  "type": "scatter",
                  "visible": true,
                  "x": [
                    "2018-01-01T00:00:00.000000000",
                    "2018-02-01T00:00:00.000000000",
                    "2018-03-01T00:00:00.000000000",
                    "2018-04-01T00:00:00.000000000",
                    "2018-05-01T00:00:00.000000000",
                    "2018-06-01T00:00:00.000000000",
                    "2018-07-01T00:00:00.000000000",
                    "2018-08-01T00:00:00.000000000",
                    "2018-09-01T00:00:00.000000000",
                    "2018-10-01T00:00:00.000000000",
                    "2018-11-01T00:00:00.000000000",
                    "2018-12-01T00:00:00.000000000",
                    "2019-01-01T00:00:00.000000000",
                    "2019-02-01T00:00:00.000000000",
                    "2019-03-01T00:00:00.000000000",
                    "2019-04-01T00:00:00.000000000",
                    "2019-05-01T00:00:00.000000000",
                    "2019-06-01T00:00:00.000000000",
                    "2019-07-01T00:00:00.000000000",
                    "2019-08-01T00:00:00.000000000",
                    "2019-09-01T00:00:00.000000000",
                    "2019-10-01T00:00:00.000000000",
                    "2019-11-01T00:00:00.000000000",
                    "2019-12-01T00:00:00.000000000",
                    "2020-01-01T00:00:00.000000000",
                    "2020-02-01T00:00:00.000000000",
                    "2020-03-01T00:00:00.000000000",
                    "2020-04-01T00:00:00.000000000",
                    "2020-05-01T00:00:00.000000000",
                    "2020-06-01T00:00:00.000000000",
                    "2020-07-01T00:00:00.000000000",
                    "2020-08-01T00:00:00.000000000",
                    "2020-09-01T00:00:00.000000000",
                    "2020-10-01T00:00:00.000000000",
                    "2020-11-01T00:00:00.000000000",
                    "2020-12-01T00:00:00.000000000",
                    "2021-01-01T00:00:00.000000000",
                    "2021-02-01T00:00:00.000000000",
                    "2021-03-01T00:00:00.000000000",
                    "2021-04-01T00:00:00.000000000",
                    "2021-05-01T00:00:00.000000000",
                    "2021-06-01T00:00:00.000000000",
                    "2021-07-01T00:00:00.000000000",
                    "2021-08-01T00:00:00.000000000",
                    "2021-09-01T00:00:00.000000000",
                    "2021-10-01T00:00:00.000000000",
                    "2021-11-01T00:00:00.000000000",
                    "2021-12-01T00:00:00.000000000",
                    "2022-01-01T00:00:00.000000000",
                    "2022-02-01T00:00:00.000000000",
                    "2022-03-01T00:00:00.000000000",
                    "2022-04-01T00:00:00.000000000",
                    "2022-05-01T00:00:00.000000000",
                    "2022-06-01T00:00:00.000000000",
                    "2022-07-01T00:00:00.000000000",
                    "2022-08-01T00:00:00.000000000",
                    "2022-09-01T00:00:00.000000000",
                    "2022-10-01T00:00:00.000000000",
                    "2022-11-01T00:00:00.000000000",
                    "2022-12-01T00:00:00.000000000",
                    "2023-01-01T00:00:00.000000000",
                    "2023-02-01T00:00:00.000000000",
                    "2023-03-01T00:00:00.000000000",
                    "2023-04-01T00:00:00.000000000",
                    "2023-05-01T00:00:00.000000000",
                    "2023-06-01T00:00:00.000000000",
                    "2023-07-01T00:00:00.000000000",
                    "2023-08-01T00:00:00.000000000",
                    "2023-09-01T00:00:00.000000000",
                    "2023-10-01T00:00:00.000000000",
                    "2023-11-01T00:00:00.000000000",
                    "2023-12-01T00:00:00.000000000",
                    "2024-01-01T00:00:00.000000000",
                    "2024-02-01T00:00:00.000000000",
                    "2024-03-01T00:00:00.000000000",
                    "2024-04-01T00:00:00.000000000",
                    "2024-05-01T00:00:00.000000000",
                    "2024-06-01T00:00:00.000000000",
                    "2024-07-01T00:00:00.000000000",
                    "2024-08-01T00:00:00.000000000",
                    "2024-09-01T00:00:00.000000000",
                    "2024-10-01T00:00:00.000000000",
                    "2024-11-01T00:00:00.000000000",
                    "2024-12-01T00:00:00.000000000",
                    "2025-01-01T00:00:00.000000000",
                    "2025-02-01T00:00:00.000000000",
                    "2025-03-01T00:00:00.000000000",
                    "2025-04-01T00:00:00.000000000",
                    "2025-05-01T00:00:00.000000000",
                    "2025-06-01T00:00:00.000000000",
                    "2025-07-01T00:00:00.000000000"
                  ],
                  "y": {
                    "bdata": "0nEvtimPsEBEtr85HvKwQADmc+b2gLBAREUF5xxAqEAB4uINgM6kQIBzfpJIwKZAuFXLaA2VpEDewGb6hGiiQJ4M/JMlIKRAcLgGt+OxqEComsBbq6OpQJTTNP0hS6pAomnLc21CrEDaCo30m7mkQA0jOwEcuZNAeffdezK5m0Bq9i/YwJudQFiyBl0C2plA2qAIxDermkC2UbrwDJOXQNejcD0KtphAgn3reuLzn0CQZ7F+UfahQMZIh9Trv6ZA6lXoOrSioUAMtaZ5B7GYQAy1pnkHsZhA0A5Rl0q8kED5D+m3r1ORQJT2Bl9Y75JAdthgKfvWm0B87JoqkKyeQGwJzfa376FA21xrbqPIqECuU0mGDOypQBt8PCy9gaxA14ZAq0VPqkAolK7g6o2uQDdlEhhw1q5ADLtaHMUXrEDCAVfpPBCtQOB6FK5HP6tAjulEBmk4qUDgYnuFQbmlQAAjvtdTsqZAfLFJXWj/qkAejWP5N1GoQN6iC+mX0qdAxEdvZaOrqEBYfMVX/EWpQAR6I21k2qhAa9RDNBrZqEDnuIoTd8SnQABGyxDtDqZAuQBMBGPupUBWbhK0FJOoQLd1Gyj6nqlAbKswf5r7p0CLJb9YcuGmQA7S2bNYE6xAVVJJlRvPokC0sMb03i+mQI2kAx9tR6dA0gxE+SfTrEDMbYjW+ImmQECnDXTawqZAQgghhBCZqEBhHxf2cc2oQG2g0wY6YKtA9957771UqEADnTbQ6cmmQCmllFJKIadAMzMzMzPbo0DKyFg6ceqjQEc2TAiU06hAD5wzonTEqkAm4ZBFARmpQCYJr0r//adA2BZxv6lvpkBMvcf9NyWmQBC3MPhxVqBAOLTIdr62qUAyTetJs/OqQIrgwo35hqdAOPyuiwHYqECWS38MWnepQLlyyfaHnadAeAVZTnZup0BmvyqsqQanQAIJEUEVb6dA+aJc4ICOpUA=",
                    "dtype": "f8"
                  }
                },
                {
                  "line": {
                    "color": "#ff7f0e",
                    "dash": "dash"
                  },
                  "mode": "lines",
                  "name": "Existing (Algeria)",
                  "type": "scatter",
                  "visible": true,
                  "x": [
                    "2025-08-01T00:00:00.000000000",
                    "2025-09-01T00:00:00.000000000",
                    "2025-10-01T00:00:00.000000000",
                    "2025-11-01T00:00:00.000000000",
                    "2025-12-01T00:00:00.000000000",
                    "2026-01-01T00:00:00.000000000",
                    "2026-02-01T00:00:00.000000000",
                    "2026-03-01T00:00:00.000000000",
                    "2026-04-01T00:00:00.000000000",
                    "2026-05-01T00:00:00.000000000",
                    "2026-06-01T00:00:00.000000000",
                    "2026-07-01T00:00:00.000000000",
                    "2026-08-01T00:00:00.000000000",
                    "2026-09-01T00:00:00.000000000",
                    "2026-10-01T00:00:00.000000000",
                    "2026-11-01T00:00:00.000000000",
                    "2026-12-01T00:00:00.000000000",
                    "2027-01-01T00:00:00.000000000",
                    "2027-02-01T00:00:00.000000000",
                    "2027-03-01T00:00:00.000000000",
                    "2027-04-01T00:00:00.000000000",
                    "2027-05-01T00:00:00.000000000",
                    "2027-06-01T00:00:00.000000000",
                    "2027-07-01T00:00:00.000000000",
                    "2027-08-01T00:00:00.000000000",
                    "2027-09-01T00:00:00.000000000",
                    "2027-10-01T00:00:00.000000000",
                    "2027-11-01T00:00:00.000000000",
                    "2027-12-01T00:00:00.000000000"
                  ],
                  "y": {
                    "bdata": "8Ritd423pUCEg5mY346gQGEi8CvEBKpAoIWvlb3QqUD4CmHdDDurQKAXEZoR+aRA6caOu9ZQpkDHXVfdKkynQIk+RLBApKhASEixI621pkD9vJQjfrKlQDJGzDvRrqVABIvrJieRpUCaFeOMrR+lQFDzRaQuAqhAEONrF5Ngp0AJ0SuZgemnQJ/f4R4mTqVA5l4HQb84pkB1fiJxLOimQLsx+UYH86dAnYQkBDmZpkABDocscUemQFy1Ts/CE6ZAyYM4/eshpkC2kM6NSOWkQN4KgAxmf6lAg6MVZzJLqUB24s3zxQmqQA==",
                    "dtype": "f8"
                  }
                },
                {
                  "mode": "lines",
                  "name": "RF (Algeria)",
                  "type": "scatter",
                  "visible": true,
                  "x": [
                    "2025-08-01T00:00:00.000000000",
                    "2025-09-01T00:00:00.000000000",
                    "2025-10-01T00:00:00.000000000",
                    "2025-11-01T00:00:00.000000000",
                    "2025-12-01T00:00:00.000000000",
                    "2026-01-01T00:00:00.000000000",
                    "2026-02-01T00:00:00.000000000",
                    "2026-03-01T00:00:00.000000000",
                    "2026-04-01T00:00:00.000000000",
                    "2026-05-01T00:00:00.000000000",
                    "2026-06-01T00:00:00.000000000",
                    "2026-07-01T00:00:00.000000000",
                    "2026-08-01T00:00:00.000000000",
                    "2026-09-01T00:00:00.000000000",
                    "2026-10-01T00:00:00.000000000",
                    "2026-11-01T00:00:00.000000000",
                    "2026-12-01T00:00:00.000000000",
                    "2027-01-01T00:00:00.000000000",
                    "2027-02-01T00:00:00.000000000",
                    "2027-03-01T00:00:00.000000000",
                    "2027-04-01T00:00:00.000000000",
                    "2027-05-01T00:00:00.000000000",
                    "2027-06-01T00:00:00.000000000",
                    "2027-07-01T00:00:00.000000000",
                    "2027-08-01T00:00:00.000000000",
                    "2027-09-01T00:00:00.000000000",
                    "2027-10-01T00:00:00.000000000",
                    "2027-11-01T00:00:00.000000000",
                    "2027-12-01T00:00:00.000000000"
                  ],
                  "y": {
                    "bdata": "5XkVifAPqEA41hunIA2pQAC9XVB6hahAumTVfdUHqEAy41kbE6moQFQVzBVELKdAs/JeigDkpkBhkut9rEOnQJE4LAc/L6hAYxYzwFiDp0CrSZ02P7inQH4cWcsdSahABUtiZh0MqED1mL8vLIynQCP4h8mEsKdA6ngdPTTEp0BbRDCm9/mnQMnChRgvZadAImqxXwyWp0ADc5r45MinQIXfLsrHBKhAjEPQ0qvSp0DL0T9KnMynQHqrvn+UradApH9NECTSp0D2gx0xdZOnQKEEoQ0P0qdAqWyN25bJp0DTqJM0SyOoQA==",
                    "dtype": "f8"
                  }
                },
                {
                  "mode": "lines",
                  "name": "SARIMAX (Algeria)",
                  "type": "scatter",
                  "visible": true,
                  "x": [
                    "2025-08-01T00:00:00.000000000",
                    "2025-09-01T00:00:00.000000000",
                    "2025-10-01T00:00:00.000000000",
                    "2025-11-01T00:00:00.000000000",
                    "2025-12-01T00:00:00.000000000",
                    "2026-01-01T00:00:00.000000000",
                    "2026-02-01T00:00:00.000000000",
                    "2026-03-01T00:00:00.000000000",
                    "2026-04-01T00:00:00.000000000",
                    "2026-05-01T00:00:00.000000000",
                    "2026-06-01T00:00:00.000000000",
                    "2026-07-01T00:00:00.000000000",
                    "2026-08-01T00:00:00.000000000",
                    "2026-09-01T00:00:00.000000000",
                    "2026-10-01T00:00:00.000000000",
                    "2026-11-01T00:00:00.000000000",
                    "2026-12-01T00:00:00.000000000",
                    "2027-01-01T00:00:00.000000000",
                    "2027-02-01T00:00:00.000000000",
                    "2027-03-01T00:00:00.000000000",
                    "2027-04-01T00:00:00.000000000",
                    "2027-05-01T00:00:00.000000000",
                    "2027-06-01T00:00:00.000000000",
                    "2027-07-01T00:00:00.000000000",
                    "2027-08-01T00:00:00.000000000",
                    "2027-09-01T00:00:00.000000000",
                    "2027-10-01T00:00:00.000000000",
                    "2027-11-01T00:00:00.000000000",
                    "2027-12-01T00:00:00.000000000"
                  ],
                  "y": {
                    "bdata": "mrzpDGQcpkBuU5fjMqumQINncE6pHqlAHvsAcatDqEBS37p3vfCpQJzZP5V9VqhArdicrvtIp0B9kY/GwW+nQLTsiEVpY6lA6y3ASJdLp0DjPuugjLWlQGzscoRPEKZAuSf0t48Ep0CIn28JtJylQEDCU/VzSahAe4Zmc2ZJqUC/eBVHVCmqQE1e1Gm0/aZAY49Ntz83p0BQNBAzBoGoQEuqA92z2KhAGbXDjL8kpkC3SZcKqFOmQCc6NnlzuaZApCKnxhXupUBDSEr2zQelQInAUJ/WQqlA75Ec3cxGqUDrEQG1Nu+oQA==",
                    "dtype": "f8"
                  }
                },
                {
                  "mode": "lines",
                  "name": "XGB (Algeria)",
                  "type": "scatter",
                  "visible": true,
                  "x": [
                    "2025-08-01T00:00:00.000000000",
                    "2025-09-01T00:00:00.000000000",
                    "2025-10-01T00:00:00.000000000",
                    "2025-11-01T00:00:00.000000000",
                    "2025-12-01T00:00:00.000000000",
                    "2026-01-01T00:00:00.000000000",
                    "2026-02-01T00:00:00.000000000",
                    "2026-03-01T00:00:00.000000000",
                    "2026-04-01T00:00:00.000000000",
                    "2026-05-01T00:00:00.000000000",
                    "2026-06-01T00:00:00.000000000",
                    "2026-07-01T00:00:00.000000000",
                    "2026-08-01T00:00:00.000000000",
                    "2026-09-01T00:00:00.000000000",
                    "2026-10-01T00:00:00.000000000",
                    "2026-11-01T00:00:00.000000000",
                    "2026-12-01T00:00:00.000000000",
                    "2027-01-01T00:00:00.000000000",
                    "2027-02-01T00:00:00.000000000",
                    "2027-03-01T00:00:00.000000000",
                    "2027-04-01T00:00:00.000000000",
                    "2027-05-01T00:00:00.000000000",
                    "2027-06-01T00:00:00.000000000",
                    "2027-07-01T00:00:00.000000000",
                    "2027-08-01T00:00:00.000000000",
                    "2027-09-01T00:00:00.000000000",
                    "2027-10-01T00:00:00.000000000",
                    "2027-11-01T00:00:00.000000000",
                    "2027-12-01T00:00:00.000000000"
                  ],
                  "y": {
                    "bdata": "7qoqRfAZPUUsSE5FDRJGRYmXSUWt1kBF3OI1RV4tN0WAvzhFFOQ9RVn8M0VQ4DlF+59JRc2iREWl70NFa3w7RfgzPUWpNjhFBhg9RSEAOkWNSEhFDRtARb3sQkVnkDxFw803RQ/hPkX1SjtFZPRBRWPVQEU=",
                    "dtype": "f4"
                  }
                },
                {
                  "line": {
                    "color": "#1f77b4"
                  },
                  "mode": "lines",
                  "name": "Actual (Libya)",
                  "type": "scatter",
                  "visible": false,
                  "x": [
                    "2018-01-01T00:00:00.000000000",
                    "2018-02-01T00:00:00.000000000",
                    "2018-03-01T00:00:00.000000000",
                    "2018-04-01T00:00:00.000000000",
                    "2018-05-01T00:00:00.000000000",
                    "2018-06-01T00:00:00.000000000",
                    "2018-07-01T00:00:00.000000000",
                    "2018-08-01T00:00:00.000000000",
                    "2018-09-01T00:00:00.000000000",
                    "2018-10-01T00:00:00.000000000",
                    "2018-11-01T00:00:00.000000000",
                    "2018-12-01T00:00:00.000000000",
                    "2019-01-01T00:00:00.000000000",
                    "2019-02-01T00:00:00.000000000",
                    "2019-03-01T00:00:00.000000000",
                    "2019-04-01T00:00:00.000000000",
                    "2019-05-01T00:00:00.000000000",
                    "2019-06-01T00:00:00.000000000",
                    "2019-07-01T00:00:00.000000000",
                    "2019-08-01T00:00:00.000000000",
                    "2019-09-01T00:00:00.000000000",
                    "2019-10-01T00:00:00.000000000",
                    "2019-11-01T00:00:00.000000000",
                    "2019-12-01T00:00:00.000000000",
                    "2020-01-01T00:00:00.000000000",
                    "2020-02-01T00:00:00.000000000",
                    "2020-03-01T00:00:00.000000000",
                    "2020-04-01T00:00:00.000000000",
                    "2020-05-01T00:00:00.000000000",
                    "2020-06-01T00:00:00.000000000",
                    "2020-07-01T00:00:00.000000000",
                    "2020-08-01T00:00:00.000000000",
                    "2020-09-01T00:00:00.000000000",
                    "2020-10-01T00:00:00.000000000",
                    "2020-11-01T00:00:00.000000000",
                    "2020-12-01T00:00:00.000000000",
                    "2021-01-01T00:00:00.000000000",
                    "2021-02-01T00:00:00.000000000",
                    "2021-03-01T00:00:00.000000000",
                    "2021-04-01T00:00:00.000000000",
                    "2021-05-01T00:00:00.000000000",
                    "2021-06-01T00:00:00.000000000",
                    "2021-07-01T00:00:00.000000000",
                    "2021-08-01T00:00:00.000000000",
                    "2021-09-01T00:00:00.000000000",
                    "2021-10-01T00:00:00.000000000",
                    "2021-11-01T00:00:00.000000000",
                    "2021-12-01T00:00:00.000000000",
                    "2022-01-01T00:00:00.000000000",
                    "2022-02-01T00:00:00.000000000",
                    "2022-03-01T00:00:00.000000000",
                    "2022-04-01T00:00:00.000000000",
                    "2022-05-01T00:00:00.000000000",
                    "2022-06-01T00:00:00.000000000",
                    "2022-07-01T00:00:00.000000000",
                    "2022-08-01T00:00:00.000000000",
                    "2022-09-01T00:00:00.000000000",
                    "2022-10-01T00:00:00.000000000",
                    "2022-11-01T00:00:00.000000000",
                    "2022-12-01T00:00:00.000000000",
                    "2023-01-01T00:00:00.000000000",
                    "2023-02-01T00:00:00.000000000",
                    "2023-03-01T00:00:00.000000000",
                    "2023-04-01T00:00:00.000000000",
                    "2023-05-01T00:00:00.000000000",
                    "2023-06-01T00:00:00.000000000",
                    "2023-07-01T00:00:00.000000000",
                    "2023-08-01T00:00:00.000000000",
                    "2023-09-01T00:00:00.000000000",
                    "2023-10-01T00:00:00.000000000",
                    "2023-11-01T00:00:00.000000000",
                    "2023-12-01T00:00:00.000000000",
                    "2024-01-01T00:00:00.000000000",
                    "2024-02-01T00:00:00.000000000",
                    "2024-03-01T00:00:00.000000000",
                    "2024-04-01T00:00:00.000000000",
                    "2024-05-01T00:00:00.000000000",
                    "2024-06-01T00:00:00.000000000",
                    "2024-07-01T00:00:00.000000000",
                    "2024-08-01T00:00:00.000000000",
                    "2024-09-01T00:00:00.000000000",
                    "2024-10-01T00:00:00.000000000",
                    "2024-11-01T00:00:00.000000000",
                    "2024-12-01T00:00:00.000000000",
                    "2025-01-01T00:00:00.000000000",
                    "2025-02-01T00:00:00.000000000",
                    "2025-03-01T00:00:00.000000000",
                    "2025-04-01T00:00:00.000000000",
                    "2025-05-01T00:00:00.000000000",
                    "2025-06-01T00:00:00.000000000",
                    "2025-07-01T00:00:00.000000000"
                  ],
                  "y": {
                    "bdata": "AAAAAABgdkB+jhfx0Ax7QCJjtj0NfoFAaerYWpQWMEBkPjWQQCdvQPNuZ1kdtHxAWD2gpPeMe0Cq4EqEQTp8QC7G6MdIuIJAV0u39uvhgkAqnjsC0DGAQHtoIO7Uo31AP9N7Ve5HfkAOMWkThwV/QF5qgCGHCYFAdhqB9T5FgkA1FgrrUqiDQK7bsRkfn4BACtejcD2CgEDjYAErVqGCQD0K16NwUYBAU/AjagsDgkAhdTy4ffuBQGVRsbIPXoBAPvX1+BGLekAK16NwPaZ5QArXo3A9pnlAulhJ/obag0CmLM9k+0B8QHE9Ctej+HdAeOua5e5PfEBOaGp2iN9xQE0SZtfbQnxAv30sK2nbfkAvLMsKN395QDFyAp+2T3NAlDxIDm+ic0D/MD+uX892QNxEE/C3IndAyrmn9yDQcUBlqPkfNPd2QAY6baDTpmtAuacPrBEhdEBYpQ7mwqF0QD8VEXDgMnFAsTTjoBUMdECu62WzgGd1QF96haRAl21AUZqhitIecEDcMEu9q39hQK4i8SoSD2dAxZJfLPmtckAa0KYBbQJxQHwCrH7anWpAwbvXkIFJbECvVJI8xZVrQK20seZhX2pAlvtfqhQ3dEA9CtejcPdzQG1I2GWEBXVAPVuXZ3sQbkDo0gnqrN5tQGEfF/ZxSXNAbOzBPP59ckBHgl9QHz1xQDIzMzMz425AXkXiVSQOaEChuh2q2xFkQML1KFyP6mpADtXtUN0ubEC0gU4b6EB1QHU7VLdDxWdAoyc4eoIzZ0DcE4oQIc1kQE0JwOa4MGhAKh2s/3P5bkBLHmVVj9BjQFHqpTzNrlJACY6e4OjJUkD7E2g1qiZWQFLdSTEtwVJAiSsvUoyMWkBSliGOdd1jQMyc6yhJDVlAQHOpz1voR0A9mtBLLidGQJwnTPLfb2VAOfxpMo25Y0DHUA/sUMteQI6aLkMbu0xA7BooqVKRSEA=",
                    "dtype": "f8"
                  }
                },
                {
                  "line": {
                    "color": "#ff7f0e",
                    "dash": "dash"
                  },
                  "mode": "lines",
                  "name": "Existing (Libya)",
                  "type": "scatter",
                  "visible": false,
                  "x": [
                    "2025-08-01T00:00:00.000000000",
                    "2025-09-01T00:00:00.000000000",
                    "2025-10-01T00:00:00.000000000",
                    "2025-11-01T00:00:00.000000000",
                    "2025-12-01T00:00:00.000000000",
                    "2026-01-01T00:00:00.000000000",
                    "2026-02-01T00:00:00.000000000",
                    "2026-03-01T00:00:00.000000000",
                    "2026-04-01T00:00:00.000000000",
                    "2026-05-01T00:00:00.000000000",
                    "2026-06-01T00:00:00.000000000",
                    "2026-07-01T00:00:00.000000000",
                    "2026-08-01T00:00:00.000000000",
                    "2026-09-01T00:00:00.000000000",
                    "2026-10-01T00:00:00.000000000",
                    "2026-11-01T00:00:00.000000000",
                    "2026-12-01T00:00:00.000000000",
                    "2027-01-01T00:00:00.000000000",
                    "2027-02-01T00:00:00.000000000",
                    "2027-03-01T00:00:00.000000000",
                    "2027-04-01T00:00:00.000000000",
                    "2027-05-01T00:00:00.000000000",
                    "2027-06-01T00:00:00.000000000",
                    "2027-07-01T00:00:00.000000000",
                    "2027-08-01T00:00:00.000000000",
                    "2027-09-01T00:00:00.000000000",
                    "2027-10-01T00:00:00.000000000",
                    "2027-11-01T00:00:00.000000000",
                    "2027-12-01T00:00:00.000000000"
                  ],
                  "y": {
                    "bdata": "eM12Lh8hNEB0AvgAdsg7QHTv9eKUm1RAObjKtkDUYkADYnv9l8FbQO1xmDvGBmVA9VX+l5HkYkBAnQGTSBdmQHBKp+f442hAxJrz0G3fZUAf8YIW1DReQGU6QZdD5F9ApX3g8AMIX0D5UTBULcteQIgRUn36eGNAQVrAC8eGZ0BFzE/eEkRhQAAAAAAAAPh/AAAAAAAA+H8AAAAAAAD4fwAAAAAAAPh/AAAAAAAA+H8AAAAAAAD4fwAAAAAAAPh/AAAAAAAA+H8AAAAAAAD4fwAAAAAAAPh/AAAAAAAA+H8AAAAAAAD4fw==",
                    "dtype": "f8"
                  }
                },
                {
                  "mode": "lines",
                  "name": "RF (Libya)",
                  "type": "scatter",
                  "visible": false,
                  "x": [
                    "2025-08-01T00:00:00.000000000",
                    "2025-09-01T00:00:00.000000000",
                    "2025-10-01T00:00:00.000000000",
                    "2025-11-01T00:00:00.000000000",
                    "2025-12-01T00:00:00.000000000",
                    "2026-01-01T00:00:00.000000000",
                    "2026-02-01T00:00:00.000000000",
                    "2026-03-01T00:00:00.000000000",
                    "2026-04-01T00:00:00.000000000",
                    "2026-05-01T00:00:00.000000000",
                    "2026-06-01T00:00:00.000000000",
                    "2026-07-01T00:00:00.000000000",
                    "2026-08-01T00:00:00.000000000",
                    "2026-09-01T00:00:00.000000000",
                    "2026-10-01T00:00:00.000000000",
                    "2026-11-01T00:00:00.000000000",
                    "2026-12-01T00:00:00.000000000",
                    "2027-01-01T00:00:00.000000000",
                    "2027-02-01T00:00:00.000000000",
                    "2027-03-01T00:00:00.000000000",
                    "2027-04-01T00:00:00.000000000",
                    "2027-05-01T00:00:00.000000000",
                    "2027-06-01T00:00:00.000000000",
                    "2027-07-01T00:00:00.000000000",
                    "2027-08-01T00:00:00.000000000",
                    "2027-09-01T00:00:00.000000000",
                    "2027-10-01T00:00:00.000000000",
                    "2027-11-01T00:00:00.000000000",
                    "2027-12-01T00:00:00.000000000"
                  ],
                  "y": {
                    "bdata": "SVLdB61iVEAGIEpNyDtYQOXOVC02WlhAc4Avjb1gV0DS/Q/swtdTQI0lHxaaOFJAOQadBohyVECjQr7qQ1ZaQNvM2UwPsFZAXIXCmOKwVUDDZgF+HzZSQPB1+KAVhVNAqsqgEB2SV0C43MTHTkRVQBsWEX8b/FVALQbV5UW2VECmlp1Jn8VUQP5zJ/PKYFVAVkCYN+QeVUCW2eGVaTRYQGMl04XOZVVA5b6S/qPaVUC3qqSkAEpUQNxr9LuuL1VADnQg4kAIVkBHppUKy+hUQEq5j968bVVANoSSUgOZVUA6Qa8aZyVVQA==",
                    "dtype": "f8"
                  }
                },
                {
                  "mode": "lines",
                  "name": "SARIMAX (Libya)",
                  "type": "scatter",
                  "visible": false,
                  "x": [
                    "2025-08-01T00:00:00.000000000",
                    "2025-09-01T00:00:00.000000000",
                    "2025-10-01T00:00:00.000000000",
                    "2025-11-01T00:00:00.000000000",
                    "2025-12-01T00:00:00.000000000",
                    "2026-01-01T00:00:00.000000000",
                    "2026-02-01T00:00:00.000000000",
                    "2026-03-01T00:00:00.000000000",
                    "2026-04-01T00:00:00.000000000",
                    "2026-05-01T00:00:00.000000000",
                    "2026-06-01T00:00:00.000000000",
                    "2026-07-01T00:00:00.000000000",
                    "2026-08-01T00:00:00.000000000",
                    "2026-09-01T00:00:00.000000000",
                    "2026-10-01T00:00:00.000000000",
                    "2026-11-01T00:00:00.000000000",
                    "2026-12-01T00:00:00.000000000",
                    "2027-01-01T00:00:00.000000000",
                    "2027-02-01T00:00:00.000000000",
                    "2027-03-01T00:00:00.000000000",
                    "2027-04-01T00:00:00.000000000",
                    "2027-05-01T00:00:00.000000000",
                    "2027-06-01T00:00:00.000000000",
                    "2027-07-01T00:00:00.000000000",
                    "2027-08-01T00:00:00.000000000",
                    "2027-09-01T00:00:00.000000000",
                    "2027-10-01T00:00:00.000000000",
                    "2027-11-01T00:00:00.000000000",
                    "2027-12-01T00:00:00.000000000"
                  ],
                  "y": {
                    "bdata": "iBgIZ7BSRUDVrZ1mf6hPQI4J4kyx1ltAViIcP9ATYUDgen50qMBLQIBDkv0TazZAUNjXNESvE0AynjUPk6NHQPXlOM0H11NAWCQ4+J/IRkBWjmqBHmY3wIGhQ8qCRTDAtqHg0nsfPcCagdsiVBwwwHfAcgMdjDtAqHS9tw75TUB0NYXDhrIuwJPm5fW3uUrAwQnWVRrUUMBozg/v8lgHwEBHV983RTFA3ESOHs28MMAXeItC/DZVwJJAXi3Hb1TAJjfbkH08V8BAFmDGX3xTwJ9oDALfkkDAv2AlT4DRBMAn2KPIJtpTwA==",
                    "dtype": "f8"
                  }
                },
                {
                  "mode": "lines",
                  "name": "XGB (Libya)",
                  "type": "scatter",
                  "visible": false,
                  "x": [
                    "2025-08-01T00:00:00.000000000",
                    "2025-09-01T00:00:00.000000000",
                    "2025-10-01T00:00:00.000000000",
                    "2025-11-01T00:00:00.000000000",
                    "2025-12-01T00:00:00.000000000",
                    "2026-01-01T00:00:00.000000000",
                    "2026-02-01T00:00:00.000000000",
                    "2026-03-01T00:00:00.000000000",
                    "2026-04-01T00:00:00.000000000",
                    "2026-05-01T00:00:00.000000000",
                    "2026-06-01T00:00:00.000000000",
                    "2026-07-01T00:00:00.000000000",
                    "2026-08-01T00:00:00.000000000",
                    "2026-09-01T00:00:00.000000000",
                    "2026-10-01T00:00:00.000000000",
                    "2026-11-01T00:00:00.000000000",
                    "2026-12-01T00:00:00.000000000",
                    "2027-01-01T00:00:00.000000000",
                    "2027-02-01T00:00:00.000000000",
                    "2027-03-01T00:00:00.000000000",
                    "2027-04-01T00:00:00.000000000",
                    "2027-05-01T00:00:00.000000000",
                    "2027-06-01T00:00:00.000000000",
                    "2027-07-01T00:00:00.000000000",
                    "2027-08-01T00:00:00.000000000",
                    "2027-09-01T00:00:00.000000000",
                    "2027-10-01T00:00:00.000000000",
                    "2027-11-01T00:00:00.000000000",
                    "2027-12-01T00:00:00.000000000"
                  ],
                  "y": {
                    "bdata": "G4utQj9t5kJJqrdCUz+TQtMNXkJ7psNCj07BQgdGx0Lji5BCaHOUQiXwyEJjvuNCajytQmZ0k0L6l3hCXh/ZQmhK7ULaQaxCysswQu4AukJTVslCasTGQiTckEJfGotC6hnGQhFJ4EIJN7VCUV+YQrYWckI=",
                    "dtype": "f4"
                  }
                },
                {
                  "line": {
                    "color": "#1f77b4"
                  },
                  "mode": "lines",
                  "name": "Actual (Iran)",
                  "type": "scatter",
                  "visible": false,
                  "x": [
                    "2018-01-01T00:00:00.000000000",
                    "2018-02-01T00:00:00.000000000",
                    "2018-03-01T00:00:00.000000000",
                    "2018-04-01T00:00:00.000000000",
                    "2018-05-01T00:00:00.000000000",
                    "2018-06-01T00:00:00.000000000",
                    "2018-07-01T00:00:00.000000000",
                    "2018-08-01T00:00:00.000000000",
                    "2018-09-01T00:00:00.000000000",
                    "2018-10-01T00:00:00.000000000",
                    "2018-11-01T00:00:00.000000000",
                    "2018-12-01T00:00:00.000000000",
                    "2019-01-01T00:00:00.000000000",
                    "2019-02-01T00:00:00.000000000",
                    "2019-03-01T00:00:00.000000000",
                    "2019-04-01T00:00:00.000000000",
                    "2019-05-01T00:00:00.000000000",
                    "2019-06-01T00:00:00.000000000",
                    "2019-07-01T00:00:00.000000000",
                    "2019-08-01T00:00:00.000000000",
                    "2019-09-01T00:00:00.000000000",
                    "2019-10-01T00:00:00.000000000",
                    "2019-11-01T00:00:00.000000000",
                    "2019-12-01T00:00:00.000000000",
                    "2020-01-01T00:00:00.000000000",
                    "2020-02-01T00:00:00.000000000",
                    "2020-03-01T00:00:00.000000000",
                    "2020-04-01T00:00:00.000000000",
                    "2020-05-01T00:00:00.000000000",
                    "2020-06-01T00:00:00.000000000",
                    "2020-07-01T00:00:00.000000000",
                    "2020-08-01T00:00:00.000000000",
                    "2020-09-01T00:00:00.000000000",
                    "2020-10-01T00:00:00.000000000",
                    "2020-11-01T00:00:00.000000000",
                    "2020-12-01T00:00:00.000000000",
                    "2021-01-01T00:00:00.000000000",
                    "2021-02-01T00:00:00.000000000",
                    "2021-03-01T00:00:00.000000000",
                    "2021-04-01T00:00:00.000000000",
                    "2021-05-01T00:00:00.000000000",
                    "2021-06-01T00:00:00.000000000",
                    "2021-07-01T00:00:00.000000000",
                    "2021-08-01T00:00:00.000000000",
                    "2021-09-01T00:00:00.000000000",
                    "2021-10-01T00:00:00.000000000",
                    "2021-11-01T00:00:00.000000000",
                    "2021-12-01T00:00:00.000000000",
                    "2022-01-01T00:00:00.000000000",
                    "2022-02-01T00:00:00.000000000",
                    "2022-03-01T00:00:00.000000000",
                    "2022-04-01T00:00:00.000000000",
                    "2022-05-01T00:00:00.000000000",
                    "2022-06-01T00:00:00.000000000",
                    "2022-07-01T00:00:00.000000000",
                    "2022-08-01T00:00:00.000000000",
                    "2022-09-01T00:00:00.000000000",
                    "2022-10-01T00:00:00.000000000",
                    "2022-11-01T00:00:00.000000000",
                    "2022-12-01T00:00:00.000000000",
                    "2023-01-01T00:00:00.000000000",
                    "2023-02-01T00:00:00.000000000",
                    "2023-03-01T00:00:00.000000000",
                    "2023-04-01T00:00:00.000000000",
                    "2023-05-01T00:00:00.000000000",
                    "2023-06-01T00:00:00.000000000",
                    "2023-07-01T00:00:00.000000000",
                    "2023-08-01T00:00:00.000000000",
                    "2023-09-01T00:00:00.000000000",
                    "2023-10-01T00:00:00.000000000",
                    "2023-11-01T00:00:00.000000000",
                    "2023-12-01T00:00:00.000000000",
                    "2024-01-01T00:00:00.000000000",
                    "2024-02-01T00:00:00.000000000",
                    "2024-03-01T00:00:00.000000000",
                    "2024-04-01T00:00:00.000000000",
                    "2024-05-01T00:00:00.000000000",
                    "2024-06-01T00:00:00.000000000",
                    "2024-07-01T00:00:00.000000000",
                    "2024-08-01T00:00:00.000000000",
                    "2024-09-01T00:00:00.000000000",
                    "2024-10-01T00:00:00.000000000",
                    "2024-11-01T00:00:00.000000000",
                    "2024-12-01T00:00:00.000000000",
                    "2025-01-01T00:00:00.000000000",
                    "2025-02-01T00:00:00.000000000",
                    "2025-03-01T00:00:00.000000000",
                    "2025-04-01T00:00:00.000000000",
                    "2025-05-01T00:00:00.000000000",
                    "2025-06-01T00:00:00.000000000",
                    "2025-07-01T00:00:00.000000000"
                  ],
                  "y": {
                    "bdata": "jwv7uLC/jUDatm3btvyKQGfTgDYNTIpAo3A9CtdXjUBba6211sqBQFnyiyW/iHxA2jSgTQO+hUBAmwa0aVSBQJX8YskvKoJAXNjHhX3shEAvlvxiydmOQOFVJF5F4o9Asvwly19SjUDatm3btvyKQNjHhX1cpI1AjCW/WPKRh0Ce4OgJjlKDQA102kCnsXBAqG6H6naQhUC6HarboepmQAAAAAAA2IdAAAAAAAB4jkC0pnnHKdqOQAonG9cY5o9ACUWZUJQOiUDXJkp2bS+NQNcmSnZtL41AAAAAAAAAAAAAAAAAAAAAAAAAAAAAAAAAEnxO9Bqkh0AnkD7Ptex8QJqZmZmZ1YdAa/a6Zq+rW0CyDHGsiw+NQO/wy9uLIY1Ab/QER09oiUCXN0YwUdyPQJ6Bsub0QI5ACrJ4xPvgj0COMOsIs6COQI/C9Shc4Y9AwPYDbD+IhkAC/yTwT/aPQCLYy8keVZBAlFJKKaUcfEA3iUFg5UaNQK/uQR5SbY5ARb1l1FsWh0AL1shgjUiCQARHT3D08IlAKVyPwvXGjkDEq0i8iqyOQAy7AuTecI9ABZ44rVb6jkD0Y31yiRmQQIps5/spbI9ALH/J8pfgh0AeFmpNc4SPQP4zrwzAe4xAKzbEYkN+dEBeNCfudp58QPa6Zq9rT5BAj8L1KFzhj0BBCCGEEH6PQCz5xZJf0H5AAAAAAAAAAABEM6ia6QhVQAAAAAAAAAAAtgY8DzFBYkAzJtcnUxmJQBZHxNcqz4tAdoXlawYBj0B+EwxNdWVyQBjnsqRhnXFA30dIt7gAhECmNqhLfh6FQHUyOEoe9IdANbCY5IUJhkDxQENC53uBQMoiOvHCyYJAB6Y2qMvTjkA6eBNpSGWPQG7/RIYSpoNA5uteEKd4akDL+SWhcktaQKUD1E5u94NAdpRdQ0PCjkDx7mSnrTiQQBe30QDebY1AJuUPwztmjkA=",
                    "dtype": "f8"
                  }
                },
                {
                  "line": {
                    "color": "#ff7f0e",
                    "dash": "dash"
                  },
                  "mode": "lines",
                  "name": "Existing (Iran)",
                  "type": "scatter",
                  "visible": false,
                  "x": [
                    "2025-08-01T00:00:00.000000000",
                    "2025-09-01T00:00:00.000000000",
                    "2025-10-01T00:00:00.000000000",
                    "2025-11-01T00:00:00.000000000",
                    "2025-12-01T00:00:00.000000000",
                    "2026-01-01T00:00:00.000000000",
                    "2026-02-01T00:00:00.000000000",
                    "2026-03-01T00:00:00.000000000",
                    "2026-04-01T00:00:00.000000000",
                    "2026-05-01T00:00:00.000000000",
                    "2026-06-01T00:00:00.000000000",
                    "2026-07-01T00:00:00.000000000",
                    "2026-08-01T00:00:00.000000000",
                    "2026-09-01T00:00:00.000000000",
                    "2026-10-01T00:00:00.000000000",
                    "2026-11-01T00:00:00.000000000",
                    "2026-12-01T00:00:00.000000000",
                    "2027-01-01T00:00:00.000000000",
                    "2027-02-01T00:00:00.000000000",
                    "2027-03-01T00:00:00.000000000",
                    "2027-04-01T00:00:00.000000000",
                    "2027-05-01T00:00:00.000000000",
                    "2027-06-01T00:00:00.000000000",
                    "2027-07-01T00:00:00.000000000",
                    "2027-08-01T00:00:00.000000000",
                    "2027-09-01T00:00:00.000000000",
                    "2027-10-01T00:00:00.000000000",
                    "2027-11-01T00:00:00.000000000",
                    "2027-12-01T00:00:00.000000000"
                  ],
                  "y": {
                    "bdata": "AAAAAABAjkD6ANAFEHaCQOY/IuQoVYJAbuEqRvd8iUDQS4/5ftOHQKcAJnEUO4JAXwd5toZQfkCG0hpDvKiEQKf8hzEY9YZAaimhhsbfhkAMX4DpgV2DQAV51eZpfXxA/BMr71WHfkBhqoJiGnZ+QEZEQCII93tAdxJTU2aKiEC7UyTOM36GQAAAAAAAAPh/AAAAAAAA+H8AAAAAAAD4fwAAAAAAAPh/AAAAAAAA+H8AAAAAAAD4fwAAAAAAAPh/AAAAAAAA+H8AAAAAAAD4fwAAAAAAAPh/AAAAAAAA+H8AAAAAAAD4fw==",
                    "dtype": "f8"
                  }
                },
                {
                  "mode": "lines",
                  "name": "RF (Iran)",
                  "type": "scatter",
                  "visible": false,
                  "x": [
                    "2025-08-01T00:00:00.000000000",
                    "2025-09-01T00:00:00.000000000",
                    "2025-10-01T00:00:00.000000000",
                    "2025-11-01T00:00:00.000000000",
                    "2025-12-01T00:00:00.000000000",
                    "2026-01-01T00:00:00.000000000",
                    "2026-02-01T00:00:00.000000000",
                    "2026-03-01T00:00:00.000000000",
                    "2026-04-01T00:00:00.000000000",
                    "2026-05-01T00:00:00.000000000",
                    "2026-06-01T00:00:00.000000000",
                    "2026-07-01T00:00:00.000000000",
                    "2026-08-01T00:00:00.000000000",
                    "2026-09-01T00:00:00.000000000",
                    "2026-10-01T00:00:00.000000000",
                    "2026-11-01T00:00:00.000000000",
                    "2026-12-01T00:00:00.000000000",
                    "2027-01-01T00:00:00.000000000",
                    "2027-02-01T00:00:00.000000000",
                    "2027-03-01T00:00:00.000000000",
                    "2027-04-01T00:00:00.000000000",
                    "2027-05-01T00:00:00.000000000",
                    "2027-06-01T00:00:00.000000000",
                    "2027-07-01T00:00:00.000000000",
                    "2027-08-01T00:00:00.000000000",
                    "2027-09-01T00:00:00.000000000",
                    "2027-10-01T00:00:00.000000000",
                    "2027-11-01T00:00:00.000000000",
                    "2027-12-01T00:00:00.000000000"
                  ],
                  "y": {
                    "bdata": "5IO+HW6biEC2M/nkc7eBQH79kQa5/4FAvKHCpQvlgEDcTSm2YJWDQObkxmRTL4BA7b/bhEuMg0CPdRa6QsGCQNH7wSarGoZAUQhVEJIjhECihyPqJVaFQMiIIjuASIVABjShlE/qgkC4dfMzTbOCQO+hpBhF3oJAxpfruahGgkAkBWCEpRWDQKh/C64Fh4FA9kVTZ2idgUBIEhz/oNCDQHql0NQ61YNALDM1/xkfhUDyDhfBZCeEQGQzgSNnzIJAygO697idgUAMhU3yr6KCQBLY+dVH0YJAoVzDsx4Zg0BpwVkgZDSCQA==",
                    "dtype": "f8"
                  }
                },
                {
                  "mode": "lines",
                  "name": "SARIMAX (Iran)",
                  "type": "scatter",
                  "visible": false,
                  "x": [
                    "2025-08-01T00:00:00.000000000",
                    "2025-09-01T00:00:00.000000000",
                    "2025-10-01T00:00:00.000000000",
                    "2025-11-01T00:00:00.000000000",
                    "2025-12-01T00:00:00.000000000",
                    "2026-01-01T00:00:00.000000000",
                    "2026-02-01T00:00:00.000000000",
                    "2026-03-01T00:00:00.000000000",
                    "2026-04-01T00:00:00.000000000",
                    "2026-05-01T00:00:00.000000000",
                    "2026-06-01T00:00:00.000000000",
                    "2026-07-01T00:00:00.000000000",
                    "2026-08-01T00:00:00.000000000",
                    "2026-09-01T00:00:00.000000000",
                    "2026-10-01T00:00:00.000000000",
                    "2026-11-01T00:00:00.000000000",
                    "2026-12-01T00:00:00.000000000",
                    "2027-01-01T00:00:00.000000000",
                    "2027-02-01T00:00:00.000000000",
                    "2027-03-01T00:00:00.000000000",
                    "2027-04-01T00:00:00.000000000",
                    "2027-05-01T00:00:00.000000000",
                    "2027-06-01T00:00:00.000000000",
                    "2027-07-01T00:00:00.000000000",
                    "2027-08-01T00:00:00.000000000",
                    "2027-09-01T00:00:00.000000000",
                    "2027-10-01T00:00:00.000000000",
                    "2027-11-01T00:00:00.000000000",
                    "2027-12-01T00:00:00.000000000"
                  ],
                  "y": {
                    "bdata": "X6p6oHGdh0CTgXw2+DqGQHJRYo6nZYRAp+GgrZb1jUDIi5ohypSKQA5c9ZGguYJApA+ho+nBe0BMPsl+uhaGQNxvIwh/44lAMXei0GygiUC7ajQrs2CGQKdecuxHwYVARqQe1q6QgkBOBnJdeqqDQHrSC4nfD4NAXol+93c7jUBDfymbqSeKQFeH5g6VcoJAZ+W+sH5Ze0AU6WcW1uuFQKYXLFI2vYlAsL6Ammt8iUD9PQ2R0j2GQPP9oxL2noVAqErOl6NugkDpfJgLkoiDQECgT30I7oJA8kUEd6kZjUBZn4pU3wWKQA==",
                    "dtype": "f8"
                  }
                },
                {
                  "mode": "lines",
                  "name": "XGB (Iran)",
                  "type": "scatter",
                  "visible": false,
                  "x": [
                    "2025-08-01T00:00:00.000000000",
                    "2025-09-01T00:00:00.000000000",
                    "2025-10-01T00:00:00.000000000",
                    "2025-11-01T00:00:00.000000000",
                    "2025-12-01T00:00:00.000000000",
                    "2026-01-01T00:00:00.000000000",
                    "2026-02-01T00:00:00.000000000",
                    "2026-03-01T00:00:00.000000000",
                    "2026-04-01T00:00:00.000000000",
                    "2026-05-01T00:00:00.000000000",
                    "2026-06-01T00:00:00.000000000",
                    "2026-07-01T00:00:00.000000000",
                    "2026-08-01T00:00:00.000000000",
                    "2026-09-01T00:00:00.000000000",
                    "2026-10-01T00:00:00.000000000",
                    "2026-11-01T00:00:00.000000000",
                    "2026-12-01T00:00:00.000000000",
                    "2027-01-01T00:00:00.000000000",
                    "2027-02-01T00:00:00.000000000",
                    "2027-03-01T00:00:00.000000000",
                    "2027-04-01T00:00:00.000000000",
                    "2027-05-01T00:00:00.000000000",
                    "2027-06-01T00:00:00.000000000",
                    "2027-07-01T00:00:00.000000000",
                    "2027-08-01T00:00:00.000000000",
                    "2027-09-01T00:00:00.000000000",
                    "2027-10-01T00:00:00.000000000",
                    "2027-11-01T00:00:00.000000000",
                    "2027-12-01T00:00:00.000000000"
                  ],
                  "y": {
                    "bdata": "psJQRLm9xEMp9d5D0bGWQ0gQKkTlnBVEAosLRATQEESNQEVE/TFwRLBeakSN8ltEjcVcRP5qXEQIHFpEJSZiRHajVUTJ2ldEC/JZRKqxfUQz2HZEhAV9RC01eUTagnBEtgByRBy7bETBOG1Ebdp5RHiwe0Q=",
                    "dtype": "f4"
                  }
                },
                {
                  "line": {
                    "color": "#1f77b4"
                  },
                  "mode": "lines",
                  "name": "Actual (Azerbaijan)",
                  "type": "scatter",
                  "visible": false,
                  "x": [
                    "2018-01-01T00:00:00.000000000",
                    "2018-02-01T00:00:00.000000000",
                    "2018-03-01T00:00:00.000000000",
                    "2018-04-01T00:00:00.000000000",
                    "2018-05-01T00:00:00.000000000",
                    "2018-06-01T00:00:00.000000000",
                    "2018-07-01T00:00:00.000000000",
                    "2018-08-01T00:00:00.000000000",
                    "2018-09-01T00:00:00.000000000",
                    "2018-10-01T00:00:00.000000000",
                    "2018-11-01T00:00:00.000000000",
                    "2018-12-01T00:00:00.000000000",
                    "2019-01-01T00:00:00.000000000",
                    "2019-02-01T00:00:00.000000000",
                    "2019-03-01T00:00:00.000000000",
                    "2019-04-01T00:00:00.000000000",
                    "2019-05-01T00:00:00.000000000",
                    "2019-06-01T00:00:00.000000000",
                    "2019-07-01T00:00:00.000000000",
                    "2019-08-01T00:00:00.000000000",
                    "2019-09-01T00:00:00.000000000",
                    "2019-10-01T00:00:00.000000000",
                    "2019-11-01T00:00:00.000000000",
                    "2019-12-01T00:00:00.000000000",
                    "2020-01-01T00:00:00.000000000",
                    "2020-02-01T00:00:00.000000000",
                    "2020-03-01T00:00:00.000000000",
                    "2020-04-01T00:00:00.000000000",
                    "2020-05-01T00:00:00.000000000",
                    "2020-06-01T00:00:00.000000000",
                    "2020-07-01T00:00:00.000000000",
                    "2020-08-01T00:00:00.000000000",
                    "2020-09-01T00:00:00.000000000",
                    "2020-10-01T00:00:00.000000000",
                    "2020-11-01T00:00:00.000000000",
                    "2020-12-01T00:00:00.000000000",
                    "2021-01-01T00:00:00.000000000",
                    "2021-02-01T00:00:00.000000000",
                    "2021-03-01T00:00:00.000000000",
                    "2021-04-01T00:00:00.000000000",
                    "2021-05-01T00:00:00.000000000",
                    "2021-06-01T00:00:00.000000000",
                    "2021-07-01T00:00:00.000000000",
                    "2021-08-01T00:00:00.000000000",
                    "2021-09-01T00:00:00.000000000",
                    "2021-10-01T00:00:00.000000000",
                    "2021-11-01T00:00:00.000000000",
                    "2021-12-01T00:00:00.000000000",
                    "2022-01-01T00:00:00.000000000",
                    "2022-02-01T00:00:00.000000000",
                    "2022-03-01T00:00:00.000000000",
                    "2022-04-01T00:00:00.000000000",
                    "2022-05-01T00:00:00.000000000",
                    "2022-06-01T00:00:00.000000000",
                    "2022-07-01T00:00:00.000000000",
                    "2022-08-01T00:00:00.000000000",
                    "2022-09-01T00:00:00.000000000",
                    "2022-10-01T00:00:00.000000000",
                    "2022-11-01T00:00:00.000000000",
                    "2022-12-01T00:00:00.000000000",
                    "2023-01-01T00:00:00.000000000",
                    "2023-02-01T00:00:00.000000000",
                    "2023-03-01T00:00:00.000000000",
                    "2023-04-01T00:00:00.000000000",
                    "2023-05-01T00:00:00.000000000",
                    "2023-06-01T00:00:00.000000000",
                    "2023-07-01T00:00:00.000000000",
                    "2023-08-01T00:00:00.000000000",
                    "2023-09-01T00:00:00.000000000",
                    "2023-10-01T00:00:00.000000000",
                    "2023-11-01T00:00:00.000000000",
                    "2023-12-01T00:00:00.000000000",
                    "2024-01-01T00:00:00.000000000",
                    "2024-02-01T00:00:00.000000000",
                    "2024-03-01T00:00:00.000000000",
                    "2024-04-01T00:00:00.000000000",
                    "2024-05-01T00:00:00.000000000",
                    "2024-06-01T00:00:00.000000000",
                    "2024-07-01T00:00:00.000000000",
                    "2024-08-01T00:00:00.000000000",
                    "2024-09-01T00:00:00.000000000",
                    "2024-10-01T00:00:00.000000000",
                    "2024-11-01T00:00:00.000000000",
                    "2024-12-01T00:00:00.000000000",
                    "2025-01-01T00:00:00.000000000",
                    "2025-02-01T00:00:00.000000000",
                    "2025-03-01T00:00:00.000000000",
                    "2025-04-01T00:00:00.000000000",
                    "2025-05-01T00:00:00.000000000",
                    "2025-06-01T00:00:00.000000000",
                    "2025-07-01T00:00:00.000000000"
                  ],
                  "y": {
                    "bdata": "htRFFSrkhkCqKJ+g0ViGQJZK/UJuBIZAz2bV52oPekARzaBqpneHQDrZ8yKANoZAKZbVlYx7iECA5pUB+O6IQBA2PL3Sxo1AJNoeb7pNjUCxCUP3v2+NQErKbnG54Y9AztJjk6PbjkBTJrcqCuuLQIV9XNjHgYtA0pSKs4+0jUBJVQe72+2OQCd+jLlr9opAgqMnOHobkUAD2jSgTVOMQP3UeOmm1I9A5vQ3G8zMkUCyne+nhneQQGrSpSZdRZJAnsq3dkl4kkCjg/hZ1qGQQCbbqpOoS5FAiVsY/JDqkECHRrpye4+PQIWXzQmHcJFA2h/73iyalEAgROS8mIOSQI47pYN19I1AlnZfabeelEBC5zV2acyUQOWuJeRD1ZRALUSoD9FZnEBDJ0fA5v+aQJuGDHQf1JpAkKMm57GqmUA5xnqMyA6TQJuHJmNP+5dAb5jBfMIsmUAl4AQhk46YQGp3NWa/iZdAEfAphgqSmUBCRi26QkqbQL6Fah7eIJ1AmTnXURK7nEC3QILiJ2eeQNJl+tf6yZ5AmePv8XwFn0AVvCuOiHOdQBWCHJRQe59A8r8PKFiKn0BRKQe+DlqZQPNPcLGiY59AGB16+r04oEA1MUq9xCOgQJW48iKldKBAHUFAT06eoECnu+9ZocOgQLhK5xHbeqFAgCbChudWoUBIShZnuo+gQGLpQxf0rZ5AoFD2MgF2oEAjzDrCrJ6gQFknQZJ8FqFALxpeMmTun0DtCKcFL2OfQEFXDMa9B6FAQm7JfdC7oEBCvKuFaG2gQKyYM/F/E6JAtlUjzo3IoUAVbLQnbQCiQBueXim7PaJAzpI3DvQcokDK1wwMUHCaQGXfFcEvDaJAbMX+svtbokAvdujhMU2iQAUuK4Tjq6JAwQToGM0CnUBDPf96TqmgQP3GlDzZHKJAL6NYbsmBoUDRRWQVw7GhQA3ocnCWaKJAya0RGiWmoUA=",
                    "dtype": "f8"
                  }
                },
                {
                  "line": {
                    "color": "#ff7f0e",
                    "dash": "dash"
                  },
                  "mode": "lines",
                  "name": "Existing (Azerbaijan)",
                  "type": "scatter",
                  "visible": false,
                  "x": [
                    "2025-08-01T00:00:00.000000000",
                    "2025-09-01T00:00:00.000000000",
                    "2025-10-01T00:00:00.000000000",
                    "2025-11-01T00:00:00.000000000",
                    "2025-12-01T00:00:00.000000000",
                    "2026-01-01T00:00:00.000000000",
                    "2026-02-01T00:00:00.000000000",
                    "2026-03-01T00:00:00.000000000",
                    "2026-04-01T00:00:00.000000000",
                    "2026-05-01T00:00:00.000000000",
                    "2026-06-01T00:00:00.000000000",
                    "2026-07-01T00:00:00.000000000",
                    "2026-08-01T00:00:00.000000000",
                    "2026-09-01T00:00:00.000000000",
                    "2026-10-01T00:00:00.000000000",
                    "2026-11-01T00:00:00.000000000",
                    "2026-12-01T00:00:00.000000000",
                    "2027-01-01T00:00:00.000000000",
                    "2027-02-01T00:00:00.000000000",
                    "2027-03-01T00:00:00.000000000",
                    "2027-04-01T00:00:00.000000000",
                    "2027-05-01T00:00:00.000000000",
                    "2027-06-01T00:00:00.000000000",
                    "2027-07-01T00:00:00.000000000",
                    "2027-08-01T00:00:00.000000000",
                    "2027-09-01T00:00:00.000000000",
                    "2027-10-01T00:00:00.000000000",
                    "2027-11-01T00:00:00.000000000",
                    "2027-12-01T00:00:00.000000000"
                  ],
                  "y": {
                    "bdata": "eGEPv1FeoUA7IVfBq7uhQK+ts/NJ1KNAmTf5LK5Vo0Cvf9xCcYukQAYgWtTo4aNA9iAabNwTokBxk4eFLYSkQLSy9MSslKNA9I4aQraJokB3J0iTVOmiQD3f4kvILaRAnhTRz3G4oUBzQQ2Uvh6jQFqPc8hRU6RAOMPBed/co0BKXdB0xjilQAAAAAAAAPh/AAAAAAAA+H8AAAAAAAD4fwAAAAAAAPh/AAAAAAAA+H8AAAAAAAD4fwAAAAAAAPh/AAAAAAAA+H8AAAAAAAD4fwAAAAAAAPh/AAAAAAAA+H8AAAAAAAD4fw==",
                    "dtype": "f8"
                  }
                },
                {
                  "mode": "lines",
                  "name": "RF (Azerbaijan)",
                  "type": "scatter",
                  "visible": false,
                  "x": [
                    "2025-08-01T00:00:00.000000000",
                    "2025-09-01T00:00:00.000000000",
                    "2025-10-01T00:00:00.000000000",
                    "2025-11-01T00:00:00.000000000",
                    "2025-12-01T00:00:00.000000000",
                    "2026-01-01T00:00:00.000000000",
                    "2026-02-01T00:00:00.000000000",
                    "2026-03-01T00:00:00.000000000",
                    "2026-04-01T00:00:00.000000000",
                    "2026-05-01T00:00:00.000000000",
                    "2026-06-01T00:00:00.000000000",
                    "2026-07-01T00:00:00.000000000",
                    "2026-08-01T00:00:00.000000000",
                    "2026-09-01T00:00:00.000000000",
                    "2026-10-01T00:00:00.000000000",
                    "2026-11-01T00:00:00.000000000",
                    "2026-12-01T00:00:00.000000000",
                    "2027-01-01T00:00:00.000000000",
                    "2027-02-01T00:00:00.000000000",
                    "2027-03-01T00:00:00.000000000",
                    "2027-04-01T00:00:00.000000000",
                    "2027-05-01T00:00:00.000000000",
                    "2027-06-01T00:00:00.000000000",
                    "2027-07-01T00:00:00.000000000",
                    "2027-08-01T00:00:00.000000000",
                    "2027-09-01T00:00:00.000000000",
                    "2027-10-01T00:00:00.000000000",
                    "2027-11-01T00:00:00.000000000",
                    "2027-12-01T00:00:00.000000000"
                  ],
                  "y": {
                    "bdata": "n8c1Mm9joECfuXdU0X+hQLqRmu8qdaFAjeLTxG+PoUCaNQ8qiOWhQIqI1jMaw6FAFy/bzCikoUCn3AEHa/WhQLw03Skyz6FA7Ic9cf3qoUCu9JZEvxyiQAeDXdiYEqJA3X25WVBkoUDM3Nx6x9qhQEWKH3uvFaJAg9cuLKj9oUCQivW/UxaiQJjJeFsrBqJAMY3Lw9T/oUCegQIysRCiQBjt70ln9KFAMgFngSz0oUBN/+tCaCyiQAG1oX3nD6JA5DpqMdxYoUC7R4p0lMyhQJeMbd52+qFAnDn15if+oUA7nj2FSyCiQA==",
                    "dtype": "f8"
                  }
                },
                {
                  "mode": "lines",
                  "name": "SARIMAX (Azerbaijan)",
                  "type": "scatter",
                  "visible": false,
                  "x": [
                    "2025-08-01T00:00:00.000000000",
                    "2025-09-01T00:00:00.000000000",
                    "2025-10-01T00:00:00.000000000",
                    "2025-11-01T00:00:00.000000000",
                    "2025-12-01T00:00:00.000000000",
                    "2026-01-01T00:00:00.000000000",
                    "2026-02-01T00:00:00.000000000",
                    "2026-03-01T00:00:00.000000000",
                    "2026-04-01T00:00:00.000000000",
                    "2026-05-01T00:00:00.000000000",
                    "2026-06-01T00:00:00.000000000",
                    "2026-07-01T00:00:00.000000000",
                    "2026-08-01T00:00:00.000000000",
                    "2026-09-01T00:00:00.000000000",
                    "2026-10-01T00:00:00.000000000",
                    "2026-11-01T00:00:00.000000000",
                    "2026-12-01T00:00:00.000000000",
                    "2027-01-01T00:00:00.000000000",
                    "2027-02-01T00:00:00.000000000",
                    "2027-03-01T00:00:00.000000000",
                    "2027-04-01T00:00:00.000000000",
                    "2027-05-01T00:00:00.000000000",
                    "2027-06-01T00:00:00.000000000",
                    "2027-07-01T00:00:00.000000000",
                    "2027-08-01T00:00:00.000000000",
                    "2027-09-01T00:00:00.000000000",
                    "2027-10-01T00:00:00.000000000",
                    "2027-11-01T00:00:00.000000000",
                    "2027-12-01T00:00:00.000000000"
                  ],
                  "y": {
                    "bdata": "cvvUCo6PnkAv9VcmjRaiQGfsAK4uPaJAqSe7ZJ4vokA9ubAgJNWiQNoxXQHNCKFAN6+GBFj0oUAny3eQtCKjQDDUSq4KvKJAkBCITHmXokBsV/Xa6vyiQC2XHUbB26JAwmoqdVdOoEBujsVALgejQKaFbsjPLaNA6MAofz8go0B8Uh47xcWjQBjLyhtu+aFAdUj0HvnkokBlZOWqVROkQG9tuMirrKNAzqn1ZhqIo0Cq8GL1i+2jQGwwi2BizKNAAASYj/g+oUCsJzNbz/ejQOQe3OJwHqRAJlqWmeAQpEC664tVZrakQA==",
                    "dtype": "f8"
                  }
                },
                {
                  "mode": "lines",
                  "name": "XGB (Azerbaijan)",
                  "type": "scatter",
                  "visible": false,
                  "x": [
                    "2025-08-01T00:00:00.000000000",
                    "2025-09-01T00:00:00.000000000",
                    "2025-10-01T00:00:00.000000000",
                    "2025-11-01T00:00:00.000000000",
                    "2025-12-01T00:00:00.000000000",
                    "2026-01-01T00:00:00.000000000",
                    "2026-02-01T00:00:00.000000000",
                    "2026-03-01T00:00:00.000000000",
                    "2026-04-01T00:00:00.000000000",
                    "2026-05-01T00:00:00.000000000",
                    "2026-06-01T00:00:00.000000000",
                    "2026-07-01T00:00:00.000000000",
                    "2026-08-01T00:00:00.000000000",
                    "2026-09-01T00:00:00.000000000",
                    "2026-10-01T00:00:00.000000000",
                    "2026-11-01T00:00:00.000000000",
                    "2026-12-01T00:00:00.000000000",
                    "2027-01-01T00:00:00.000000000",
                    "2027-02-01T00:00:00.000000000",
                    "2027-03-01T00:00:00.000000000",
                    "2027-04-01T00:00:00.000000000",
                    "2027-05-01T00:00:00.000000000",
                    "2027-06-01T00:00:00.000000000",
                    "2027-07-01T00:00:00.000000000",
                    "2027-08-01T00:00:00.000000000",
                    "2027-09-01T00:00:00.000000000",
                    "2027-10-01T00:00:00.000000000",
                    "2027-11-01T00:00:00.000000000",
                    "2027-12-01T00:00:00.000000000"
                  ],
                  "y": {
                    "bdata": "cnzuRO5vDkV+fwlFoIANRbU8E0VoHApFAsgCRUlREEWc1Q5FJpILRTMzEUWAuhBFl6PzRKjID0U6yBBF278QRSTiFUUzvgJF/hIERe+REUV54AxFgz0MRSQpFUXn9QtFuNvpRGJYDUXOfQ5FCaQRRbbQFUU=",
                    "dtype": "f4"
                  }
                },
                {
                  "line": {
                    "color": "#1f77b4"
                  },
                  "mode": "lines",
                  "name": "Actual (Norway)",
                  "type": "scatter",
                  "visible": false,
                  "x": [
                    "2018-01-01T00:00:00.000000000",
                    "2018-02-01T00:00:00.000000000",
                    "2018-03-01T00:00:00.000000000",
                    "2018-04-01T00:00:00.000000000",
                    "2018-05-01T00:00:00.000000000",
                    "2018-06-01T00:00:00.000000000",
                    "2018-07-01T00:00:00.000000000",
                    "2018-08-01T00:00:00.000000000",
                    "2018-09-01T00:00:00.000000000",
                    "2018-10-01T00:00:00.000000000",
                    "2018-11-01T00:00:00.000000000",
                    "2018-12-01T00:00:00.000000000",
                    "2019-01-01T00:00:00.000000000",
                    "2019-02-01T00:00:00.000000000",
                    "2019-03-01T00:00:00.000000000",
                    "2019-04-01T00:00:00.000000000",
                    "2019-05-01T00:00:00.000000000",
                    "2019-06-01T00:00:00.000000000",
                    "2019-07-01T00:00:00.000000000",
                    "2019-08-01T00:00:00.000000000",
                    "2019-09-01T00:00:00.000000000",
                    "2019-10-01T00:00:00.000000000",
                    "2019-11-01T00:00:00.000000000",
                    "2019-12-01T00:00:00.000000000",
                    "2020-01-01T00:00:00.000000000",
                    "2020-02-01T00:00:00.000000000",
                    "2020-03-01T00:00:00.000000000",
                    "2020-04-01T00:00:00.000000000",
                    "2020-05-01T00:00:00.000000000",
                    "2020-06-01T00:00:00.000000000",
                    "2020-07-01T00:00:00.000000000",
                    "2020-08-01T00:00:00.000000000",
                    "2020-09-01T00:00:00.000000000",
                    "2020-10-01T00:00:00.000000000",
                    "2020-11-01T00:00:00.000000000",
                    "2020-12-01T00:00:00.000000000",
                    "2021-01-01T00:00:00.000000000",
                    "2021-02-01T00:00:00.000000000",
                    "2021-03-01T00:00:00.000000000",
                    "2021-04-01T00:00:00.000000000",
                    "2021-05-01T00:00:00.000000000",
                    "2021-06-01T00:00:00.000000000",
                    "2021-07-01T00:00:00.000000000",
                    "2021-08-01T00:00:00.000000000",
                    "2021-09-01T00:00:00.000000000",
                    "2021-10-01T00:00:00.000000000",
                    "2021-11-01T00:00:00.000000000",
                    "2021-12-01T00:00:00.000000000",
                    "2022-01-01T00:00:00.000000000",
                    "2022-02-01T00:00:00.000000000",
                    "2022-03-01T00:00:00.000000000",
                    "2022-04-01T00:00:00.000000000",
                    "2022-05-01T00:00:00.000000000",
                    "2022-06-01T00:00:00.000000000",
                    "2022-07-01T00:00:00.000000000",
                    "2022-08-01T00:00:00.000000000",
                    "2022-09-01T00:00:00.000000000",
                    "2022-10-01T00:00:00.000000000",
                    "2022-11-01T00:00:00.000000000",
                    "2022-12-01T00:00:00.000000000",
                    "2023-01-01T00:00:00.000000000",
                    "2023-02-01T00:00:00.000000000",
                    "2023-03-01T00:00:00.000000000",
                    "2023-04-01T00:00:00.000000000",
                    "2023-05-01T00:00:00.000000000",
                    "2023-06-01T00:00:00.000000000",
                    "2023-07-01T00:00:00.000000000",
                    "2023-08-01T00:00:00.000000000",
                    "2023-09-01T00:00:00.000000000",
                    "2023-10-01T00:00:00.000000000",
                    "2023-11-01T00:00:00.000000000",
                    "2023-12-01T00:00:00.000000000",
                    "2024-01-01T00:00:00.000000000",
                    "2024-02-01T00:00:00.000000000",
                    "2024-03-01T00:00:00.000000000",
                    "2024-04-01T00:00:00.000000000",
                    "2024-05-01T00:00:00.000000000",
                    "2024-06-01T00:00:00.000000000",
                    "2024-07-01T00:00:00.000000000",
                    "2024-08-01T00:00:00.000000000",
                    "2024-09-01T00:00:00.000000000",
                    "2024-10-01T00:00:00.000000000",
                    "2024-11-01T00:00:00.000000000",
                    "2024-12-01T00:00:00.000000000",
                    "2025-01-01T00:00:00.000000000",
                    "2025-02-01T00:00:00.000000000",
                    "2025-03-01T00:00:00.000000000",
                    "2025-04-01T00:00:00.000000000",
                    "2025-05-01T00:00:00.000000000",
                    "2025-06-01T00:00:00.000000000",
                    "2025-07-01T00:00:00.000000000"
                  ],
                  "y": {
                    "bdata": "annypETcyEBgUn80CYvIQOd2UgZzvMdAtxGv6ICzxkCN5fMQr+3EQBHthhRKYcRAexSuR+Ewx0CcxCCwcgvGQCGwcmgRg8RAqMZLN0ndxkDpJjEILBLHQKRwPQqXbMdAvHSTGEQQyUCbxCCwMovIQAaBlUOLJshASOF6FO6wxkAW2c73ExTFQLByaJFt6cRAK4cW2U7HxECBlUOLbFrBQGIQWDk04rhAGARWDi33w0AxCKwcGnDGQIXrUbgedcdAx0s3icHUxkA5tMh2/vvGQC/dJAYBjcdAd76fGi9rxEAbL90kBgXCQOOlm8TgvsNAAiuHFpmLxECTGARWzv/CQP7UeOlmcMNADi2ynS+IxECiRbbz/d7GQMQgsHKo8cdAx0s3iQGqx0BSuB6FK/XGQDVeukkMtsZACtejcL3sxUDJdr6fWg3EQGq8dJMYxMJAvp8aL91IxkCXbhKDgMXFQEw3iUFgTMVAO99PjddeyEBMN4lBYKHIQJduEoOAGslApHA9CtdByEA/NV66yaTIQNejcD2K7MdA5/up8dJZx0CcxCCwsuDGQDMzMzNzKMZAFtnO99OTx0AnMQisHAHHQEOLbOc768NA4XoUrodbx0BaZDvfz6vGQIGVQ4ssL8dAz/dT42WLxkDVeOkmsYnGQDEIrBwacMZA3SQGgRVrxUBYObTI9vPBQBKDwMohzb5AXI/C9Wjkw0BBYOXQol3DQI2XbhKDVrZAokW28z1fxEC28/3UOJLGQPYoXI8C5MdASOF6FC6Gx0C8dJMYhJDGQIcW2c53LcdAH4XrUfifxUC0yHa+34TDQGQ730+NRcVAGi/dJEYvxkApXI/CNeTFQDvfT41XCsBAvp8aLx0ex0DrUbgeBXXIQE5iEFi5WchAy6FFtvPvx0Atsp3vp9THQC2yne+n1MdAgZVDiywvx0Bs5/upMfzEQJMYBFZOqsRAbhKDwEo0x0A=",
                    "dtype": "f8"
                  }
                },
                {
                  "line": {
                    "color": "#ff7f0e",
                    "dash": "dash"
                  },
                  "mode": "lines",
                  "name": "Existing (Norway)",
                  "type": "scatter",
                  "visible": false,
                  "x": [
                    "2025-08-01T00:00:00.000000000",
                    "2025-09-01T00:00:00.000000000",
                    "2025-10-01T00:00:00.000000000",
                    "2025-11-01T00:00:00.000000000",
                    "2025-12-01T00:00:00.000000000",
                    "2026-01-01T00:00:00.000000000",
                    "2026-02-01T00:00:00.000000000",
                    "2026-03-01T00:00:00.000000000",
                    "2026-04-01T00:00:00.000000000",
                    "2026-05-01T00:00:00.000000000",
                    "2026-06-01T00:00:00.000000000",
                    "2026-07-01T00:00:00.000000000",
                    "2026-08-01T00:00:00.000000000",
                    "2026-09-01T00:00:00.000000000",
                    "2026-10-01T00:00:00.000000000",
                    "2026-11-01T00:00:00.000000000",
                    "2026-12-01T00:00:00.000000000",
                    "2027-01-01T00:00:00.000000000",
                    "2027-02-01T00:00:00.000000000",
                    "2027-03-01T00:00:00.000000000",
                    "2027-04-01T00:00:00.000000000",
                    "2027-05-01T00:00:00.000000000",
                    "2027-06-01T00:00:00.000000000",
                    "2027-07-01T00:00:00.000000000",
                    "2027-08-01T00:00:00.000000000",
                    "2027-09-01T00:00:00.000000000",
                    "2027-10-01T00:00:00.000000000",
                    "2027-11-01T00:00:00.000000000",
                    "2027-12-01T00:00:00.000000000"
                  ],
                  "y": {
                    "bdata": "QWDl0KKyxkDb+X5qfIjBQP2ZLahek8ZA2OaYpBK7x0C7GsvalWnIQPuX6NrENsdAPUhUI93NxkAng2RAGrrGQF+RtHdRqsVA31oEWrulw0C/YwNKkQPDQOA85medisVA7Td4bksHxUC7On4Ut8PAQN4jIaiuT8ZACyD92xYxx0C6u8LhEMbHQAAAAAAAAPh/AAAAAAAA+H8AAAAAAAD4fwAAAAAAAPh/AAAAAAAA+H8AAAAAAAD4fwAAAAAAAPh/AAAAAAAA+H8AAAAAAAD4fwAAAAAAAPh/AAAAAAAA+H8AAAAAAAD4fw==",
                    "dtype": "f8"
                  }
                },
                {
                  "mode": "lines",
                  "name": "RF (Norway)",
                  "type": "scatter",
                  "visible": false,
                  "x": [
                    "2025-08-01T00:00:00.000000000",
                    "2025-09-01T00:00:00.000000000",
                    "2025-10-01T00:00:00.000000000",
                    "2025-11-01T00:00:00.000000000",
                    "2025-12-01T00:00:00.000000000",
                    "2026-01-01T00:00:00.000000000",
                    "2026-02-01T00:00:00.000000000",
                    "2026-03-01T00:00:00.000000000",
                    "2026-04-01T00:00:00.000000000",
                    "2026-05-01T00:00:00.000000000",
                    "2026-06-01T00:00:00.000000000",
                    "2026-07-01T00:00:00.000000000",
                    "2026-08-01T00:00:00.000000000",
                    "2026-09-01T00:00:00.000000000",
                    "2026-10-01T00:00:00.000000000",
                    "2026-11-01T00:00:00.000000000",
                    "2026-12-01T00:00:00.000000000",
                    "2027-01-01T00:00:00.000000000",
                    "2027-02-01T00:00:00.000000000",
                    "2027-03-01T00:00:00.000000000",
                    "2027-04-01T00:00:00.000000000",
                    "2027-05-01T00:00:00.000000000",
                    "2027-06-01T00:00:00.000000000",
                    "2027-07-01T00:00:00.000000000",
                    "2027-08-01T00:00:00.000000000",
                    "2027-09-01T00:00:00.000000000",
                    "2027-10-01T00:00:00.000000000",
                    "2027-11-01T00:00:00.000000000",
                    "2027-12-01T00:00:00.000000000"
                  ],
                  "y": {
                    "bdata": "/YsS9DdWxkBGFqJDMDfEQGTt72zfmcVA4RUzwqs3xkBCPZrqKdvGQNa+R/0lBcdAzd6nqsAEx0A9/MOW3knHQAybyMylrcZAl2RW7yCOxUD5XdianbnEQAmx3qiF1sRAEC2WIjnJw0BnLJrOzjzBQDUxCKxs4cNA4g2GOuw9xUATq+rlpxjGQOlrelDQ7cZAXtlaX2Qkx0B1toDQOlvHQMz7jXZ8BcdAMOhLby87xkAj+IpuvYzFQLZVSWR/eMRArMfvbXrkw0D940uoQJnBQHZj7IR39MNAgAvPS4XbxEBHYMlVXL7FQA==",
                    "dtype": "f8"
                  }
                },
                {
                  "mode": "lines",
                  "name": "SARIMAX (Norway)",
                  "type": "scatter",
                  "visible": false,
                  "x": [
                    "2025-08-01T00:00:00.000000000",
                    "2025-09-01T00:00:00.000000000",
                    "2025-10-01T00:00:00.000000000",
                    "2025-11-01T00:00:00.000000000",
                    "2025-12-01T00:00:00.000000000",
                    "2026-01-01T00:00:00.000000000",
                    "2026-02-01T00:00:00.000000000",
                    "2026-03-01T00:00:00.000000000",
                    "2026-04-01T00:00:00.000000000",
                    "2026-05-01T00:00:00.000000000",
                    "2026-06-01T00:00:00.000000000",
                    "2026-07-01T00:00:00.000000000",
                    "2026-08-01T00:00:00.000000000",
                    "2026-09-01T00:00:00.000000000",
                    "2026-10-01T00:00:00.000000000",
                    "2026-11-01T00:00:00.000000000",
                    "2026-12-01T00:00:00.000000000",
                    "2027-01-01T00:00:00.000000000",
                    "2027-02-01T00:00:00.000000000",
                    "2027-03-01T00:00:00.000000000",
                    "2027-04-01T00:00:00.000000000",
                    "2027-05-01T00:00:00.000000000",
                    "2027-06-01T00:00:00.000000000",
                    "2027-07-01T00:00:00.000000000",
                    "2027-08-01T00:00:00.000000000",
                    "2027-09-01T00:00:00.000000000",
                    "2027-10-01T00:00:00.000000000",
                    "2027-11-01T00:00:00.000000000",
                    "2027-12-01T00:00:00.000000000"
                  ],
                  "y": {
                    "bdata": "NLS2Z1xMxkAQwYy13qHBQNxWe20mgMdA1HjJ966syEBxSUoQqSvJQEkH6CqK+chAQDYKIQmlyECTT4Wu0qXIQMC6vuxRk8dAHVRJZGFxxUAi1fjy1j3FQKCumsVUd8dAkCuw60SwxkDvIh9EoQ/CQLy4Dfzo7cdAtdpbhnEayUBRq9yea5nJQClperlMZ8lAIJicr8sSyUBysRc9lRPJQKEcUXsUAchA/LXb8iPfxUACN4uBmavFQIAQLVQX5cdAcI1Cegcex0DQhLHSY33CQJwaoIqrW8hAlTzuFDSIyUAxDW8tLgfKQA==",
                    "dtype": "f8"
                  }
                },
                {
                  "mode": "lines",
                  "name": "XGB (Norway)",
                  "type": "scatter",
                  "visible": false,
                  "x": [
                    "2025-08-01T00:00:00.000000000",
                    "2025-09-01T00:00:00.000000000",
                    "2025-10-01T00:00:00.000000000",
                    "2025-11-01T00:00:00.000000000",
                    "2025-12-01T00:00:00.000000000",
                    "2026-01-01T00:00:00.000000000",
                    "2026-02-01T00:00:00.000000000",
                    "2026-03-01T00:00:00.000000000",
                    "2026-04-01T00:00:00.000000000",
                    "2026-05-01T00:00:00.000000000",
                    "2026-06-01T00:00:00.000000000",
                    "2026-07-01T00:00:00.000000000",
                    "2026-08-01T00:00:00.000000000",
                    "2026-09-01T00:00:00.000000000",
                    "2026-10-01T00:00:00.000000000",
                    "2026-11-01T00:00:00.000000000",
                    "2026-12-01T00:00:00.000000000",
                    "2027-01-01T00:00:00.000000000",
                    "2027-02-01T00:00:00.000000000",
                    "2027-03-01T00:00:00.000000000",
                    "2027-04-01T00:00:00.000000000",
                    "2027-05-01T00:00:00.000000000",
                    "2027-06-01T00:00:00.000000000",
                    "2027-07-01T00:00:00.000000000",
                    "2027-08-01T00:00:00.000000000",
                    "2027-09-01T00:00:00.000000000",
                    "2027-10-01T00:00:00.000000000",
                    "2027-11-01T00:00:00.000000000",
                    "2027-12-01T00:00:00.000000000"
                  ],
                  "y": {
                    "bdata": "oQczRgkhIUYWFzhGYfo9RsMnNkb3qj1GKxI9Ri34NkYqXzNGv2YrRjB9JEYMVyRG+WsbRhu12EVwKxtG15wxRuJmPkZAEDxGRYU8RuvJO0ZFBDJGPnwqRjOeIkazVSVG6fAkRtjrCUZWnyxGWGIxRm7/PUY=",
                    "dtype": "f4"
                  }
                },
                {
                  "line": {
                    "color": "#1f77b4"
                  },
                  "mode": "lines",
                  "name": "Actual (Russia)",
                  "type": "scatter",
                  "visible": false,
                  "x": [
                    "2018-01-01T00:00:00.000000000",
                    "2018-02-01T00:00:00.000000000",
                    "2018-03-01T00:00:00.000000000",
                    "2018-04-01T00:00:00.000000000",
                    "2018-05-01T00:00:00.000000000",
                    "2018-06-01T00:00:00.000000000",
                    "2018-07-01T00:00:00.000000000",
                    "2018-08-01T00:00:00.000000000",
                    "2018-09-01T00:00:00.000000000",
                    "2018-10-01T00:00:00.000000000",
                    "2018-11-01T00:00:00.000000000",
                    "2018-12-01T00:00:00.000000000",
                    "2019-01-01T00:00:00.000000000",
                    "2019-02-01T00:00:00.000000000",
                    "2019-03-01T00:00:00.000000000",
                    "2019-04-01T00:00:00.000000000",
                    "2019-05-01T00:00:00.000000000",
                    "2019-06-01T00:00:00.000000000",
                    "2019-07-01T00:00:00.000000000",
                    "2019-08-01T00:00:00.000000000",
                    "2019-09-01T00:00:00.000000000",
                    "2019-10-01T00:00:00.000000000",
                    "2019-11-01T00:00:00.000000000",
                    "2019-12-01T00:00:00.000000000",
                    "2020-01-01T00:00:00.000000000",
                    "2020-02-01T00:00:00.000000000",
                    "2020-03-01T00:00:00.000000000",
                    "2020-04-01T00:00:00.000000000",
                    "2020-05-01T00:00:00.000000000",
                    "2020-06-01T00:00:00.000000000",
                    "2020-07-01T00:00:00.000000000",
                    "2020-08-01T00:00:00.000000000",
                    "2020-09-01T00:00:00.000000000",
                    "2020-10-01T00:00:00.000000000",
                    "2020-11-01T00:00:00.000000000",
                    "2020-12-01T00:00:00.000000000",
                    "2021-01-01T00:00:00.000000000",
                    "2021-02-01T00:00:00.000000000",
                    "2021-03-01T00:00:00.000000000",
                    "2021-04-01T00:00:00.000000000",
                    "2021-05-01T00:00:00.000000000",
                    "2021-06-01T00:00:00.000000000",
                    "2021-07-01T00:00:00.000000000",
                    "2021-08-01T00:00:00.000000000",
                    "2021-09-01T00:00:00.000000000",
                    "2021-10-01T00:00:00.000000000",
                    "2021-11-01T00:00:00.000000000",
                    "2021-12-01T00:00:00.000000000",
                    "2022-01-01T00:00:00.000000000",
                    "2022-02-01T00:00:00.000000000",
                    "2022-03-01T00:00:00.000000000",
                    "2022-04-01T00:00:00.000000000",
                    "2022-05-01T00:00:00.000000000",
                    "2022-06-01T00:00:00.000000000",
                    "2022-07-01T00:00:00.000000000",
                    "2022-08-01T00:00:00.000000000",
                    "2022-09-01T00:00:00.000000000",
                    "2022-10-01T00:00:00.000000000",
                    "2022-11-01T00:00:00.000000000",
                    "2022-12-01T00:00:00.000000000",
                    "2023-01-01T00:00:00.000000000",
                    "2023-02-01T00:00:00.000000000",
                    "2023-03-01T00:00:00.000000000",
                    "2023-04-01T00:00:00.000000000",
                    "2023-05-01T00:00:00.000000000",
                    "2023-06-01T00:00:00.000000000",
                    "2023-07-01T00:00:00.000000000",
                    "2023-08-01T00:00:00.000000000",
                    "2023-09-01T00:00:00.000000000",
                    "2023-10-01T00:00:00.000000000",
                    "2023-11-01T00:00:00.000000000",
                    "2023-12-01T00:00:00.000000000",
                    "2024-01-01T00:00:00.000000000",
                    "2024-02-01T00:00:00.000000000",
                    "2024-03-01T00:00:00.000000000",
                    "2024-04-01T00:00:00.000000000",
                    "2024-05-01T00:00:00.000000000",
                    "2024-06-01T00:00:00.000000000",
                    "2024-07-01T00:00:00.000000000",
                    "2024-08-01T00:00:00.000000000",
                    "2024-09-01T00:00:00.000000000",
                    "2024-10-01T00:00:00.000000000",
                    "2024-11-01T00:00:00.000000000",
                    "2024-12-01T00:00:00.000000000",
                    "2025-01-01T00:00:00.000000000",
                    "2025-02-01T00:00:00.000000000",
                    "2025-03-01T00:00:00.000000000",
                    "2025-04-01T00:00:00.000000000",
                    "2025-05-01T00:00:00.000000000",
                    "2025-06-01T00:00:00.000000000",
                    "2025-07-01T00:00:00.000000000"
                  ],
                  "y": {
                    "bdata": "qhRcaWrQ0EAFMyjXm7XLQLlRWej5H9NAbHh6pY4G00D9s1YC4ULPQB/ZbwAUk89AKSFu3zYoz0CpXjwJ2xXRQE5qVThlutFAA537c3qR0EDoINWd6k/RQC+xwt9zXNJAUnl+JKov0kDhFQYoGm7RQCV+26TtsdFAYbZ3IL1k0kDfgdVveKTRQBnFcku/JtBAcciiIP7CykCLzhB4FwXNQL8ZD8m7V89AW/231UfGzUAupUHkYajRQGjcWUEGddNAmUHVTCevykB2yWgZTc3KQM5DTMzOacpAOCAcxl/VykC+X+6pbcfJQBADcMbrMcpAuiCdNAbhxUA0bXkGQp7KQNwuNNe5l81ASfy2SeOB0UC8T2hsLj/SQIEB0jZhMtNAXsSuOzXp0EAckhntqIXQQEn1RHNsxNBAzkiq3PE0zUCmmNHHN17QQAsRcAiht9BAMffUFrAEzEAjx+A0Ii7NQFXRMmUOaM1AhdgTfgZxyUDI8puv5zTKQHPl9p6/UstAmYB1rQA7xUD0SlmGfFTHQK3O+kbkwctAPjdHMETxxkCjuLZ1lWPEQIghTGTZvrpAjL9RuzG/sUAwVgs66VOzQBTWoEI4j6lAoB6uWt8WoUA04tw5Z/CiQM25jpLUw6tAWB2dg7kupkB6sIgg7LuoQAJxmU2hMKFA02pI3KMOp0Az227mIDSjQNg6S6N8YKBA3xy5mt6xpEAYj+5XDyKmQLEELMxFPKRAeyKS9C5iqUBABgW4Ux2uQNLHI1SgYK1AxtnCK3BTsUAyuVVR2nayQOSXaCwxRKlAcwFVyY0YnEACyV2ak0qgQF59T78eC5lAyegy/WsjpkBPw17EjmytQGwuJE2ZT6ZA4OyICxnRpkD65abgGxaxQB+fm2JXI7FABTEe3W++qEAMcpXqEb6nQPQER09w259A2J5ZErC6oECZBJwg5DeVQLaUBpE/2JFAroOtckKIoEA=",
                    "dtype": "f8"
                  }
                },
                {
                  "line": {
                    "color": "#ff7f0e",
                    "dash": "dash"
                  },
                  "mode": "lines",
                  "name": "Existing (Russia)",
                  "type": "scatter",
                  "visible": false,
                  "x": [
                    "2025-08-01T00:00:00.000000000",
                    "2025-09-01T00:00:00.000000000",
                    "2025-10-01T00:00:00.000000000",
                    "2025-11-01T00:00:00.000000000",
                    "2025-12-01T00:00:00.000000000",
                    "2026-01-01T00:00:00.000000000",
                    "2026-02-01T00:00:00.000000000",
                    "2026-03-01T00:00:00.000000000",
                    "2026-04-01T00:00:00.000000000",
                    "2026-05-01T00:00:00.000000000",
                    "2026-06-01T00:00:00.000000000",
                    "2026-07-01T00:00:00.000000000",
                    "2026-08-01T00:00:00.000000000",
                    "2026-09-01T00:00:00.000000000",
                    "2026-10-01T00:00:00.000000000",
                    "2026-11-01T00:00:00.000000000",
                    "2026-12-01T00:00:00.000000000",
                    "2027-01-01T00:00:00.000000000",
                    "2027-02-01T00:00:00.000000000",
                    "2027-03-01T00:00:00.000000000",
                    "2027-04-01T00:00:00.000000000",
                    "2027-05-01T00:00:00.000000000",
                    "2027-06-01T00:00:00.000000000",
                    "2027-07-01T00:00:00.000000000",
                    "2027-08-01T00:00:00.000000000",
                    "2027-09-01T00:00:00.000000000",
                    "2027-10-01T00:00:00.000000000",
                    "2027-11-01T00:00:00.000000000",
                    "2027-12-01T00:00:00.000000000"
                  ],
                  "y": {
                    "bdata": "POgkJNBfnEBaV705MY6dQNTOBcyDlqBA5qV8ai6so0DIjI4f5JejQF604QWzeKlAMQFXGoLcqkDhRs3dg9axQLh/yvRR8q5AXEF2IY5iq0AwKrB3RXClQM38qJl7w6JAgqO9rYCvn0AhWHqGaRmgQCWU0tXW16BA0g5ZC4jgpEBG8hLLzXqkQAAAAAAAAPh/AAAAAAAA+H8AAAAAAAD4fwAAAAAAAPh/AAAAAAAA+H8AAAAAAAD4fwAAAAAAAPh/AAAAAAAA+H8AAAAAAAD4fwAAAAAAAPh/AAAAAAAA+H8AAAAAAAD4fw==",
                    "dtype": "f8"
                  }
                },
                {
                  "mode": "lines",
                  "name": "RF (Russia)",
                  "type": "scatter",
                  "visible": false,
                  "x": [
                    "2025-08-01T00:00:00.000000000",
                    "2025-09-01T00:00:00.000000000",
                    "2025-10-01T00:00:00.000000000",
                    "2025-11-01T00:00:00.000000000",
                    "2025-12-01T00:00:00.000000000",
                    "2026-01-01T00:00:00.000000000",
                    "2026-02-01T00:00:00.000000000",
                    "2026-03-01T00:00:00.000000000",
                    "2026-04-01T00:00:00.000000000",
                    "2026-05-01T00:00:00.000000000",
                    "2026-06-01T00:00:00.000000000",
                    "2026-07-01T00:00:00.000000000",
                    "2026-08-01T00:00:00.000000000",
                    "2026-09-01T00:00:00.000000000",
                    "2026-10-01T00:00:00.000000000",
                    "2026-11-01T00:00:00.000000000",
                    "2026-12-01T00:00:00.000000000",
                    "2027-01-01T00:00:00.000000000",
                    "2027-02-01T00:00:00.000000000",
                    "2027-03-01T00:00:00.000000000",
                    "2027-04-01T00:00:00.000000000",
                    "2027-05-01T00:00:00.000000000",
                    "2027-06-01T00:00:00.000000000",
                    "2027-07-01T00:00:00.000000000",
                    "2027-08-01T00:00:00.000000000",
                    "2027-09-01T00:00:00.000000000",
                    "2027-10-01T00:00:00.000000000",
                    "2027-11-01T00:00:00.000000000",
                    "2027-12-01T00:00:00.000000000"
                  ],
                  "y": {
                    "bdata": "h4vn86O6pUDGS9wFNgqoQCMy3zcevqlAEGGvkzFCrEDu/Y+lg1qsQMKMC5bXfatAtGVXS1WtqECcqBm4gKmhQFydtP1mDaBAFgr5jdvXnECqNUutQlqcQPfxwj8olaFA3rfPbz2ApkD39CyCtTynQNQcA64lkKhAdIuCI6LGq0BRNouy+1isQMKEVJPI2qpAVLF0DRQZpkCtR4uRFBijQJAATSQJWaBAxbTb6GABnkBfPqfm8s2eQPjEdSMCdqNAqLhWG3XApkA0dWGaNOanQOLVWJf0GKhAJSdjJSpNq0CzCFurEtGrQA==",
                    "dtype": "f8"
                  }
                },
                {
                  "mode": "lines",
                  "name": "SARIMAX (Russia)",
                  "type": "scatter",
                  "visible": false,
                  "x": [
                    "2025-08-01T00:00:00.000000000",
                    "2025-09-01T00:00:00.000000000",
                    "2025-10-01T00:00:00.000000000",
                    "2025-11-01T00:00:00.000000000",
                    "2025-12-01T00:00:00.000000000",
                    "2026-01-01T00:00:00.000000000",
                    "2026-02-01T00:00:00.000000000",
                    "2026-03-01T00:00:00.000000000",
                    "2026-04-01T00:00:00.000000000",
                    "2026-05-01T00:00:00.000000000",
                    "2026-06-01T00:00:00.000000000",
                    "2026-07-01T00:00:00.000000000",
                    "2026-08-01T00:00:00.000000000",
                    "2026-09-01T00:00:00.000000000",
                    "2026-10-01T00:00:00.000000000",
                    "2026-11-01T00:00:00.000000000",
                    "2026-12-01T00:00:00.000000000",
                    "2027-01-01T00:00:00.000000000",
                    "2027-02-01T00:00:00.000000000",
                    "2027-03-01T00:00:00.000000000",
                    "2027-04-01T00:00:00.000000000",
                    "2027-05-01T00:00:00.000000000",
                    "2027-06-01T00:00:00.000000000",
                    "2027-07-01T00:00:00.000000000",
                    "2027-08-01T00:00:00.000000000",
                    "2027-09-01T00:00:00.000000000",
                    "2027-10-01T00:00:00.000000000",
                    "2027-11-01T00:00:00.000000000",
                    "2027-12-01T00:00:00.000000000"
                  ],
                  "y": {
                    "bdata": "v5zi+D3lqEC1PrTSgbajQIn8vuQ/IaNAnFZNGlh/q0CiEO3asjmtQPfD/LnaPadAqdWQIpO3p0DEnsR168yiQPa36au+PJ9ARousRNc0l0Ccw21WfauNQGoCJlWzdZJAFCsVd/IVn0AoJvU+waaXQGdSor/3oZVAO8L6+/ucokBKXIIOg3ylQKgCrtN7sJxA02bXlsQSn0BXbFisXxKVQCXzKRpvmYtA0CCF5De8fEAgBkZKgqVjwD03vZLzM11AGbmhH48UjUBy2U22r9J5QCnk2YLrIHVAYBNhJlc0lECt9T1ItTiaQA==",
                    "dtype": "f8"
                  }
                },
                {
                  "mode": "lines",
                  "name": "XGB (Russia)",
                  "type": "scatter",
                  "visible": false,
                  "x": [
                    "2025-08-01T00:00:00.000000000",
                    "2025-09-01T00:00:00.000000000",
                    "2025-10-01T00:00:00.000000000",
                    "2025-11-01T00:00:00.000000000",
                    "2025-12-01T00:00:00.000000000",
                    "2026-01-01T00:00:00.000000000",
                    "2026-02-01T00:00:00.000000000",
                    "2026-03-01T00:00:00.000000000",
                    "2026-04-01T00:00:00.000000000",
                    "2026-05-01T00:00:00.000000000",
                    "2026-06-01T00:00:00.000000000",
                    "2026-07-01T00:00:00.000000000",
                    "2026-08-01T00:00:00.000000000",
                    "2026-09-01T00:00:00.000000000",
                    "2026-10-01T00:00:00.000000000",
                    "2026-11-01T00:00:00.000000000",
                    "2026-12-01T00:00:00.000000000",
                    "2027-01-01T00:00:00.000000000",
                    "2027-02-01T00:00:00.000000000",
                    "2027-03-01T00:00:00.000000000",
                    "2027-04-01T00:00:00.000000000",
                    "2027-05-01T00:00:00.000000000",
                    "2027-06-01T00:00:00.000000000",
                    "2027-07-01T00:00:00.000000000",
                    "2027-08-01T00:00:00.000000000",
                    "2027-09-01T00:00:00.000000000",
                    "2027-10-01T00:00:00.000000000",
                    "2027-11-01T00:00:00.000000000",
                    "2027-12-01T00:00:00.000000000"
                  ],
                  "y": {
                    "bdata": "Xn82RYmiRUWJnYBFhD+QRZK1kkU0tndFu5liRV9WD0U8O/9EDQwHReKK5ES5OdVEwrsaRd3/PEUnaDpF7WttRcEEjUWmFpBFhkyFRZCpPkVF8whFGU71RIv1/ERiy/FEHzcnRQFVLkW++jpFm+dRRdEfdEU=",
                    "dtype": "f4"
                  }
                }
              ],
              "layout": {
                "legend": {
                  "orientation": "h",
                  "x": 0,
                  "xanchor": "left",
                  "y": 1.02,
                  "yanchor": "bottom"
                },
                "template": {
                  "data": {
                    "bar": [
                      {
                        "error_x": {
                          "color": "#2a3f5f"
                        },
                        "error_y": {
                          "color": "#2a3f5f"
                        },
                        "marker": {
                          "line": {
                            "color": "white",
                            "width": 0.5
                          },
                          "pattern": {
                            "fillmode": "overlay",
                            "size": 10,
                            "solidity": 0.2
                          }
                        },
                        "type": "bar"
                      }
                    ],
                    "barpolar": [
                      {
                        "marker": {
                          "line": {
                            "color": "white",
                            "width": 0.5
                          },
                          "pattern": {
                            "fillmode": "overlay",
                            "size": 10,
                            "solidity": 0.2
                          }
                        },
                        "type": "barpolar"
                      }
                    ],
                    "carpet": [
                      {
                        "aaxis": {
                          "endlinecolor": "#2a3f5f",
                          "gridcolor": "#C8D4E3",
                          "linecolor": "#C8D4E3",
                          "minorgridcolor": "#C8D4E3",
                          "startlinecolor": "#2a3f5f"
                        },
                        "baxis": {
                          "endlinecolor": "#2a3f5f",
                          "gridcolor": "#C8D4E3",
                          "linecolor": "#C8D4E3",
                          "minorgridcolor": "#C8D4E3",
                          "startlinecolor": "#2a3f5f"
                        },
                        "type": "carpet"
                      }
                    ],
                    "choropleth": [
                      {
                        "colorbar": {
                          "outlinewidth": 0,
                          "ticks": ""
                        },
                        "type": "choropleth"
                      }
                    ],
                    "contour": [
                      {
                        "colorbar": {
                          "outlinewidth": 0,
                          "ticks": ""
                        },
                        "colorscale": [
                          [
                            0,
                            "#0d0887"
                          ],
                          [
                            0.1111111111111111,
                            "#46039f"
                          ],
                          [
                            0.2222222222222222,
                            "#7201a8"
                          ],
                          [
                            0.3333333333333333,
                            "#9c179e"
                          ],
                          [
                            0.4444444444444444,
                            "#bd3786"
                          ],
                          [
                            0.5555555555555556,
                            "#d8576b"
                          ],
                          [
                            0.6666666666666666,
                            "#ed7953"
                          ],
                          [
                            0.7777777777777778,
                            "#fb9f3a"
                          ],
                          [
                            0.8888888888888888,
                            "#fdca26"
                          ],
                          [
                            1,
                            "#f0f921"
                          ]
                        ],
                        "type": "contour"
                      }
                    ],
                    "contourcarpet": [
                      {
                        "colorbar": {
                          "outlinewidth": 0,
                          "ticks": ""
                        },
                        "type": "contourcarpet"
                      }
                    ],
                    "heatmap": [
                      {
                        "colorbar": {
                          "outlinewidth": 0,
                          "ticks": ""
                        },
                        "colorscale": [
                          [
                            0,
                            "#0d0887"
                          ],
                          [
                            0.1111111111111111,
                            "#46039f"
                          ],
                          [
                            0.2222222222222222,
                            "#7201a8"
                          ],
                          [
                            0.3333333333333333,
                            "#9c179e"
                          ],
                          [
                            0.4444444444444444,
                            "#bd3786"
                          ],
                          [
                            0.5555555555555556,
                            "#d8576b"
                          ],
                          [
                            0.6666666666666666,
                            "#ed7953"
                          ],
                          [
                            0.7777777777777778,
                            "#fb9f3a"
                          ],
                          [
                            0.8888888888888888,
                            "#fdca26"
                          ],
                          [
                            1,
                            "#f0f921"
                          ]
                        ],
                        "type": "heatmap"
                      }
                    ],
                    "histogram": [
                      {
                        "marker": {
                          "pattern": {
                            "fillmode": "overlay",
                            "size": 10,
                            "solidity": 0.2
                          }
                        },
                        "type": "histogram"
                      }
                    ],
                    "histogram2d": [
                      {
                        "colorbar": {
                          "outlinewidth": 0,
                          "ticks": ""
                        },
                        "colorscale": [
                          [
                            0,
                            "#0d0887"
                          ],
                          [
                            0.1111111111111111,
                            "#46039f"
                          ],
                          [
                            0.2222222222222222,
                            "#7201a8"
                          ],
                          [
                            0.3333333333333333,
                            "#9c179e"
                          ],
                          [
                            0.4444444444444444,
                            "#bd3786"
                          ],
                          [
                            0.5555555555555556,
                            "#d8576b"
                          ],
                          [
                            0.6666666666666666,
                            "#ed7953"
                          ],
                          [
                            0.7777777777777778,
                            "#fb9f3a"
                          ],
                          [
                            0.8888888888888888,
                            "#fdca26"
                          ],
                          [
                            1,
                            "#f0f921"
                          ]
                        ],
                        "type": "histogram2d"
                      }
                    ],
                    "histogram2dcontour": [
                      {
                        "colorbar": {
                          "outlinewidth": 0,
                          "ticks": ""
                        },
                        "colorscale": [
                          [
                            0,
                            "#0d0887"
                          ],
                          [
                            0.1111111111111111,
                            "#46039f"
                          ],
                          [
                            0.2222222222222222,
                            "#7201a8"
                          ],
                          [
                            0.3333333333333333,
                            "#9c179e"
                          ],
                          [
                            0.4444444444444444,
                            "#bd3786"
                          ],
                          [
                            0.5555555555555556,
                            "#d8576b"
                          ],
                          [
                            0.6666666666666666,
                            "#ed7953"
                          ],
                          [
                            0.7777777777777778,
                            "#fb9f3a"
                          ],
                          [
                            0.8888888888888888,
                            "#fdca26"
                          ],
                          [
                            1,
                            "#f0f921"
                          ]
                        ],
                        "type": "histogram2dcontour"
                      }
                    ],
                    "mesh3d": [
                      {
                        "colorbar": {
                          "outlinewidth": 0,
                          "ticks": ""
                        },
                        "type": "mesh3d"
                      }
                    ],
                    "parcoords": [
                      {
                        "line": {
                          "colorbar": {
                            "outlinewidth": 0,
                            "ticks": ""
                          }
                        },
                        "type": "parcoords"
                      }
                    ],
                    "pie": [
                      {
                        "automargin": true,
                        "type": "pie"
                      }
                    ],
                    "scatter": [
                      {
                        "fillpattern": {
                          "fillmode": "overlay",
                          "size": 10,
                          "solidity": 0.2
                        },
                        "type": "scatter"
                      }
                    ],
                    "scatter3d": [
                      {
                        "line": {
                          "colorbar": {
                            "outlinewidth": 0,
                            "ticks": ""
                          }
                        },
                        "marker": {
                          "colorbar": {
                            "outlinewidth": 0,
                            "ticks": ""
                          }
                        },
                        "type": "scatter3d"
                      }
                    ],
                    "scattercarpet": [
                      {
                        "marker": {
                          "colorbar": {
                            "outlinewidth": 0,
                            "ticks": ""
                          }
                        },
                        "type": "scattercarpet"
                      }
                    ],
                    "scattergeo": [
                      {
                        "marker": {
                          "colorbar": {
                            "outlinewidth": 0,
                            "ticks": ""
                          }
                        },
                        "type": "scattergeo"
                      }
                    ],
                    "scattergl": [
                      {
                        "marker": {
                          "colorbar": {
                            "outlinewidth": 0,
                            "ticks": ""
                          }
                        },
                        "type": "scattergl"
                      }
                    ],
                    "scattermap": [
                      {
                        "marker": {
                          "colorbar": {
                            "outlinewidth": 0,
                            "ticks": ""
                          }
                        },
                        "type": "scattermap"
                      }
                    ],
                    "scattermapbox": [
                      {
                        "marker": {
                          "colorbar": {
                            "outlinewidth": 0,
                            "ticks": ""
                          }
                        },
                        "type": "scattermapbox"
                      }
                    ],
                    "scatterpolar": [
                      {
                        "marker": {
                          "colorbar": {
                            "outlinewidth": 0,
                            "ticks": ""
                          }
                        },
                        "type": "scatterpolar"
                      }
                    ],
                    "scatterpolargl": [
                      {
                        "marker": {
                          "colorbar": {
                            "outlinewidth": 0,
                            "ticks": ""
                          }
                        },
                        "type": "scatterpolargl"
                      }
                    ],
                    "scatterternary": [
                      {
                        "marker": {
                          "colorbar": {
                            "outlinewidth": 0,
                            "ticks": ""
                          }
                        },
                        "type": "scatterternary"
                      }
                    ],
                    "surface": [
                      {
                        "colorbar": {
                          "outlinewidth": 0,
                          "ticks": ""
                        },
                        "colorscale": [
                          [
                            0,
                            "#0d0887"
                          ],
                          [
                            0.1111111111111111,
                            "#46039f"
                          ],
                          [
                            0.2222222222222222,
                            "#7201a8"
                          ],
                          [
                            0.3333333333333333,
                            "#9c179e"
                          ],
                          [
                            0.4444444444444444,
                            "#bd3786"
                          ],
                          [
                            0.5555555555555556,
                            "#d8576b"
                          ],
                          [
                            0.6666666666666666,
                            "#ed7953"
                          ],
                          [
                            0.7777777777777778,
                            "#fb9f3a"
                          ],
                          [
                            0.8888888888888888,
                            "#fdca26"
                          ],
                          [
                            1,
                            "#f0f921"
                          ]
                        ],
                        "type": "surface"
                      }
                    ],
                    "table": [
                      {
                        "cells": {
                          "fill": {
                            "color": "#EBF0F8"
                          },
                          "line": {
                            "color": "white"
                          }
                        },
                        "header": {
                          "fill": {
                            "color": "#C8D4E3"
                          },
                          "line": {
                            "color": "white"
                          }
                        },
                        "type": "table"
                      }
                    ]
                  },
                  "layout": {
                    "annotationdefaults": {
                      "arrowcolor": "#2a3f5f",
                      "arrowhead": 0,
                      "arrowwidth": 1
                    },
                    "autotypenumbers": "strict",
                    "coloraxis": {
                      "colorbar": {
                        "outlinewidth": 0,
                        "ticks": ""
                      }
                    },
                    "colorscale": {
                      "diverging": [
                        [
                          0,
                          "#8e0152"
                        ],
                        [
                          0.1,
                          "#c51b7d"
                        ],
                        [
                          0.2,
                          "#de77ae"
                        ],
                        [
                          0.3,
                          "#f1b6da"
                        ],
                        [
                          0.4,
                          "#fde0ef"
                        ],
                        [
                          0.5,
                          "#f7f7f7"
                        ],
                        [
                          0.6,
                          "#e6f5d0"
                        ],
                        [
                          0.7,
                          "#b8e186"
                        ],
                        [
                          0.8,
                          "#7fbc41"
                        ],
                        [
                          0.9,
                          "#4d9221"
                        ],
                        [
                          1,
                          "#276419"
                        ]
                      ],
                      "sequential": [
                        [
                          0,
                          "#0d0887"
                        ],
                        [
                          0.1111111111111111,
                          "#46039f"
                        ],
                        [
                          0.2222222222222222,
                          "#7201a8"
                        ],
                        [
                          0.3333333333333333,
                          "#9c179e"
                        ],
                        [
                          0.4444444444444444,
                          "#bd3786"
                        ],
                        [
                          0.5555555555555556,
                          "#d8576b"
                        ],
                        [
                          0.6666666666666666,
                          "#ed7953"
                        ],
                        [
                          0.7777777777777778,
                          "#fb9f3a"
                        ],
                        [
                          0.8888888888888888,
                          "#fdca26"
                        ],
                        [
                          1,
                          "#f0f921"
                        ]
                      ],
                      "sequentialminus": [
                        [
                          0,
                          "#0d0887"
                        ],
                        [
                          0.1111111111111111,
                          "#46039f"
                        ],
                        [
                          0.2222222222222222,
                          "#7201a8"
                        ],
                        [
                          0.3333333333333333,
                          "#9c179e"
                        ],
                        [
                          0.4444444444444444,
                          "#bd3786"
                        ],
                        [
                          0.5555555555555556,
                          "#d8576b"
                        ],
                        [
                          0.6666666666666666,
                          "#ed7953"
                        ],
                        [
                          0.7777777777777778,
                          "#fb9f3a"
                        ],
                        [
                          0.8888888888888888,
                          "#fdca26"
                        ],
                        [
                          1,
                          "#f0f921"
                        ]
                      ]
                    },
                    "colorway": [
                      "#636efa",
                      "#EF553B",
                      "#00cc96",
                      "#ab63fa",
                      "#FFA15A",
                      "#19d3f3",
                      "#FF6692",
                      "#B6E880",
                      "#FF97FF",
                      "#FECB52"
                    ],
                    "font": {
                      "color": "#2a3f5f"
                    },
                    "geo": {
                      "bgcolor": "white",
                      "lakecolor": "white",
                      "landcolor": "white",
                      "showlakes": true,
                      "showland": true,
                      "subunitcolor": "#C8D4E3"
                    },
                    "hoverlabel": {
                      "align": "left"
                    },
                    "hovermode": "closest",
                    "mapbox": {
                      "style": "light"
                    },
                    "paper_bgcolor": "white",
                    "plot_bgcolor": "white",
                    "polar": {
                      "angularaxis": {
                        "gridcolor": "#EBF0F8",
                        "linecolor": "#EBF0F8",
                        "ticks": ""
                      },
                      "bgcolor": "white",
                      "radialaxis": {
                        "gridcolor": "#EBF0F8",
                        "linecolor": "#EBF0F8",
                        "ticks": ""
                      }
                    },
                    "scene": {
                      "xaxis": {
                        "backgroundcolor": "white",
                        "gridcolor": "#DFE8F3",
                        "gridwidth": 2,
                        "linecolor": "#EBF0F8",
                        "showbackground": true,
                        "ticks": "",
                        "zerolinecolor": "#EBF0F8"
                      },
                      "yaxis": {
                        "backgroundcolor": "white",
                        "gridcolor": "#DFE8F3",
                        "gridwidth": 2,
                        "linecolor": "#EBF0F8",
                        "showbackground": true,
                        "ticks": "",
                        "zerolinecolor": "#EBF0F8"
                      },
                      "zaxis": {
                        "backgroundcolor": "white",
                        "gridcolor": "#DFE8F3",
                        "gridwidth": 2,
                        "linecolor": "#EBF0F8",
                        "showbackground": true,
                        "ticks": "",
                        "zerolinecolor": "#EBF0F8"
                      }
                    },
                    "shapedefaults": {
                      "line": {
                        "color": "#2a3f5f"
                      }
                    },
                    "ternary": {
                      "aaxis": {
                        "gridcolor": "#DFE8F3",
                        "linecolor": "#A2B1C6",
                        "ticks": ""
                      },
                      "baxis": {
                        "gridcolor": "#DFE8F3",
                        "linecolor": "#A2B1C6",
                        "ticks": ""
                      },
                      "bgcolor": "white",
                      "caxis": {
                        "gridcolor": "#DFE8F3",
                        "linecolor": "#A2B1C6",
                        "ticks": ""
                      }
                    },
                    "title": {
                      "x": 0.05
                    },
                    "xaxis": {
                      "automargin": true,
                      "gridcolor": "#EBF0F8",
                      "linecolor": "#EBF0F8",
                      "ticks": "",
                      "title": {
                        "standoff": 15
                      },
                      "zerolinecolor": "#EBF0F8",
                      "zerolinewidth": 2
                    },
                    "yaxis": {
                      "automargin": true,
                      "gridcolor": "#EBF0F8",
                      "linecolor": "#EBF0F8",
                      "ticks": "",
                      "title": {
                        "standoff": 15
                      },
                      "zerolinecolor": "#EBF0F8",
                      "zerolinewidth": 2
                    }
                  }
                },
                "title": {
                  "text": "Advanced forecasts (Route: Algeria)"
                },
                "updatemenus": [
                  {
                    "buttons": [
                      {
                        "args": [
                          {
                            "visible": [
                              true,
                              true,
                              true,
                              true,
                              true,
                              false,
                              false,
                              false,
                              false,
                              false,
                              false,
                              false,
                              false,
                              false,
                              false,
                              false,
                              false,
                              false,
                              false,
                              false,
                              false,
                              false,
                              false,
                              false,
                              false,
                              false,
                              false,
                              false,
                              false,
                              false
                            ]
                          },
                          {
                            "title": "Advanced forecasts (Route: Algeria)"
                          }
                        ],
                        "label": "Algeria",
                        "method": "update"
                      },
                      {
                        "args": [
                          {
                            "visible": [
                              false,
                              false,
                              false,
                              false,
                              false,
                              true,
                              true,
                              true,
                              true,
                              true,
                              false,
                              false,
                              false,
                              false,
                              false,
                              false,
                              false,
                              false,
                              false,
                              false,
                              false,
                              false,
                              false,
                              false,
                              false,
                              false,
                              false,
                              false,
                              false,
                              false
                            ]
                          },
                          {
                            "title": "Advanced forecasts (Route: Libya)"
                          }
                        ],
                        "label": "Libya",
                        "method": "update"
                      },
                      {
                        "args": [
                          {
                            "visible": [
                              false,
                              false,
                              false,
                              false,
                              false,
                              false,
                              false,
                              false,
                              false,
                              false,
                              true,
                              true,
                              true,
                              true,
                              true,
                              false,
                              false,
                              false,
                              false,
                              false,
                              false,
                              false,
                              false,
                              false,
                              false,
                              false,
                              false,
                              false,
                              false,
                              false
                            ]
                          },
                          {
                            "title": "Advanced forecasts (Route: Iran)"
                          }
                        ],
                        "label": "Iran",
                        "method": "update"
                      },
                      {
                        "args": [
                          {
                            "visible": [
                              false,
                              false,
                              false,
                              false,
                              false,
                              false,
                              false,
                              false,
                              false,
                              false,
                              false,
                              false,
                              false,
                              false,
                              false,
                              true,
                              true,
                              true,
                              true,
                              true,
                              false,
                              false,
                              false,
                              false,
                              false,
                              false,
                              false,
                              false,
                              false,
                              false
                            ]
                          },
                          {
                            "title": "Advanced forecasts (Route: Azerbaijan)"
                          }
                        ],
                        "label": "Azerbaijan",
                        "method": "update"
                      },
                      {
                        "args": [
                          {
                            "visible": [
                              false,
                              false,
                              false,
                              false,
                              false,
                              false,
                              false,
                              false,
                              false,
                              false,
                              false,
                              false,
                              false,
                              false,
                              false,
                              false,
                              false,
                              false,
                              false,
                              false,
                              true,
                              true,
                              true,
                              true,
                              true,
                              false,
                              false,
                              false,
                              false,
                              false
                            ]
                          },
                          {
                            "title": "Advanced forecasts (Route: Norway)"
                          }
                        ],
                        "label": "Norway",
                        "method": "update"
                      },
                      {
                        "args": [
                          {
                            "visible": [
                              false,
                              false,
                              false,
                              false,
                              false,
                              false,
                              false,
                              false,
                              false,
                              false,
                              false,
                              false,
                              false,
                              false,
                              false,
                              false,
                              false,
                              false,
                              false,
                              false,
                              false,
                              false,
                              false,
                              false,
                              false,
                              true,
                              true,
                              true,
                              true,
                              true
                            ]
                          },
                          {
                            "title": "Advanced forecasts (Route: Russia)"
                          }
                        ],
                        "label": "Russia",
                        "method": "update"
                      }
                    ],
                    "direction": "down",
                    "x": 0.01,
                    "xanchor": "left",
                    "y": 1.12,
                    "yanchor": "top"
                  }
                ],
                "xaxis": {
                  "title": {
                    "text": "Date"
                  }
                },
                "yaxis": {
                  "title": {
                    "text": "Volume"
                  }
                }
              }
            }
          },
          "metadata": {},
          "output_type": "display_data"
        },
        {
          "name": "stdout",
          "output_type": "stream",
          "text": [
            "Saved small multiples (Plotly) to: forecasts_outputs\\routes_small_multiples.html\n"
          ]
        },
        {
          "data": {
            "application/vnd.plotly.v1+json": {
              "config": {
                "plotlyServerURL": "https://plot.ly"
              },
              "data": [
                {
                  "line": {
                    "color": "#1f77b4"
                  },
                  "mode": "lines",
                  "name": "Actual",
                  "showlegend": false,
                  "type": "scatter",
                  "x": [
                    "2018-01-01T00:00:00.000000000",
                    "2018-02-01T00:00:00.000000000",
                    "2018-03-01T00:00:00.000000000",
                    "2018-04-01T00:00:00.000000000",
                    "2018-05-01T00:00:00.000000000",
                    "2018-06-01T00:00:00.000000000",
                    "2018-07-01T00:00:00.000000000",
                    "2018-08-01T00:00:00.000000000",
                    "2018-09-01T00:00:00.000000000",
                    "2018-10-01T00:00:00.000000000",
                    "2018-11-01T00:00:00.000000000",
                    "2018-12-01T00:00:00.000000000",
                    "2019-01-01T00:00:00.000000000",
                    "2019-02-01T00:00:00.000000000",
                    "2019-03-01T00:00:00.000000000",
                    "2019-04-01T00:00:00.000000000",
                    "2019-05-01T00:00:00.000000000",
                    "2019-06-01T00:00:00.000000000",
                    "2019-07-01T00:00:00.000000000",
                    "2019-08-01T00:00:00.000000000",
                    "2019-09-01T00:00:00.000000000",
                    "2019-10-01T00:00:00.000000000",
                    "2019-11-01T00:00:00.000000000",
                    "2019-12-01T00:00:00.000000000",
                    "2020-01-01T00:00:00.000000000",
                    "2020-02-01T00:00:00.000000000",
                    "2020-03-01T00:00:00.000000000",
                    "2020-04-01T00:00:00.000000000",
                    "2020-05-01T00:00:00.000000000",
                    "2020-06-01T00:00:00.000000000",
                    "2020-07-01T00:00:00.000000000",
                    "2020-08-01T00:00:00.000000000",
                    "2020-09-01T00:00:00.000000000",
                    "2020-10-01T00:00:00.000000000",
                    "2020-11-01T00:00:00.000000000",
                    "2020-12-01T00:00:00.000000000",
                    "2021-01-01T00:00:00.000000000",
                    "2021-02-01T00:00:00.000000000",
                    "2021-03-01T00:00:00.000000000",
                    "2021-04-01T00:00:00.000000000",
                    "2021-05-01T00:00:00.000000000",
                    "2021-06-01T00:00:00.000000000",
                    "2021-07-01T00:00:00.000000000",
                    "2021-08-01T00:00:00.000000000",
                    "2021-09-01T00:00:00.000000000",
                    "2021-10-01T00:00:00.000000000",
                    "2021-11-01T00:00:00.000000000",
                    "2021-12-01T00:00:00.000000000",
                    "2022-01-01T00:00:00.000000000",
                    "2022-02-01T00:00:00.000000000",
                    "2022-03-01T00:00:00.000000000",
                    "2022-04-01T00:00:00.000000000",
                    "2022-05-01T00:00:00.000000000",
                    "2022-06-01T00:00:00.000000000",
                    "2022-07-01T00:00:00.000000000",
                    "2022-08-01T00:00:00.000000000",
                    "2022-09-01T00:00:00.000000000",
                    "2022-10-01T00:00:00.000000000",
                    "2022-11-01T00:00:00.000000000",
                    "2022-12-01T00:00:00.000000000",
                    "2023-01-01T00:00:00.000000000",
                    "2023-02-01T00:00:00.000000000",
                    "2023-03-01T00:00:00.000000000",
                    "2023-04-01T00:00:00.000000000",
                    "2023-05-01T00:00:00.000000000",
                    "2023-06-01T00:00:00.000000000",
                    "2023-07-01T00:00:00.000000000",
                    "2023-08-01T00:00:00.000000000",
                    "2023-09-01T00:00:00.000000000",
                    "2023-10-01T00:00:00.000000000",
                    "2023-11-01T00:00:00.000000000",
                    "2023-12-01T00:00:00.000000000",
                    "2024-01-01T00:00:00.000000000",
                    "2024-02-01T00:00:00.000000000",
                    "2024-03-01T00:00:00.000000000",
                    "2024-04-01T00:00:00.000000000",
                    "2024-05-01T00:00:00.000000000",
                    "2024-06-01T00:00:00.000000000",
                    "2024-07-01T00:00:00.000000000",
                    "2024-08-01T00:00:00.000000000",
                    "2024-09-01T00:00:00.000000000",
                    "2024-10-01T00:00:00.000000000",
                    "2024-11-01T00:00:00.000000000",
                    "2024-12-01T00:00:00.000000000",
                    "2025-01-01T00:00:00.000000000",
                    "2025-02-01T00:00:00.000000000",
                    "2025-03-01T00:00:00.000000000",
                    "2025-04-01T00:00:00.000000000",
                    "2025-05-01T00:00:00.000000000",
                    "2025-06-01T00:00:00.000000000",
                    "2025-07-01T00:00:00.000000000"
                  ],
                  "xaxis": "x",
                  "y": {
                    "bdata": "0nEvtimPsEBEtr85HvKwQADmc+b2gLBAREUF5xxAqEAB4uINgM6kQIBzfpJIwKZAuFXLaA2VpEDewGb6hGiiQJ4M/JMlIKRAcLgGt+OxqEComsBbq6OpQJTTNP0hS6pAomnLc21CrEDaCo30m7mkQA0jOwEcuZNAeffdezK5m0Bq9i/YwJudQFiyBl0C2plA2qAIxDermkC2UbrwDJOXQNejcD0KtphAgn3reuLzn0CQZ7F+UfahQMZIh9Trv6ZA6lXoOrSioUAMtaZ5B7GYQAy1pnkHsZhA0A5Rl0q8kED5D+m3r1ORQJT2Bl9Y75JAdthgKfvWm0B87JoqkKyeQGwJzfa376FA21xrbqPIqECuU0mGDOypQBt8PCy9gaxA14ZAq0VPqkAolK7g6o2uQDdlEhhw1q5ADLtaHMUXrEDCAVfpPBCtQOB6FK5HP6tAjulEBmk4qUDgYnuFQbmlQAAjvtdTsqZAfLFJXWj/qkAejWP5N1GoQN6iC+mX0qdAxEdvZaOrqEBYfMVX/EWpQAR6I21k2qhAa9RDNBrZqEDnuIoTd8SnQABGyxDtDqZAuQBMBGPupUBWbhK0FJOoQLd1Gyj6nqlAbKswf5r7p0CLJb9YcuGmQA7S2bNYE6xAVVJJlRvPokC0sMb03i+mQI2kAx9tR6dA0gxE+SfTrEDMbYjW+ImmQECnDXTawqZAQgghhBCZqEBhHxf2cc2oQG2g0wY6YKtA9957771UqEADnTbQ6cmmQCmllFJKIadAMzMzMzPbo0DKyFg6ceqjQEc2TAiU06hAD5wzonTEqkAm4ZBFARmpQCYJr0r//adA2BZxv6lvpkBMvcf9NyWmQBC3MPhxVqBAOLTIdr62qUAyTetJs/OqQIrgwo35hqdAOPyuiwHYqECWS38MWnepQLlyyfaHnadAeAVZTnZup0BmvyqsqQanQAIJEUEVb6dA+aJc4ICOpUA=",
                    "dtype": "f8"
                  },
                  "yaxis": "y"
                },
                {
                  "line": {
                    "color": "#ff7f0e",
                    "dash": "dash"
                  },
                  "mode": "lines",
                  "name": "Existing",
                  "showlegend": false,
                  "type": "scatter",
                  "x": [
                    "2025-08-01T00:00:00.000000000",
                    "2025-09-01T00:00:00.000000000",
                    "2025-10-01T00:00:00.000000000",
                    "2025-11-01T00:00:00.000000000",
                    "2025-12-01T00:00:00.000000000",
                    "2026-01-01T00:00:00.000000000",
                    "2026-02-01T00:00:00.000000000",
                    "2026-03-01T00:00:00.000000000",
                    "2026-04-01T00:00:00.000000000",
                    "2026-05-01T00:00:00.000000000",
                    "2026-06-01T00:00:00.000000000",
                    "2026-07-01T00:00:00.000000000",
                    "2026-08-01T00:00:00.000000000",
                    "2026-09-01T00:00:00.000000000",
                    "2026-10-01T00:00:00.000000000",
                    "2026-11-01T00:00:00.000000000",
                    "2026-12-01T00:00:00.000000000",
                    "2027-01-01T00:00:00.000000000",
                    "2027-02-01T00:00:00.000000000",
                    "2027-03-01T00:00:00.000000000",
                    "2027-04-01T00:00:00.000000000",
                    "2027-05-01T00:00:00.000000000",
                    "2027-06-01T00:00:00.000000000",
                    "2027-07-01T00:00:00.000000000",
                    "2027-08-01T00:00:00.000000000",
                    "2027-09-01T00:00:00.000000000",
                    "2027-10-01T00:00:00.000000000",
                    "2027-11-01T00:00:00.000000000",
                    "2027-12-01T00:00:00.000000000"
                  ],
                  "xaxis": "x",
                  "y": {
                    "bdata": "8Ritd423pUCEg5mY346gQGEi8CvEBKpAoIWvlb3QqUD4CmHdDDurQKAXEZoR+aRA6caOu9ZQpkDHXVfdKkynQIk+RLBApKhASEixI621pkD9vJQjfrKlQDJGzDvRrqVABIvrJieRpUCaFeOMrR+lQFDzRaQuAqhAEONrF5Ngp0AJ0SuZgemnQJ/f4R4mTqVA5l4HQb84pkB1fiJxLOimQLsx+UYH86dAnYQkBDmZpkABDocscUemQFy1Ts/CE6ZAyYM4/eshpkC2kM6NSOWkQN4KgAxmf6lAg6MVZzJLqUB24s3zxQmqQA==",
                    "dtype": "f8"
                  },
                  "yaxis": "y"
                },
                {
                  "mode": "lines",
                  "name": "RF",
                  "showlegend": false,
                  "type": "scatter",
                  "visible": false,
                  "x": [
                    "2025-08-01T00:00:00.000000000",
                    "2025-09-01T00:00:00.000000000",
                    "2025-10-01T00:00:00.000000000",
                    "2025-11-01T00:00:00.000000000",
                    "2025-12-01T00:00:00.000000000",
                    "2026-01-01T00:00:00.000000000",
                    "2026-02-01T00:00:00.000000000",
                    "2026-03-01T00:00:00.000000000",
                    "2026-04-01T00:00:00.000000000",
                    "2026-05-01T00:00:00.000000000",
                    "2026-06-01T00:00:00.000000000",
                    "2026-07-01T00:00:00.000000000",
                    "2026-08-01T00:00:00.000000000",
                    "2026-09-01T00:00:00.000000000",
                    "2026-10-01T00:00:00.000000000",
                    "2026-11-01T00:00:00.000000000",
                    "2026-12-01T00:00:00.000000000",
                    "2027-01-01T00:00:00.000000000",
                    "2027-02-01T00:00:00.000000000",
                    "2027-03-01T00:00:00.000000000",
                    "2027-04-01T00:00:00.000000000",
                    "2027-05-01T00:00:00.000000000",
                    "2027-06-01T00:00:00.000000000",
                    "2027-07-01T00:00:00.000000000",
                    "2027-08-01T00:00:00.000000000",
                    "2027-09-01T00:00:00.000000000",
                    "2027-10-01T00:00:00.000000000",
                    "2027-11-01T00:00:00.000000000",
                    "2027-12-01T00:00:00.000000000"
                  ],
                  "xaxis": "x",
                  "y": {
                    "bdata": "5XkVifAPqEA41hunIA2pQAC9XVB6hahAumTVfdUHqEAy41kbE6moQFQVzBVELKdAs/JeigDkpkBhkut9rEOnQJE4LAc/L6hAYxYzwFiDp0CrSZ02P7inQH4cWcsdSahABUtiZh0MqED1mL8vLIynQCP4h8mEsKdA6ngdPTTEp0BbRDCm9/mnQMnChRgvZadAImqxXwyWp0ADc5r45MinQIXfLsrHBKhAjEPQ0qvSp0DL0T9KnMynQHqrvn+UradApH9NECTSp0D2gx0xdZOnQKEEoQ0P0qdAqWyN25bJp0DTqJM0SyOoQA==",
                    "dtype": "f8"
                  },
                  "yaxis": "y"
                },
                {
                  "mode": "lines",
                  "name": "SARIMAX",
                  "showlegend": false,
                  "type": "scatter",
                  "visible": true,
                  "x": [
                    "2025-08-01T00:00:00.000000000",
                    "2025-09-01T00:00:00.000000000",
                    "2025-10-01T00:00:00.000000000",
                    "2025-11-01T00:00:00.000000000",
                    "2025-12-01T00:00:00.000000000",
                    "2026-01-01T00:00:00.000000000",
                    "2026-02-01T00:00:00.000000000",
                    "2026-03-01T00:00:00.000000000",
                    "2026-04-01T00:00:00.000000000",
                    "2026-05-01T00:00:00.000000000",
                    "2026-06-01T00:00:00.000000000",
                    "2026-07-01T00:00:00.000000000",
                    "2026-08-01T00:00:00.000000000",
                    "2026-09-01T00:00:00.000000000",
                    "2026-10-01T00:00:00.000000000",
                    "2026-11-01T00:00:00.000000000",
                    "2026-12-01T00:00:00.000000000",
                    "2027-01-01T00:00:00.000000000",
                    "2027-02-01T00:00:00.000000000",
                    "2027-03-01T00:00:00.000000000",
                    "2027-04-01T00:00:00.000000000",
                    "2027-05-01T00:00:00.000000000",
                    "2027-06-01T00:00:00.000000000",
                    "2027-07-01T00:00:00.000000000",
                    "2027-08-01T00:00:00.000000000",
                    "2027-09-01T00:00:00.000000000",
                    "2027-10-01T00:00:00.000000000",
                    "2027-11-01T00:00:00.000000000",
                    "2027-12-01T00:00:00.000000000"
                  ],
                  "xaxis": "x",
                  "y": {
                    "bdata": "mrzpDGQcpkBuU5fjMqumQINncE6pHqlAHvsAcatDqEBS37p3vfCpQJzZP5V9VqhArdicrvtIp0B9kY/GwW+nQLTsiEVpY6lA6y3ASJdLp0DjPuugjLWlQGzscoRPEKZAuSf0t48Ep0CIn28JtJylQEDCU/VzSahAe4Zmc2ZJqUC/eBVHVCmqQE1e1Gm0/aZAY49Ntz83p0BQNBAzBoGoQEuqA92z2KhAGbXDjL8kpkC3SZcKqFOmQCc6NnlzuaZApCKnxhXupUBDSEr2zQelQInAUJ/WQqlA75Ec3cxGqUDrEQG1Nu+oQA==",
                    "dtype": "f8"
                  },
                  "yaxis": "y"
                },
                {
                  "mode": "lines",
                  "name": "XGB",
                  "showlegend": false,
                  "type": "scatter",
                  "visible": false,
                  "x": [
                    "2025-08-01T00:00:00.000000000",
                    "2025-09-01T00:00:00.000000000",
                    "2025-10-01T00:00:00.000000000",
                    "2025-11-01T00:00:00.000000000",
                    "2025-12-01T00:00:00.000000000",
                    "2026-01-01T00:00:00.000000000",
                    "2026-02-01T00:00:00.000000000",
                    "2026-03-01T00:00:00.000000000",
                    "2026-04-01T00:00:00.000000000",
                    "2026-05-01T00:00:00.000000000",
                    "2026-06-01T00:00:00.000000000",
                    "2026-07-01T00:00:00.000000000",
                    "2026-08-01T00:00:00.000000000",
                    "2026-09-01T00:00:00.000000000",
                    "2026-10-01T00:00:00.000000000",
                    "2026-11-01T00:00:00.000000000",
                    "2026-12-01T00:00:00.000000000",
                    "2027-01-01T00:00:00.000000000",
                    "2027-02-01T00:00:00.000000000",
                    "2027-03-01T00:00:00.000000000",
                    "2027-04-01T00:00:00.000000000",
                    "2027-05-01T00:00:00.000000000",
                    "2027-06-01T00:00:00.000000000",
                    "2027-07-01T00:00:00.000000000",
                    "2027-08-01T00:00:00.000000000",
                    "2027-09-01T00:00:00.000000000",
                    "2027-10-01T00:00:00.000000000",
                    "2027-11-01T00:00:00.000000000",
                    "2027-12-01T00:00:00.000000000"
                  ],
                  "xaxis": "x",
                  "y": {
                    "bdata": "7qoqRfAZPUUsSE5FDRJGRYmXSUWt1kBF3OI1RV4tN0WAvzhFFOQ9RVn8M0VQ4DlF+59JRc2iREWl70NFa3w7RfgzPUWpNjhFBhg9RSEAOkWNSEhFDRtARb3sQkVnkDxFw803RQ/hPkX1SjtFZPRBRWPVQEU=",
                    "dtype": "f4"
                  },
                  "yaxis": "y"
                },
                {
                  "line": {
                    "color": "#1f77b4"
                  },
                  "mode": "lines",
                  "name": "Actual",
                  "showlegend": false,
                  "type": "scatter",
                  "x": [
                    "2018-01-01T00:00:00.000000000",
                    "2018-02-01T00:00:00.000000000",
                    "2018-03-01T00:00:00.000000000",
                    "2018-04-01T00:00:00.000000000",
                    "2018-05-01T00:00:00.000000000",
                    "2018-06-01T00:00:00.000000000",
                    "2018-07-01T00:00:00.000000000",
                    "2018-08-01T00:00:00.000000000",
                    "2018-09-01T00:00:00.000000000",
                    "2018-10-01T00:00:00.000000000",
                    "2018-11-01T00:00:00.000000000",
                    "2018-12-01T00:00:00.000000000",
                    "2019-01-01T00:00:00.000000000",
                    "2019-02-01T00:00:00.000000000",
                    "2019-03-01T00:00:00.000000000",
                    "2019-04-01T00:00:00.000000000",
                    "2019-05-01T00:00:00.000000000",
                    "2019-06-01T00:00:00.000000000",
                    "2019-07-01T00:00:00.000000000",
                    "2019-08-01T00:00:00.000000000",
                    "2019-09-01T00:00:00.000000000",
                    "2019-10-01T00:00:00.000000000",
                    "2019-11-01T00:00:00.000000000",
                    "2019-12-01T00:00:00.000000000",
                    "2020-01-01T00:00:00.000000000",
                    "2020-02-01T00:00:00.000000000",
                    "2020-03-01T00:00:00.000000000",
                    "2020-04-01T00:00:00.000000000",
                    "2020-05-01T00:00:00.000000000",
                    "2020-06-01T00:00:00.000000000",
                    "2020-07-01T00:00:00.000000000",
                    "2020-08-01T00:00:00.000000000",
                    "2020-09-01T00:00:00.000000000",
                    "2020-10-01T00:00:00.000000000",
                    "2020-11-01T00:00:00.000000000",
                    "2020-12-01T00:00:00.000000000",
                    "2021-01-01T00:00:00.000000000",
                    "2021-02-01T00:00:00.000000000",
                    "2021-03-01T00:00:00.000000000",
                    "2021-04-01T00:00:00.000000000",
                    "2021-05-01T00:00:00.000000000",
                    "2021-06-01T00:00:00.000000000",
                    "2021-07-01T00:00:00.000000000",
                    "2021-08-01T00:00:00.000000000",
                    "2021-09-01T00:00:00.000000000",
                    "2021-10-01T00:00:00.000000000",
                    "2021-11-01T00:00:00.000000000",
                    "2021-12-01T00:00:00.000000000",
                    "2022-01-01T00:00:00.000000000",
                    "2022-02-01T00:00:00.000000000",
                    "2022-03-01T00:00:00.000000000",
                    "2022-04-01T00:00:00.000000000",
                    "2022-05-01T00:00:00.000000000",
                    "2022-06-01T00:00:00.000000000",
                    "2022-07-01T00:00:00.000000000",
                    "2022-08-01T00:00:00.000000000",
                    "2022-09-01T00:00:00.000000000",
                    "2022-10-01T00:00:00.000000000",
                    "2022-11-01T00:00:00.000000000",
                    "2022-12-01T00:00:00.000000000",
                    "2023-01-01T00:00:00.000000000",
                    "2023-02-01T00:00:00.000000000",
                    "2023-03-01T00:00:00.000000000",
                    "2023-04-01T00:00:00.000000000",
                    "2023-05-01T00:00:00.000000000",
                    "2023-06-01T00:00:00.000000000",
                    "2023-07-01T00:00:00.000000000",
                    "2023-08-01T00:00:00.000000000",
                    "2023-09-01T00:00:00.000000000",
                    "2023-10-01T00:00:00.000000000",
                    "2023-11-01T00:00:00.000000000",
                    "2023-12-01T00:00:00.000000000",
                    "2024-01-01T00:00:00.000000000",
                    "2024-02-01T00:00:00.000000000",
                    "2024-03-01T00:00:00.000000000",
                    "2024-04-01T00:00:00.000000000",
                    "2024-05-01T00:00:00.000000000",
                    "2024-06-01T00:00:00.000000000",
                    "2024-07-01T00:00:00.000000000",
                    "2024-08-01T00:00:00.000000000",
                    "2024-09-01T00:00:00.000000000",
                    "2024-10-01T00:00:00.000000000",
                    "2024-11-01T00:00:00.000000000",
                    "2024-12-01T00:00:00.000000000",
                    "2025-01-01T00:00:00.000000000",
                    "2025-02-01T00:00:00.000000000",
                    "2025-03-01T00:00:00.000000000",
                    "2025-04-01T00:00:00.000000000",
                    "2025-05-01T00:00:00.000000000",
                    "2025-06-01T00:00:00.000000000",
                    "2025-07-01T00:00:00.000000000"
                  ],
                  "xaxis": "x2",
                  "y": {
                    "bdata": "AAAAAABgdkB+jhfx0Ax7QCJjtj0NfoFAaerYWpQWMEBkPjWQQCdvQPNuZ1kdtHxAWD2gpPeMe0Cq4EqEQTp8QC7G6MdIuIJAV0u39uvhgkAqnjsC0DGAQHtoIO7Uo31AP9N7Ve5HfkAOMWkThwV/QF5qgCGHCYFAdhqB9T5FgkA1FgrrUqiDQK7bsRkfn4BACtejcD2CgEDjYAErVqGCQD0K16NwUYBAU/AjagsDgkAhdTy4ffuBQGVRsbIPXoBAPvX1+BGLekAK16NwPaZ5QArXo3A9pnlAulhJ/obag0CmLM9k+0B8QHE9Ctej+HdAeOua5e5PfEBOaGp2iN9xQE0SZtfbQnxAv30sK2nbfkAvLMsKN395QDFyAp+2T3NAlDxIDm+ic0D/MD+uX892QNxEE/C3IndAyrmn9yDQcUBlqPkfNPd2QAY6baDTpmtAuacPrBEhdEBYpQ7mwqF0QD8VEXDgMnFAsTTjoBUMdECu62WzgGd1QF96haRAl21AUZqhitIecEDcMEu9q39hQK4i8SoSD2dAxZJfLPmtckAa0KYBbQJxQHwCrH7anWpAwbvXkIFJbECvVJI8xZVrQK20seZhX2pAlvtfqhQ3dEA9CtejcPdzQG1I2GWEBXVAPVuXZ3sQbkDo0gnqrN5tQGEfF/ZxSXNAbOzBPP59ckBHgl9QHz1xQDIzMzMz425AXkXiVSQOaEChuh2q2xFkQML1KFyP6mpADtXtUN0ubEC0gU4b6EB1QHU7VLdDxWdAoyc4eoIzZ0DcE4oQIc1kQE0JwOa4MGhAKh2s/3P5bkBLHmVVj9BjQFHqpTzNrlJACY6e4OjJUkD7E2g1qiZWQFLdSTEtwVJAiSsvUoyMWkBSliGOdd1jQMyc6yhJDVlAQHOpz1voR0A9mtBLLidGQJwnTPLfb2VAOfxpMo25Y0DHUA/sUMteQI6aLkMbu0xA7BooqVKRSEA=",
                    "dtype": "f8"
                  },
                  "yaxis": "y2"
                },
                {
                  "line": {
                    "color": "#ff7f0e",
                    "dash": "dash"
                  },
                  "mode": "lines",
                  "name": "Existing",
                  "showlegend": false,
                  "type": "scatter",
                  "x": [
                    "2025-08-01T00:00:00.000000000",
                    "2025-09-01T00:00:00.000000000",
                    "2025-10-01T00:00:00.000000000",
                    "2025-11-01T00:00:00.000000000",
                    "2025-12-01T00:00:00.000000000",
                    "2026-01-01T00:00:00.000000000",
                    "2026-02-01T00:00:00.000000000",
                    "2026-03-01T00:00:00.000000000",
                    "2026-04-01T00:00:00.000000000",
                    "2026-05-01T00:00:00.000000000",
                    "2026-06-01T00:00:00.000000000",
                    "2026-07-01T00:00:00.000000000",
                    "2026-08-01T00:00:00.000000000",
                    "2026-09-01T00:00:00.000000000",
                    "2026-10-01T00:00:00.000000000",
                    "2026-11-01T00:00:00.000000000",
                    "2026-12-01T00:00:00.000000000",
                    "2027-01-01T00:00:00.000000000",
                    "2027-02-01T00:00:00.000000000",
                    "2027-03-01T00:00:00.000000000",
                    "2027-04-01T00:00:00.000000000",
                    "2027-05-01T00:00:00.000000000",
                    "2027-06-01T00:00:00.000000000",
                    "2027-07-01T00:00:00.000000000",
                    "2027-08-01T00:00:00.000000000",
                    "2027-09-01T00:00:00.000000000",
                    "2027-10-01T00:00:00.000000000",
                    "2027-11-01T00:00:00.000000000",
                    "2027-12-01T00:00:00.000000000"
                  ],
                  "xaxis": "x2",
                  "y": {
                    "bdata": "eM12Lh8hNEB0AvgAdsg7QHTv9eKUm1RAObjKtkDUYkADYnv9l8FbQO1xmDvGBmVA9VX+l5HkYkBAnQGTSBdmQHBKp+f442hAxJrz0G3fZUAf8YIW1DReQGU6QZdD5F9ApX3g8AMIX0D5UTBULcteQIgRUn36eGNAQVrAC8eGZ0BFzE/eEkRhQAAAAAAAAPh/AAAAAAAA+H8AAAAAAAD4fwAAAAAAAPh/AAAAAAAA+H8AAAAAAAD4fwAAAAAAAPh/AAAAAAAA+H8AAAAAAAD4fwAAAAAAAPh/AAAAAAAA+H8AAAAAAAD4fw==",
                    "dtype": "f8"
                  },
                  "yaxis": "y2"
                },
                {
                  "mode": "lines",
                  "name": "RF",
                  "showlegend": false,
                  "type": "scatter",
                  "visible": false,
                  "x": [
                    "2025-08-01T00:00:00.000000000",
                    "2025-09-01T00:00:00.000000000",
                    "2025-10-01T00:00:00.000000000",
                    "2025-11-01T00:00:00.000000000",
                    "2025-12-01T00:00:00.000000000",
                    "2026-01-01T00:00:00.000000000",
                    "2026-02-01T00:00:00.000000000",
                    "2026-03-01T00:00:00.000000000",
                    "2026-04-01T00:00:00.000000000",
                    "2026-05-01T00:00:00.000000000",
                    "2026-06-01T00:00:00.000000000",
                    "2026-07-01T00:00:00.000000000",
                    "2026-08-01T00:00:00.000000000",
                    "2026-09-01T00:00:00.000000000",
                    "2026-10-01T00:00:00.000000000",
                    "2026-11-01T00:00:00.000000000",
                    "2026-12-01T00:00:00.000000000",
                    "2027-01-01T00:00:00.000000000",
                    "2027-02-01T00:00:00.000000000",
                    "2027-03-01T00:00:00.000000000",
                    "2027-04-01T00:00:00.000000000",
                    "2027-05-01T00:00:00.000000000",
                    "2027-06-01T00:00:00.000000000",
                    "2027-07-01T00:00:00.000000000",
                    "2027-08-01T00:00:00.000000000",
                    "2027-09-01T00:00:00.000000000",
                    "2027-10-01T00:00:00.000000000",
                    "2027-11-01T00:00:00.000000000",
                    "2027-12-01T00:00:00.000000000"
                  ],
                  "xaxis": "x2",
                  "y": {
                    "bdata": "SVLdB61iVEAGIEpNyDtYQOXOVC02WlhAc4Avjb1gV0DS/Q/swtdTQI0lHxaaOFJAOQadBohyVECjQr7qQ1ZaQNvM2UwPsFZAXIXCmOKwVUDDZgF+HzZSQPB1+KAVhVNAqsqgEB2SV0C43MTHTkRVQBsWEX8b/FVALQbV5UW2VECmlp1Jn8VUQP5zJ/PKYFVAVkCYN+QeVUCW2eGVaTRYQGMl04XOZVVA5b6S/qPaVUC3qqSkAEpUQNxr9LuuL1VADnQg4kAIVkBHppUKy+hUQEq5j968bVVANoSSUgOZVUA6Qa8aZyVVQA==",
                    "dtype": "f8"
                  },
                  "yaxis": "y2"
                },
                {
                  "mode": "lines",
                  "name": "SARIMAX",
                  "showlegend": false,
                  "type": "scatter",
                  "visible": true,
                  "x": [
                    "2025-08-01T00:00:00.000000000",
                    "2025-09-01T00:00:00.000000000",
                    "2025-10-01T00:00:00.000000000",
                    "2025-11-01T00:00:00.000000000",
                    "2025-12-01T00:00:00.000000000",
                    "2026-01-01T00:00:00.000000000",
                    "2026-02-01T00:00:00.000000000",
                    "2026-03-01T00:00:00.000000000",
                    "2026-04-01T00:00:00.000000000",
                    "2026-05-01T00:00:00.000000000",
                    "2026-06-01T00:00:00.000000000",
                    "2026-07-01T00:00:00.000000000",
                    "2026-08-01T00:00:00.000000000",
                    "2026-09-01T00:00:00.000000000",
                    "2026-10-01T00:00:00.000000000",
                    "2026-11-01T00:00:00.000000000",
                    "2026-12-01T00:00:00.000000000",
                    "2027-01-01T00:00:00.000000000",
                    "2027-02-01T00:00:00.000000000",
                    "2027-03-01T00:00:00.000000000",
                    "2027-04-01T00:00:00.000000000",
                    "2027-05-01T00:00:00.000000000",
                    "2027-06-01T00:00:00.000000000",
                    "2027-07-01T00:00:00.000000000",
                    "2027-08-01T00:00:00.000000000",
                    "2027-09-01T00:00:00.000000000",
                    "2027-10-01T00:00:00.000000000",
                    "2027-11-01T00:00:00.000000000",
                    "2027-12-01T00:00:00.000000000"
                  ],
                  "xaxis": "x2",
                  "y": {
                    "bdata": "iBgIZ7BSRUDVrZ1mf6hPQI4J4kyx1ltAViIcP9ATYUDgen50qMBLQIBDkv0TazZAUNjXNESvE0AynjUPk6NHQPXlOM0H11NAWCQ4+J/IRkBWjmqBHmY3wIGhQ8qCRTDAtqHg0nsfPcCagdsiVBwwwHfAcgMdjDtAqHS9tw75TUB0NYXDhrIuwJPm5fW3uUrAwQnWVRrUUMBozg/v8lgHwEBHV983RTFA3ESOHs28MMAXeItC/DZVwJJAXi3Hb1TAJjfbkH08V8BAFmDGX3xTwJ9oDALfkkDAv2AlT4DRBMAn2KPIJtpTwA==",
                    "dtype": "f8"
                  },
                  "yaxis": "y2"
                },
                {
                  "mode": "lines",
                  "name": "XGB",
                  "showlegend": false,
                  "type": "scatter",
                  "visible": false,
                  "x": [
                    "2025-08-01T00:00:00.000000000",
                    "2025-09-01T00:00:00.000000000",
                    "2025-10-01T00:00:00.000000000",
                    "2025-11-01T00:00:00.000000000",
                    "2025-12-01T00:00:00.000000000",
                    "2026-01-01T00:00:00.000000000",
                    "2026-02-01T00:00:00.000000000",
                    "2026-03-01T00:00:00.000000000",
                    "2026-04-01T00:00:00.000000000",
                    "2026-05-01T00:00:00.000000000",
                    "2026-06-01T00:00:00.000000000",
                    "2026-07-01T00:00:00.000000000",
                    "2026-08-01T00:00:00.000000000",
                    "2026-09-01T00:00:00.000000000",
                    "2026-10-01T00:00:00.000000000",
                    "2026-11-01T00:00:00.000000000",
                    "2026-12-01T00:00:00.000000000",
                    "2027-01-01T00:00:00.000000000",
                    "2027-02-01T00:00:00.000000000",
                    "2027-03-01T00:00:00.000000000",
                    "2027-04-01T00:00:00.000000000",
                    "2027-05-01T00:00:00.000000000",
                    "2027-06-01T00:00:00.000000000",
                    "2027-07-01T00:00:00.000000000",
                    "2027-08-01T00:00:00.000000000",
                    "2027-09-01T00:00:00.000000000",
                    "2027-10-01T00:00:00.000000000",
                    "2027-11-01T00:00:00.000000000",
                    "2027-12-01T00:00:00.000000000"
                  ],
                  "xaxis": "x2",
                  "y": {
                    "bdata": "G4utQj9t5kJJqrdCUz+TQtMNXkJ7psNCj07BQgdGx0Lji5BCaHOUQiXwyEJjvuNCajytQmZ0k0L6l3hCXh/ZQmhK7ULaQaxCysswQu4AukJTVslCasTGQiTckEJfGotC6hnGQhFJ4EIJN7VCUV+YQrYWckI=",
                    "dtype": "f4"
                  },
                  "yaxis": "y2"
                },
                {
                  "line": {
                    "color": "#1f77b4"
                  },
                  "mode": "lines",
                  "name": "Actual",
                  "showlegend": false,
                  "type": "scatter",
                  "x": [
                    "2018-01-01T00:00:00.000000000",
                    "2018-02-01T00:00:00.000000000",
                    "2018-03-01T00:00:00.000000000",
                    "2018-04-01T00:00:00.000000000",
                    "2018-05-01T00:00:00.000000000",
                    "2018-06-01T00:00:00.000000000",
                    "2018-07-01T00:00:00.000000000",
                    "2018-08-01T00:00:00.000000000",
                    "2018-09-01T00:00:00.000000000",
                    "2018-10-01T00:00:00.000000000",
                    "2018-11-01T00:00:00.000000000",
                    "2018-12-01T00:00:00.000000000",
                    "2019-01-01T00:00:00.000000000",
                    "2019-02-01T00:00:00.000000000",
                    "2019-03-01T00:00:00.000000000",
                    "2019-04-01T00:00:00.000000000",
                    "2019-05-01T00:00:00.000000000",
                    "2019-06-01T00:00:00.000000000",
                    "2019-07-01T00:00:00.000000000",
                    "2019-08-01T00:00:00.000000000",
                    "2019-09-01T00:00:00.000000000",
                    "2019-10-01T00:00:00.000000000",
                    "2019-11-01T00:00:00.000000000",
                    "2019-12-01T00:00:00.000000000",
                    "2020-01-01T00:00:00.000000000",
                    "2020-02-01T00:00:00.000000000",
                    "2020-03-01T00:00:00.000000000",
                    "2020-04-01T00:00:00.000000000",
                    "2020-05-01T00:00:00.000000000",
                    "2020-06-01T00:00:00.000000000",
                    "2020-07-01T00:00:00.000000000",
                    "2020-08-01T00:00:00.000000000",
                    "2020-09-01T00:00:00.000000000",
                    "2020-10-01T00:00:00.000000000",
                    "2020-11-01T00:00:00.000000000",
                    "2020-12-01T00:00:00.000000000",
                    "2021-01-01T00:00:00.000000000",
                    "2021-02-01T00:00:00.000000000",
                    "2021-03-01T00:00:00.000000000",
                    "2021-04-01T00:00:00.000000000",
                    "2021-05-01T00:00:00.000000000",
                    "2021-06-01T00:00:00.000000000",
                    "2021-07-01T00:00:00.000000000",
                    "2021-08-01T00:00:00.000000000",
                    "2021-09-01T00:00:00.000000000",
                    "2021-10-01T00:00:00.000000000",
                    "2021-11-01T00:00:00.000000000",
                    "2021-12-01T00:00:00.000000000",
                    "2022-01-01T00:00:00.000000000",
                    "2022-02-01T00:00:00.000000000",
                    "2022-03-01T00:00:00.000000000",
                    "2022-04-01T00:00:00.000000000",
                    "2022-05-01T00:00:00.000000000",
                    "2022-06-01T00:00:00.000000000",
                    "2022-07-01T00:00:00.000000000",
                    "2022-08-01T00:00:00.000000000",
                    "2022-09-01T00:00:00.000000000",
                    "2022-10-01T00:00:00.000000000",
                    "2022-11-01T00:00:00.000000000",
                    "2022-12-01T00:00:00.000000000",
                    "2023-01-01T00:00:00.000000000",
                    "2023-02-01T00:00:00.000000000",
                    "2023-03-01T00:00:00.000000000",
                    "2023-04-01T00:00:00.000000000",
                    "2023-05-01T00:00:00.000000000",
                    "2023-06-01T00:00:00.000000000",
                    "2023-07-01T00:00:00.000000000",
                    "2023-08-01T00:00:00.000000000",
                    "2023-09-01T00:00:00.000000000",
                    "2023-10-01T00:00:00.000000000",
                    "2023-11-01T00:00:00.000000000",
                    "2023-12-01T00:00:00.000000000",
                    "2024-01-01T00:00:00.000000000",
                    "2024-02-01T00:00:00.000000000",
                    "2024-03-01T00:00:00.000000000",
                    "2024-04-01T00:00:00.000000000",
                    "2024-05-01T00:00:00.000000000",
                    "2024-06-01T00:00:00.000000000",
                    "2024-07-01T00:00:00.000000000",
                    "2024-08-01T00:00:00.000000000",
                    "2024-09-01T00:00:00.000000000",
                    "2024-10-01T00:00:00.000000000",
                    "2024-11-01T00:00:00.000000000",
                    "2024-12-01T00:00:00.000000000",
                    "2025-01-01T00:00:00.000000000",
                    "2025-02-01T00:00:00.000000000",
                    "2025-03-01T00:00:00.000000000",
                    "2025-04-01T00:00:00.000000000",
                    "2025-05-01T00:00:00.000000000",
                    "2025-06-01T00:00:00.000000000",
                    "2025-07-01T00:00:00.000000000"
                  ],
                  "xaxis": "x3",
                  "y": {
                    "bdata": "jwv7uLC/jUDatm3btvyKQGfTgDYNTIpAo3A9CtdXjUBba6211sqBQFnyiyW/iHxA2jSgTQO+hUBAmwa0aVSBQJX8YskvKoJAXNjHhX3shEAvlvxiydmOQOFVJF5F4o9Asvwly19SjUDatm3btvyKQNjHhX1cpI1AjCW/WPKRh0Ce4OgJjlKDQA102kCnsXBAqG6H6naQhUC6HarboepmQAAAAAAA2IdAAAAAAAB4jkC0pnnHKdqOQAonG9cY5o9ACUWZUJQOiUDXJkp2bS+NQNcmSnZtL41AAAAAAAAAAAAAAAAAAAAAAAAAAAAAAAAAEnxO9Bqkh0AnkD7Ptex8QJqZmZmZ1YdAa/a6Zq+rW0CyDHGsiw+NQO/wy9uLIY1Ab/QER09oiUCXN0YwUdyPQJ6Bsub0QI5ACrJ4xPvgj0COMOsIs6COQI/C9Shc4Y9AwPYDbD+IhkAC/yTwT/aPQCLYy8keVZBAlFJKKaUcfEA3iUFg5UaNQK/uQR5SbY5ARb1l1FsWh0AL1shgjUiCQARHT3D08IlAKVyPwvXGjkDEq0i8iqyOQAy7AuTecI9ABZ44rVb6jkD0Y31yiRmQQIps5/spbI9ALH/J8pfgh0AeFmpNc4SPQP4zrwzAe4xAKzbEYkN+dEBeNCfudp58QPa6Zq9rT5BAj8L1KFzhj0BBCCGEEH6PQCz5xZJf0H5AAAAAAAAAAABEM6ia6QhVQAAAAAAAAAAAtgY8DzFBYkAzJtcnUxmJQBZHxNcqz4tAdoXlawYBj0B+EwxNdWVyQBjnsqRhnXFA30dIt7gAhECmNqhLfh6FQHUyOEoe9IdANbCY5IUJhkDxQENC53uBQMoiOvHCyYJAB6Y2qMvTjkA6eBNpSGWPQG7/RIYSpoNA5uteEKd4akDL+SWhcktaQKUD1E5u94NAdpRdQ0PCjkDx7mSnrTiQQBe30QDebY1AJuUPwztmjkA=",
                    "dtype": "f8"
                  },
                  "yaxis": "y3"
                },
                {
                  "line": {
                    "color": "#ff7f0e",
                    "dash": "dash"
                  },
                  "mode": "lines",
                  "name": "Existing",
                  "showlegend": false,
                  "type": "scatter",
                  "x": [
                    "2025-08-01T00:00:00.000000000",
                    "2025-09-01T00:00:00.000000000",
                    "2025-10-01T00:00:00.000000000",
                    "2025-11-01T00:00:00.000000000",
                    "2025-12-01T00:00:00.000000000",
                    "2026-01-01T00:00:00.000000000",
                    "2026-02-01T00:00:00.000000000",
                    "2026-03-01T00:00:00.000000000",
                    "2026-04-01T00:00:00.000000000",
                    "2026-05-01T00:00:00.000000000",
                    "2026-06-01T00:00:00.000000000",
                    "2026-07-01T00:00:00.000000000",
                    "2026-08-01T00:00:00.000000000",
                    "2026-09-01T00:00:00.000000000",
                    "2026-10-01T00:00:00.000000000",
                    "2026-11-01T00:00:00.000000000",
                    "2026-12-01T00:00:00.000000000",
                    "2027-01-01T00:00:00.000000000",
                    "2027-02-01T00:00:00.000000000",
                    "2027-03-01T00:00:00.000000000",
                    "2027-04-01T00:00:00.000000000",
                    "2027-05-01T00:00:00.000000000",
                    "2027-06-01T00:00:00.000000000",
                    "2027-07-01T00:00:00.000000000",
                    "2027-08-01T00:00:00.000000000",
                    "2027-09-01T00:00:00.000000000",
                    "2027-10-01T00:00:00.000000000",
                    "2027-11-01T00:00:00.000000000",
                    "2027-12-01T00:00:00.000000000"
                  ],
                  "xaxis": "x3",
                  "y": {
                    "bdata": "AAAAAABAjkD6ANAFEHaCQOY/IuQoVYJAbuEqRvd8iUDQS4/5ftOHQKcAJnEUO4JAXwd5toZQfkCG0hpDvKiEQKf8hzEY9YZAaimhhsbfhkAMX4DpgV2DQAV51eZpfXxA/BMr71WHfkBhqoJiGnZ+QEZEQCII93tAdxJTU2aKiEC7UyTOM36GQAAAAAAAAPh/AAAAAAAA+H8AAAAAAAD4fwAAAAAAAPh/AAAAAAAA+H8AAAAAAAD4fwAAAAAAAPh/AAAAAAAA+H8AAAAAAAD4fwAAAAAAAPh/AAAAAAAA+H8AAAAAAAD4fw==",
                    "dtype": "f8"
                  },
                  "yaxis": "y3"
                },
                {
                  "mode": "lines",
                  "name": "RF",
                  "showlegend": false,
                  "type": "scatter",
                  "visible": false,
                  "x": [
                    "2025-08-01T00:00:00.000000000",
                    "2025-09-01T00:00:00.000000000",
                    "2025-10-01T00:00:00.000000000",
                    "2025-11-01T00:00:00.000000000",
                    "2025-12-01T00:00:00.000000000",
                    "2026-01-01T00:00:00.000000000",
                    "2026-02-01T00:00:00.000000000",
                    "2026-03-01T00:00:00.000000000",
                    "2026-04-01T00:00:00.000000000",
                    "2026-05-01T00:00:00.000000000",
                    "2026-06-01T00:00:00.000000000",
                    "2026-07-01T00:00:00.000000000",
                    "2026-08-01T00:00:00.000000000",
                    "2026-09-01T00:00:00.000000000",
                    "2026-10-01T00:00:00.000000000",
                    "2026-11-01T00:00:00.000000000",
                    "2026-12-01T00:00:00.000000000",
                    "2027-01-01T00:00:00.000000000",
                    "2027-02-01T00:00:00.000000000",
                    "2027-03-01T00:00:00.000000000",
                    "2027-04-01T00:00:00.000000000",
                    "2027-05-01T00:00:00.000000000",
                    "2027-06-01T00:00:00.000000000",
                    "2027-07-01T00:00:00.000000000",
                    "2027-08-01T00:00:00.000000000",
                    "2027-09-01T00:00:00.000000000",
                    "2027-10-01T00:00:00.000000000",
                    "2027-11-01T00:00:00.000000000",
                    "2027-12-01T00:00:00.000000000"
                  ],
                  "xaxis": "x3",
                  "y": {
                    "bdata": "5IO+HW6biEC2M/nkc7eBQH79kQa5/4FAvKHCpQvlgEDcTSm2YJWDQObkxmRTL4BA7b/bhEuMg0CPdRa6QsGCQNH7wSarGoZAUQhVEJIjhECihyPqJVaFQMiIIjuASIVABjShlE/qgkC4dfMzTbOCQO+hpBhF3oJAxpfruahGgkAkBWCEpRWDQKh/C64Fh4FA9kVTZ2idgUBIEhz/oNCDQHql0NQ61YNALDM1/xkfhUDyDhfBZCeEQGQzgSNnzIJAygO697idgUAMhU3yr6KCQBLY+dVH0YJAoVzDsx4Zg0BpwVkgZDSCQA==",
                    "dtype": "f8"
                  },
                  "yaxis": "y3"
                },
                {
                  "mode": "lines",
                  "name": "SARIMAX",
                  "showlegend": false,
                  "type": "scatter",
                  "visible": true,
                  "x": [
                    "2025-08-01T00:00:00.000000000",
                    "2025-09-01T00:00:00.000000000",
                    "2025-10-01T00:00:00.000000000",
                    "2025-11-01T00:00:00.000000000",
                    "2025-12-01T00:00:00.000000000",
                    "2026-01-01T00:00:00.000000000",
                    "2026-02-01T00:00:00.000000000",
                    "2026-03-01T00:00:00.000000000",
                    "2026-04-01T00:00:00.000000000",
                    "2026-05-01T00:00:00.000000000",
                    "2026-06-01T00:00:00.000000000",
                    "2026-07-01T00:00:00.000000000",
                    "2026-08-01T00:00:00.000000000",
                    "2026-09-01T00:00:00.000000000",
                    "2026-10-01T00:00:00.000000000",
                    "2026-11-01T00:00:00.000000000",
                    "2026-12-01T00:00:00.000000000",
                    "2027-01-01T00:00:00.000000000",
                    "2027-02-01T00:00:00.000000000",
                    "2027-03-01T00:00:00.000000000",
                    "2027-04-01T00:00:00.000000000",
                    "2027-05-01T00:00:00.000000000",
                    "2027-06-01T00:00:00.000000000",
                    "2027-07-01T00:00:00.000000000",
                    "2027-08-01T00:00:00.000000000",
                    "2027-09-01T00:00:00.000000000",
                    "2027-10-01T00:00:00.000000000",
                    "2027-11-01T00:00:00.000000000",
                    "2027-12-01T00:00:00.000000000"
                  ],
                  "xaxis": "x3",
                  "y": {
                    "bdata": "X6p6oHGdh0CTgXw2+DqGQHJRYo6nZYRAp+GgrZb1jUDIi5ohypSKQA5c9ZGguYJApA+ho+nBe0BMPsl+uhaGQNxvIwh/44lAMXei0GygiUC7ajQrs2CGQKdecuxHwYVARqQe1q6QgkBOBnJdeqqDQHrSC4nfD4NAXol+93c7jUBDfymbqSeKQFeH5g6VcoJAZ+W+sH5Ze0AU6WcW1uuFQKYXLFI2vYlAsL6Ammt8iUD9PQ2R0j2GQPP9oxL2noVAqErOl6NugkDpfJgLkoiDQECgT30I7oJA8kUEd6kZjUBZn4pU3wWKQA==",
                    "dtype": "f8"
                  },
                  "yaxis": "y3"
                },
                {
                  "mode": "lines",
                  "name": "XGB",
                  "showlegend": false,
                  "type": "scatter",
                  "visible": false,
                  "x": [
                    "2025-08-01T00:00:00.000000000",
                    "2025-09-01T00:00:00.000000000",
                    "2025-10-01T00:00:00.000000000",
                    "2025-11-01T00:00:00.000000000",
                    "2025-12-01T00:00:00.000000000",
                    "2026-01-01T00:00:00.000000000",
                    "2026-02-01T00:00:00.000000000",
                    "2026-03-01T00:00:00.000000000",
                    "2026-04-01T00:00:00.000000000",
                    "2026-05-01T00:00:00.000000000",
                    "2026-06-01T00:00:00.000000000",
                    "2026-07-01T00:00:00.000000000",
                    "2026-08-01T00:00:00.000000000",
                    "2026-09-01T00:00:00.000000000",
                    "2026-10-01T00:00:00.000000000",
                    "2026-11-01T00:00:00.000000000",
                    "2026-12-01T00:00:00.000000000",
                    "2027-01-01T00:00:00.000000000",
                    "2027-02-01T00:00:00.000000000",
                    "2027-03-01T00:00:00.000000000",
                    "2027-04-01T00:00:00.000000000",
                    "2027-05-01T00:00:00.000000000",
                    "2027-06-01T00:00:00.000000000",
                    "2027-07-01T00:00:00.000000000",
                    "2027-08-01T00:00:00.000000000",
                    "2027-09-01T00:00:00.000000000",
                    "2027-10-01T00:00:00.000000000",
                    "2027-11-01T00:00:00.000000000",
                    "2027-12-01T00:00:00.000000000"
                  ],
                  "xaxis": "x3",
                  "y": {
                    "bdata": "psJQRLm9xEMp9d5D0bGWQ0gQKkTlnBVEAosLRATQEESNQEVE/TFwRLBeakSN8ltEjcVcRP5qXEQIHFpEJSZiRHajVUTJ2ldEC/JZRKqxfUQz2HZEhAV9RC01eUTagnBEtgByRBy7bETBOG1Ebdp5RHiwe0Q=",
                    "dtype": "f4"
                  },
                  "yaxis": "y3"
                },
                {
                  "line": {
                    "color": "#1f77b4"
                  },
                  "mode": "lines",
                  "name": "Actual",
                  "showlegend": false,
                  "type": "scatter",
                  "x": [
                    "2018-01-01T00:00:00.000000000",
                    "2018-02-01T00:00:00.000000000",
                    "2018-03-01T00:00:00.000000000",
                    "2018-04-01T00:00:00.000000000",
                    "2018-05-01T00:00:00.000000000",
                    "2018-06-01T00:00:00.000000000",
                    "2018-07-01T00:00:00.000000000",
                    "2018-08-01T00:00:00.000000000",
                    "2018-09-01T00:00:00.000000000",
                    "2018-10-01T00:00:00.000000000",
                    "2018-11-01T00:00:00.000000000",
                    "2018-12-01T00:00:00.000000000",
                    "2019-01-01T00:00:00.000000000",
                    "2019-02-01T00:00:00.000000000",
                    "2019-03-01T00:00:00.000000000",
                    "2019-04-01T00:00:00.000000000",
                    "2019-05-01T00:00:00.000000000",
                    "2019-06-01T00:00:00.000000000",
                    "2019-07-01T00:00:00.000000000",
                    "2019-08-01T00:00:00.000000000",
                    "2019-09-01T00:00:00.000000000",
                    "2019-10-01T00:00:00.000000000",
                    "2019-11-01T00:00:00.000000000",
                    "2019-12-01T00:00:00.000000000",
                    "2020-01-01T00:00:00.000000000",
                    "2020-02-01T00:00:00.000000000",
                    "2020-03-01T00:00:00.000000000",
                    "2020-04-01T00:00:00.000000000",
                    "2020-05-01T00:00:00.000000000",
                    "2020-06-01T00:00:00.000000000",
                    "2020-07-01T00:00:00.000000000",
                    "2020-08-01T00:00:00.000000000",
                    "2020-09-01T00:00:00.000000000",
                    "2020-10-01T00:00:00.000000000",
                    "2020-11-01T00:00:00.000000000",
                    "2020-12-01T00:00:00.000000000",
                    "2021-01-01T00:00:00.000000000",
                    "2021-02-01T00:00:00.000000000",
                    "2021-03-01T00:00:00.000000000",
                    "2021-04-01T00:00:00.000000000",
                    "2021-05-01T00:00:00.000000000",
                    "2021-06-01T00:00:00.000000000",
                    "2021-07-01T00:00:00.000000000",
                    "2021-08-01T00:00:00.000000000",
                    "2021-09-01T00:00:00.000000000",
                    "2021-10-01T00:00:00.000000000",
                    "2021-11-01T00:00:00.000000000",
                    "2021-12-01T00:00:00.000000000",
                    "2022-01-01T00:00:00.000000000",
                    "2022-02-01T00:00:00.000000000",
                    "2022-03-01T00:00:00.000000000",
                    "2022-04-01T00:00:00.000000000",
                    "2022-05-01T00:00:00.000000000",
                    "2022-06-01T00:00:00.000000000",
                    "2022-07-01T00:00:00.000000000",
                    "2022-08-01T00:00:00.000000000",
                    "2022-09-01T00:00:00.000000000",
                    "2022-10-01T00:00:00.000000000",
                    "2022-11-01T00:00:00.000000000",
                    "2022-12-01T00:00:00.000000000",
                    "2023-01-01T00:00:00.000000000",
                    "2023-02-01T00:00:00.000000000",
                    "2023-03-01T00:00:00.000000000",
                    "2023-04-01T00:00:00.000000000",
                    "2023-05-01T00:00:00.000000000",
                    "2023-06-01T00:00:00.000000000",
                    "2023-07-01T00:00:00.000000000",
                    "2023-08-01T00:00:00.000000000",
                    "2023-09-01T00:00:00.000000000",
                    "2023-10-01T00:00:00.000000000",
                    "2023-11-01T00:00:00.000000000",
                    "2023-12-01T00:00:00.000000000",
                    "2024-01-01T00:00:00.000000000",
                    "2024-02-01T00:00:00.000000000",
                    "2024-03-01T00:00:00.000000000",
                    "2024-04-01T00:00:00.000000000",
                    "2024-05-01T00:00:00.000000000",
                    "2024-06-01T00:00:00.000000000",
                    "2024-07-01T00:00:00.000000000",
                    "2024-08-01T00:00:00.000000000",
                    "2024-09-01T00:00:00.000000000",
                    "2024-10-01T00:00:00.000000000",
                    "2024-11-01T00:00:00.000000000",
                    "2024-12-01T00:00:00.000000000",
                    "2025-01-01T00:00:00.000000000",
                    "2025-02-01T00:00:00.000000000",
                    "2025-03-01T00:00:00.000000000",
                    "2025-04-01T00:00:00.000000000",
                    "2025-05-01T00:00:00.000000000",
                    "2025-06-01T00:00:00.000000000",
                    "2025-07-01T00:00:00.000000000"
                  ],
                  "xaxis": "x4",
                  "y": {
                    "bdata": "htRFFSrkhkCqKJ+g0ViGQJZK/UJuBIZAz2bV52oPekARzaBqpneHQDrZ8yKANoZAKZbVlYx7iECA5pUB+O6IQBA2PL3Sxo1AJNoeb7pNjUCxCUP3v2+NQErKbnG54Y9AztJjk6PbjkBTJrcqCuuLQIV9XNjHgYtA0pSKs4+0jUBJVQe72+2OQCd+jLlr9opAgqMnOHobkUAD2jSgTVOMQP3UeOmm1I9A5vQ3G8zMkUCyne+nhneQQGrSpSZdRZJAnsq3dkl4kkCjg/hZ1qGQQCbbqpOoS5FAiVsY/JDqkECHRrpye4+PQIWXzQmHcJFA2h/73iyalEAgROS8mIOSQI47pYN19I1AlnZfabeelEBC5zV2acyUQOWuJeRD1ZRALUSoD9FZnEBDJ0fA5v+aQJuGDHQf1JpAkKMm57GqmUA5xnqMyA6TQJuHJmNP+5dAb5jBfMIsmUAl4AQhk46YQGp3NWa/iZdAEfAphgqSmUBCRi26QkqbQL6Fah7eIJ1AmTnXURK7nEC3QILiJ2eeQNJl+tf6yZ5AmePv8XwFn0AVvCuOiHOdQBWCHJRQe59A8r8PKFiKn0BRKQe+DlqZQPNPcLGiY59AGB16+r04oEA1MUq9xCOgQJW48iKldKBAHUFAT06eoECnu+9ZocOgQLhK5xHbeqFAgCbChudWoUBIShZnuo+gQGLpQxf0rZ5AoFD2MgF2oEAjzDrCrJ6gQFknQZJ8FqFALxpeMmTun0DtCKcFL2OfQEFXDMa9B6FAQm7JfdC7oEBCvKuFaG2gQKyYM/F/E6JAtlUjzo3IoUAVbLQnbQCiQBueXim7PaJAzpI3DvQcokDK1wwMUHCaQGXfFcEvDaJAbMX+svtbokAvdujhMU2iQAUuK4Tjq6JAwQToGM0CnUBDPf96TqmgQP3GlDzZHKJAL6NYbsmBoUDRRWQVw7GhQA3ocnCWaKJAya0RGiWmoUA=",
                    "dtype": "f8"
                  },
                  "yaxis": "y4"
                },
                {
                  "line": {
                    "color": "#ff7f0e",
                    "dash": "dash"
                  },
                  "mode": "lines",
                  "name": "Existing",
                  "showlegend": false,
                  "type": "scatter",
                  "x": [
                    "2025-08-01T00:00:00.000000000",
                    "2025-09-01T00:00:00.000000000",
                    "2025-10-01T00:00:00.000000000",
                    "2025-11-01T00:00:00.000000000",
                    "2025-12-01T00:00:00.000000000",
                    "2026-01-01T00:00:00.000000000",
                    "2026-02-01T00:00:00.000000000",
                    "2026-03-01T00:00:00.000000000",
                    "2026-04-01T00:00:00.000000000",
                    "2026-05-01T00:00:00.000000000",
                    "2026-06-01T00:00:00.000000000",
                    "2026-07-01T00:00:00.000000000",
                    "2026-08-01T00:00:00.000000000",
                    "2026-09-01T00:00:00.000000000",
                    "2026-10-01T00:00:00.000000000",
                    "2026-11-01T00:00:00.000000000",
                    "2026-12-01T00:00:00.000000000",
                    "2027-01-01T00:00:00.000000000",
                    "2027-02-01T00:00:00.000000000",
                    "2027-03-01T00:00:00.000000000",
                    "2027-04-01T00:00:00.000000000",
                    "2027-05-01T00:00:00.000000000",
                    "2027-06-01T00:00:00.000000000",
                    "2027-07-01T00:00:00.000000000",
                    "2027-08-01T00:00:00.000000000",
                    "2027-09-01T00:00:00.000000000",
                    "2027-10-01T00:00:00.000000000",
                    "2027-11-01T00:00:00.000000000",
                    "2027-12-01T00:00:00.000000000"
                  ],
                  "xaxis": "x4",
                  "y": {
                    "bdata": "eGEPv1FeoUA7IVfBq7uhQK+ts/NJ1KNAmTf5LK5Vo0Cvf9xCcYukQAYgWtTo4aNA9iAabNwTokBxk4eFLYSkQLSy9MSslKNA9I4aQraJokB3J0iTVOmiQD3f4kvILaRAnhTRz3G4oUBzQQ2Uvh6jQFqPc8hRU6RAOMPBed/co0BKXdB0xjilQAAAAAAAAPh/AAAAAAAA+H8AAAAAAAD4fwAAAAAAAPh/AAAAAAAA+H8AAAAAAAD4fwAAAAAAAPh/AAAAAAAA+H8AAAAAAAD4fwAAAAAAAPh/AAAAAAAA+H8AAAAAAAD4fw==",
                    "dtype": "f8"
                  },
                  "yaxis": "y4"
                },
                {
                  "mode": "lines",
                  "name": "RF",
                  "showlegend": false,
                  "type": "scatter",
                  "visible": false,
                  "x": [
                    "2025-08-01T00:00:00.000000000",
                    "2025-09-01T00:00:00.000000000",
                    "2025-10-01T00:00:00.000000000",
                    "2025-11-01T00:00:00.000000000",
                    "2025-12-01T00:00:00.000000000",
                    "2026-01-01T00:00:00.000000000",
                    "2026-02-01T00:00:00.000000000",
                    "2026-03-01T00:00:00.000000000",
                    "2026-04-01T00:00:00.000000000",
                    "2026-05-01T00:00:00.000000000",
                    "2026-06-01T00:00:00.000000000",
                    "2026-07-01T00:00:00.000000000",
                    "2026-08-01T00:00:00.000000000",
                    "2026-09-01T00:00:00.000000000",
                    "2026-10-01T00:00:00.000000000",
                    "2026-11-01T00:00:00.000000000",
                    "2026-12-01T00:00:00.000000000",
                    "2027-01-01T00:00:00.000000000",
                    "2027-02-01T00:00:00.000000000",
                    "2027-03-01T00:00:00.000000000",
                    "2027-04-01T00:00:00.000000000",
                    "2027-05-01T00:00:00.000000000",
                    "2027-06-01T00:00:00.000000000",
                    "2027-07-01T00:00:00.000000000",
                    "2027-08-01T00:00:00.000000000",
                    "2027-09-01T00:00:00.000000000",
                    "2027-10-01T00:00:00.000000000",
                    "2027-11-01T00:00:00.000000000",
                    "2027-12-01T00:00:00.000000000"
                  ],
                  "xaxis": "x4",
                  "y": {
                    "bdata": "n8c1Mm9joECfuXdU0X+hQLqRmu8qdaFAjeLTxG+PoUCaNQ8qiOWhQIqI1jMaw6FAFy/bzCikoUCn3AEHa/WhQLw03Skyz6FA7Ic9cf3qoUCu9JZEvxyiQAeDXdiYEqJA3X25WVBkoUDM3Nx6x9qhQEWKH3uvFaJAg9cuLKj9oUCQivW/UxaiQJjJeFsrBqJAMY3Lw9T/oUCegQIysRCiQBjt70ln9KFAMgFngSz0oUBN/+tCaCyiQAG1oX3nD6JA5DpqMdxYoUC7R4p0lMyhQJeMbd52+qFAnDn15if+oUA7nj2FSyCiQA==",
                    "dtype": "f8"
                  },
                  "yaxis": "y4"
                },
                {
                  "mode": "lines",
                  "name": "SARIMAX",
                  "showlegend": false,
                  "type": "scatter",
                  "visible": true,
                  "x": [
                    "2025-08-01T00:00:00.000000000",
                    "2025-09-01T00:00:00.000000000",
                    "2025-10-01T00:00:00.000000000",
                    "2025-11-01T00:00:00.000000000",
                    "2025-12-01T00:00:00.000000000",
                    "2026-01-01T00:00:00.000000000",
                    "2026-02-01T00:00:00.000000000",
                    "2026-03-01T00:00:00.000000000",
                    "2026-04-01T00:00:00.000000000",
                    "2026-05-01T00:00:00.000000000",
                    "2026-06-01T00:00:00.000000000",
                    "2026-07-01T00:00:00.000000000",
                    "2026-08-01T00:00:00.000000000",
                    "2026-09-01T00:00:00.000000000",
                    "2026-10-01T00:00:00.000000000",
                    "2026-11-01T00:00:00.000000000",
                    "2026-12-01T00:00:00.000000000",
                    "2027-01-01T00:00:00.000000000",
                    "2027-02-01T00:00:00.000000000",
                    "2027-03-01T00:00:00.000000000",
                    "2027-04-01T00:00:00.000000000",
                    "2027-05-01T00:00:00.000000000",
                    "2027-06-01T00:00:00.000000000",
                    "2027-07-01T00:00:00.000000000",
                    "2027-08-01T00:00:00.000000000",
                    "2027-09-01T00:00:00.000000000",
                    "2027-10-01T00:00:00.000000000",
                    "2027-11-01T00:00:00.000000000",
                    "2027-12-01T00:00:00.000000000"
                  ],
                  "xaxis": "x4",
                  "y": {
                    "bdata": "cvvUCo6PnkAv9VcmjRaiQGfsAK4uPaJAqSe7ZJ4vokA9ubAgJNWiQNoxXQHNCKFAN6+GBFj0oUAny3eQtCKjQDDUSq4KvKJAkBCITHmXokBsV/Xa6vyiQC2XHUbB26JAwmoqdVdOoEBujsVALgejQKaFbsjPLaNA6MAofz8go0B8Uh47xcWjQBjLyhtu+aFAdUj0HvnkokBlZOWqVROkQG9tuMirrKNAzqn1ZhqIo0Cq8GL1i+2jQGwwi2BizKNAAASYj/g+oUCsJzNbz/ejQOQe3OJwHqRAJlqWmeAQpEC664tVZrakQA==",
                    "dtype": "f8"
                  },
                  "yaxis": "y4"
                },
                {
                  "mode": "lines",
                  "name": "XGB",
                  "showlegend": false,
                  "type": "scatter",
                  "visible": false,
                  "x": [
                    "2025-08-01T00:00:00.000000000",
                    "2025-09-01T00:00:00.000000000",
                    "2025-10-01T00:00:00.000000000",
                    "2025-11-01T00:00:00.000000000",
                    "2025-12-01T00:00:00.000000000",
                    "2026-01-01T00:00:00.000000000",
                    "2026-02-01T00:00:00.000000000",
                    "2026-03-01T00:00:00.000000000",
                    "2026-04-01T00:00:00.000000000",
                    "2026-05-01T00:00:00.000000000",
                    "2026-06-01T00:00:00.000000000",
                    "2026-07-01T00:00:00.000000000",
                    "2026-08-01T00:00:00.000000000",
                    "2026-09-01T00:00:00.000000000",
                    "2026-10-01T00:00:00.000000000",
                    "2026-11-01T00:00:00.000000000",
                    "2026-12-01T00:00:00.000000000",
                    "2027-01-01T00:00:00.000000000",
                    "2027-02-01T00:00:00.000000000",
                    "2027-03-01T00:00:00.000000000",
                    "2027-04-01T00:00:00.000000000",
                    "2027-05-01T00:00:00.000000000",
                    "2027-06-01T00:00:00.000000000",
                    "2027-07-01T00:00:00.000000000",
                    "2027-08-01T00:00:00.000000000",
                    "2027-09-01T00:00:00.000000000",
                    "2027-10-01T00:00:00.000000000",
                    "2027-11-01T00:00:00.000000000",
                    "2027-12-01T00:00:00.000000000"
                  ],
                  "xaxis": "x4",
                  "y": {
                    "bdata": "cnzuRO5vDkV+fwlFoIANRbU8E0VoHApFAsgCRUlREEWc1Q5FJpILRTMzEUWAuhBFl6PzRKjID0U6yBBF278QRSTiFUUzvgJF/hIERe+REUV54AxFgz0MRSQpFUXn9QtFuNvpRGJYDUXOfQ5FCaQRRbbQFUU=",
                    "dtype": "f4"
                  },
                  "yaxis": "y4"
                },
                {
                  "line": {
                    "color": "#1f77b4"
                  },
                  "mode": "lines",
                  "name": "Actual",
                  "showlegend": false,
                  "type": "scatter",
                  "x": [
                    "2018-01-01T00:00:00.000000000",
                    "2018-02-01T00:00:00.000000000",
                    "2018-03-01T00:00:00.000000000",
                    "2018-04-01T00:00:00.000000000",
                    "2018-05-01T00:00:00.000000000",
                    "2018-06-01T00:00:00.000000000",
                    "2018-07-01T00:00:00.000000000",
                    "2018-08-01T00:00:00.000000000",
                    "2018-09-01T00:00:00.000000000",
                    "2018-10-01T00:00:00.000000000",
                    "2018-11-01T00:00:00.000000000",
                    "2018-12-01T00:00:00.000000000",
                    "2019-01-01T00:00:00.000000000",
                    "2019-02-01T00:00:00.000000000",
                    "2019-03-01T00:00:00.000000000",
                    "2019-04-01T00:00:00.000000000",
                    "2019-05-01T00:00:00.000000000",
                    "2019-06-01T00:00:00.000000000",
                    "2019-07-01T00:00:00.000000000",
                    "2019-08-01T00:00:00.000000000",
                    "2019-09-01T00:00:00.000000000",
                    "2019-10-01T00:00:00.000000000",
                    "2019-11-01T00:00:00.000000000",
                    "2019-12-01T00:00:00.000000000",
                    "2020-01-01T00:00:00.000000000",
                    "2020-02-01T00:00:00.000000000",
                    "2020-03-01T00:00:00.000000000",
                    "2020-04-01T00:00:00.000000000",
                    "2020-05-01T00:00:00.000000000",
                    "2020-06-01T00:00:00.000000000",
                    "2020-07-01T00:00:00.000000000",
                    "2020-08-01T00:00:00.000000000",
                    "2020-09-01T00:00:00.000000000",
                    "2020-10-01T00:00:00.000000000",
                    "2020-11-01T00:00:00.000000000",
                    "2020-12-01T00:00:00.000000000",
                    "2021-01-01T00:00:00.000000000",
                    "2021-02-01T00:00:00.000000000",
                    "2021-03-01T00:00:00.000000000",
                    "2021-04-01T00:00:00.000000000",
                    "2021-05-01T00:00:00.000000000",
                    "2021-06-01T00:00:00.000000000",
                    "2021-07-01T00:00:00.000000000",
                    "2021-08-01T00:00:00.000000000",
                    "2021-09-01T00:00:00.000000000",
                    "2021-10-01T00:00:00.000000000",
                    "2021-11-01T00:00:00.000000000",
                    "2021-12-01T00:00:00.000000000",
                    "2022-01-01T00:00:00.000000000",
                    "2022-02-01T00:00:00.000000000",
                    "2022-03-01T00:00:00.000000000",
                    "2022-04-01T00:00:00.000000000",
                    "2022-05-01T00:00:00.000000000",
                    "2022-06-01T00:00:00.000000000",
                    "2022-07-01T00:00:00.000000000",
                    "2022-08-01T00:00:00.000000000",
                    "2022-09-01T00:00:00.000000000",
                    "2022-10-01T00:00:00.000000000",
                    "2022-11-01T00:00:00.000000000",
                    "2022-12-01T00:00:00.000000000",
                    "2023-01-01T00:00:00.000000000",
                    "2023-02-01T00:00:00.000000000",
                    "2023-03-01T00:00:00.000000000",
                    "2023-04-01T00:00:00.000000000",
                    "2023-05-01T00:00:00.000000000",
                    "2023-06-01T00:00:00.000000000",
                    "2023-07-01T00:00:00.000000000",
                    "2023-08-01T00:00:00.000000000",
                    "2023-09-01T00:00:00.000000000",
                    "2023-10-01T00:00:00.000000000",
                    "2023-11-01T00:00:00.000000000",
                    "2023-12-01T00:00:00.000000000",
                    "2024-01-01T00:00:00.000000000",
                    "2024-02-01T00:00:00.000000000",
                    "2024-03-01T00:00:00.000000000",
                    "2024-04-01T00:00:00.000000000",
                    "2024-05-01T00:00:00.000000000",
                    "2024-06-01T00:00:00.000000000",
                    "2024-07-01T00:00:00.000000000",
                    "2024-08-01T00:00:00.000000000",
                    "2024-09-01T00:00:00.000000000",
                    "2024-10-01T00:00:00.000000000",
                    "2024-11-01T00:00:00.000000000",
                    "2024-12-01T00:00:00.000000000",
                    "2025-01-01T00:00:00.000000000",
                    "2025-02-01T00:00:00.000000000",
                    "2025-03-01T00:00:00.000000000",
                    "2025-04-01T00:00:00.000000000",
                    "2025-05-01T00:00:00.000000000",
                    "2025-06-01T00:00:00.000000000",
                    "2025-07-01T00:00:00.000000000"
                  ],
                  "xaxis": "x5",
                  "y": {
                    "bdata": "annypETcyEBgUn80CYvIQOd2UgZzvMdAtxGv6ICzxkCN5fMQr+3EQBHthhRKYcRAexSuR+Ewx0CcxCCwcgvGQCGwcmgRg8RAqMZLN0ndxkDpJjEILBLHQKRwPQqXbMdAvHSTGEQQyUCbxCCwMovIQAaBlUOLJshASOF6FO6wxkAW2c73ExTFQLByaJFt6cRAK4cW2U7HxECBlUOLbFrBQGIQWDk04rhAGARWDi33w0AxCKwcGnDGQIXrUbgedcdAx0s3icHUxkA5tMh2/vvGQC/dJAYBjcdAd76fGi9rxEAbL90kBgXCQOOlm8TgvsNAAiuHFpmLxECTGARWzv/CQP7UeOlmcMNADi2ynS+IxECiRbbz/d7GQMQgsHKo8cdAx0s3iQGqx0BSuB6FK/XGQDVeukkMtsZACtejcL3sxUDJdr6fWg3EQGq8dJMYxMJAvp8aL91IxkCXbhKDgMXFQEw3iUFgTMVAO99PjddeyEBMN4lBYKHIQJduEoOAGslApHA9CtdByEA/NV66yaTIQNejcD2K7MdA5/up8dJZx0CcxCCwsuDGQDMzMzNzKMZAFtnO99OTx0AnMQisHAHHQEOLbOc768NA4XoUrodbx0BaZDvfz6vGQIGVQ4ssL8dAz/dT42WLxkDVeOkmsYnGQDEIrBwacMZA3SQGgRVrxUBYObTI9vPBQBKDwMohzb5AXI/C9Wjkw0BBYOXQol3DQI2XbhKDVrZAokW28z1fxEC28/3UOJLGQPYoXI8C5MdASOF6FC6Gx0C8dJMYhJDGQIcW2c53LcdAH4XrUfifxUC0yHa+34TDQGQ730+NRcVAGi/dJEYvxkApXI/CNeTFQDvfT41XCsBAvp8aLx0ex0DrUbgeBXXIQE5iEFi5WchAy6FFtvPvx0Atsp3vp9THQC2yne+n1MdAgZVDiywvx0Bs5/upMfzEQJMYBFZOqsRAbhKDwEo0x0A=",
                    "dtype": "f8"
                  },
                  "yaxis": "y5"
                },
                {
                  "line": {
                    "color": "#ff7f0e",
                    "dash": "dash"
                  },
                  "mode": "lines",
                  "name": "Existing",
                  "showlegend": false,
                  "type": "scatter",
                  "x": [
                    "2025-08-01T00:00:00.000000000",
                    "2025-09-01T00:00:00.000000000",
                    "2025-10-01T00:00:00.000000000",
                    "2025-11-01T00:00:00.000000000",
                    "2025-12-01T00:00:00.000000000",
                    "2026-01-01T00:00:00.000000000",
                    "2026-02-01T00:00:00.000000000",
                    "2026-03-01T00:00:00.000000000",
                    "2026-04-01T00:00:00.000000000",
                    "2026-05-01T00:00:00.000000000",
                    "2026-06-01T00:00:00.000000000",
                    "2026-07-01T00:00:00.000000000",
                    "2026-08-01T00:00:00.000000000",
                    "2026-09-01T00:00:00.000000000",
                    "2026-10-01T00:00:00.000000000",
                    "2026-11-01T00:00:00.000000000",
                    "2026-12-01T00:00:00.000000000",
                    "2027-01-01T00:00:00.000000000",
                    "2027-02-01T00:00:00.000000000",
                    "2027-03-01T00:00:00.000000000",
                    "2027-04-01T00:00:00.000000000",
                    "2027-05-01T00:00:00.000000000",
                    "2027-06-01T00:00:00.000000000",
                    "2027-07-01T00:00:00.000000000",
                    "2027-08-01T00:00:00.000000000",
                    "2027-09-01T00:00:00.000000000",
                    "2027-10-01T00:00:00.000000000",
                    "2027-11-01T00:00:00.000000000",
                    "2027-12-01T00:00:00.000000000"
                  ],
                  "xaxis": "x5",
                  "y": {
                    "bdata": "QWDl0KKyxkDb+X5qfIjBQP2ZLahek8ZA2OaYpBK7x0C7GsvalWnIQPuX6NrENsdAPUhUI93NxkAng2RAGrrGQF+RtHdRqsVA31oEWrulw0C/YwNKkQPDQOA85medisVA7Td4bksHxUC7On4Ut8PAQN4jIaiuT8ZACyD92xYxx0C6u8LhEMbHQAAAAAAAAPh/AAAAAAAA+H8AAAAAAAD4fwAAAAAAAPh/AAAAAAAA+H8AAAAAAAD4fwAAAAAAAPh/AAAAAAAA+H8AAAAAAAD4fwAAAAAAAPh/AAAAAAAA+H8AAAAAAAD4fw==",
                    "dtype": "f8"
                  },
                  "yaxis": "y5"
                },
                {
                  "mode": "lines",
                  "name": "RF",
                  "showlegend": false,
                  "type": "scatter",
                  "visible": false,
                  "x": [
                    "2025-08-01T00:00:00.000000000",
                    "2025-09-01T00:00:00.000000000",
                    "2025-10-01T00:00:00.000000000",
                    "2025-11-01T00:00:00.000000000",
                    "2025-12-01T00:00:00.000000000",
                    "2026-01-01T00:00:00.000000000",
                    "2026-02-01T00:00:00.000000000",
                    "2026-03-01T00:00:00.000000000",
                    "2026-04-01T00:00:00.000000000",
                    "2026-05-01T00:00:00.000000000",
                    "2026-06-01T00:00:00.000000000",
                    "2026-07-01T00:00:00.000000000",
                    "2026-08-01T00:00:00.000000000",
                    "2026-09-01T00:00:00.000000000",
                    "2026-10-01T00:00:00.000000000",
                    "2026-11-01T00:00:00.000000000",
                    "2026-12-01T00:00:00.000000000",
                    "2027-01-01T00:00:00.000000000",
                    "2027-02-01T00:00:00.000000000",
                    "2027-03-01T00:00:00.000000000",
                    "2027-04-01T00:00:00.000000000",
                    "2027-05-01T00:00:00.000000000",
                    "2027-06-01T00:00:00.000000000",
                    "2027-07-01T00:00:00.000000000",
                    "2027-08-01T00:00:00.000000000",
                    "2027-09-01T00:00:00.000000000",
                    "2027-10-01T00:00:00.000000000",
                    "2027-11-01T00:00:00.000000000",
                    "2027-12-01T00:00:00.000000000"
                  ],
                  "xaxis": "x5",
                  "y": {
                    "bdata": "/YsS9DdWxkBGFqJDMDfEQGTt72zfmcVA4RUzwqs3xkBCPZrqKdvGQNa+R/0lBcdAzd6nqsAEx0A9/MOW3knHQAybyMylrcZAl2RW7yCOxUD5XdianbnEQAmx3qiF1sRAEC2WIjnJw0BnLJrOzjzBQDUxCKxs4cNA4g2GOuw9xUATq+rlpxjGQOlrelDQ7cZAXtlaX2Qkx0B1toDQOlvHQMz7jXZ8BcdAMOhLby87xkAj+IpuvYzFQLZVSWR/eMRArMfvbXrkw0D940uoQJnBQHZj7IR39MNAgAvPS4XbxEBHYMlVXL7FQA==",
                    "dtype": "f8"
                  },
                  "yaxis": "y5"
                },
                {
                  "mode": "lines",
                  "name": "SARIMAX",
                  "showlegend": false,
                  "type": "scatter",
                  "visible": true,
                  "x": [
                    "2025-08-01T00:00:00.000000000",
                    "2025-09-01T00:00:00.000000000",
                    "2025-10-01T00:00:00.000000000",
                    "2025-11-01T00:00:00.000000000",
                    "2025-12-01T00:00:00.000000000",
                    "2026-01-01T00:00:00.000000000",
                    "2026-02-01T00:00:00.000000000",
                    "2026-03-01T00:00:00.000000000",
                    "2026-04-01T00:00:00.000000000",
                    "2026-05-01T00:00:00.000000000",
                    "2026-06-01T00:00:00.000000000",
                    "2026-07-01T00:00:00.000000000",
                    "2026-08-01T00:00:00.000000000",
                    "2026-09-01T00:00:00.000000000",
                    "2026-10-01T00:00:00.000000000",
                    "2026-11-01T00:00:00.000000000",
                    "2026-12-01T00:00:00.000000000",
                    "2027-01-01T00:00:00.000000000",
                    "2027-02-01T00:00:00.000000000",
                    "2027-03-01T00:00:00.000000000",
                    "2027-04-01T00:00:00.000000000",
                    "2027-05-01T00:00:00.000000000",
                    "2027-06-01T00:00:00.000000000",
                    "2027-07-01T00:00:00.000000000",
                    "2027-08-01T00:00:00.000000000",
                    "2027-09-01T00:00:00.000000000",
                    "2027-10-01T00:00:00.000000000",
                    "2027-11-01T00:00:00.000000000",
                    "2027-12-01T00:00:00.000000000"
                  ],
                  "xaxis": "x5",
                  "y": {
                    "bdata": "NLS2Z1xMxkAQwYy13qHBQNxWe20mgMdA1HjJ966syEBxSUoQqSvJQEkH6CqK+chAQDYKIQmlyECTT4Wu0qXIQMC6vuxRk8dAHVRJZGFxxUAi1fjy1j3FQKCumsVUd8dAkCuw60SwxkDvIh9EoQ/CQLy4Dfzo7cdAtdpbhnEayUBRq9yea5nJQClperlMZ8lAIJicr8sSyUBysRc9lRPJQKEcUXsUAchA/LXb8iPfxUACN4uBmavFQIAQLVQX5cdAcI1Cegcex0DQhLHSY33CQJwaoIqrW8hAlTzuFDSIyUAxDW8tLgfKQA==",
                    "dtype": "f8"
                  },
                  "yaxis": "y5"
                },
                {
                  "mode": "lines",
                  "name": "XGB",
                  "showlegend": false,
                  "type": "scatter",
                  "visible": false,
                  "x": [
                    "2025-08-01T00:00:00.000000000",
                    "2025-09-01T00:00:00.000000000",
                    "2025-10-01T00:00:00.000000000",
                    "2025-11-01T00:00:00.000000000",
                    "2025-12-01T00:00:00.000000000",
                    "2026-01-01T00:00:00.000000000",
                    "2026-02-01T00:00:00.000000000",
                    "2026-03-01T00:00:00.000000000",
                    "2026-04-01T00:00:00.000000000",
                    "2026-05-01T00:00:00.000000000",
                    "2026-06-01T00:00:00.000000000",
                    "2026-07-01T00:00:00.000000000",
                    "2026-08-01T00:00:00.000000000",
                    "2026-09-01T00:00:00.000000000",
                    "2026-10-01T00:00:00.000000000",
                    "2026-11-01T00:00:00.000000000",
                    "2026-12-01T00:00:00.000000000",
                    "2027-01-01T00:00:00.000000000",
                    "2027-02-01T00:00:00.000000000",
                    "2027-03-01T00:00:00.000000000",
                    "2027-04-01T00:00:00.000000000",
                    "2027-05-01T00:00:00.000000000",
                    "2027-06-01T00:00:00.000000000",
                    "2027-07-01T00:00:00.000000000",
                    "2027-08-01T00:00:00.000000000",
                    "2027-09-01T00:00:00.000000000",
                    "2027-10-01T00:00:00.000000000",
                    "2027-11-01T00:00:00.000000000",
                    "2027-12-01T00:00:00.000000000"
                  ],
                  "xaxis": "x5",
                  "y": {
                    "bdata": "oQczRgkhIUYWFzhGYfo9RsMnNkb3qj1GKxI9Ri34NkYqXzNGv2YrRjB9JEYMVyRG+WsbRhu12EVwKxtG15wxRuJmPkZAEDxGRYU8RuvJO0ZFBDJGPnwqRjOeIkazVSVG6fAkRtjrCUZWnyxGWGIxRm7/PUY=",
                    "dtype": "f4"
                  },
                  "yaxis": "y5"
                },
                {
                  "line": {
                    "color": "#1f77b4"
                  },
                  "mode": "lines",
                  "name": "Actual",
                  "showlegend": false,
                  "type": "scatter",
                  "x": [
                    "2018-01-01T00:00:00.000000000",
                    "2018-02-01T00:00:00.000000000",
                    "2018-03-01T00:00:00.000000000",
                    "2018-04-01T00:00:00.000000000",
                    "2018-05-01T00:00:00.000000000",
                    "2018-06-01T00:00:00.000000000",
                    "2018-07-01T00:00:00.000000000",
                    "2018-08-01T00:00:00.000000000",
                    "2018-09-01T00:00:00.000000000",
                    "2018-10-01T00:00:00.000000000",
                    "2018-11-01T00:00:00.000000000",
                    "2018-12-01T00:00:00.000000000",
                    "2019-01-01T00:00:00.000000000",
                    "2019-02-01T00:00:00.000000000",
                    "2019-03-01T00:00:00.000000000",
                    "2019-04-01T00:00:00.000000000",
                    "2019-05-01T00:00:00.000000000",
                    "2019-06-01T00:00:00.000000000",
                    "2019-07-01T00:00:00.000000000",
                    "2019-08-01T00:00:00.000000000",
                    "2019-09-01T00:00:00.000000000",
                    "2019-10-01T00:00:00.000000000",
                    "2019-11-01T00:00:00.000000000",
                    "2019-12-01T00:00:00.000000000",
                    "2020-01-01T00:00:00.000000000",
                    "2020-02-01T00:00:00.000000000",
                    "2020-03-01T00:00:00.000000000",
                    "2020-04-01T00:00:00.000000000",
                    "2020-05-01T00:00:00.000000000",
                    "2020-06-01T00:00:00.000000000",
                    "2020-07-01T00:00:00.000000000",
                    "2020-08-01T00:00:00.000000000",
                    "2020-09-01T00:00:00.000000000",
                    "2020-10-01T00:00:00.000000000",
                    "2020-11-01T00:00:00.000000000",
                    "2020-12-01T00:00:00.000000000",
                    "2021-01-01T00:00:00.000000000",
                    "2021-02-01T00:00:00.000000000",
                    "2021-03-01T00:00:00.000000000",
                    "2021-04-01T00:00:00.000000000",
                    "2021-05-01T00:00:00.000000000",
                    "2021-06-01T00:00:00.000000000",
                    "2021-07-01T00:00:00.000000000",
                    "2021-08-01T00:00:00.000000000",
                    "2021-09-01T00:00:00.000000000",
                    "2021-10-01T00:00:00.000000000",
                    "2021-11-01T00:00:00.000000000",
                    "2021-12-01T00:00:00.000000000",
                    "2022-01-01T00:00:00.000000000",
                    "2022-02-01T00:00:00.000000000",
                    "2022-03-01T00:00:00.000000000",
                    "2022-04-01T00:00:00.000000000",
                    "2022-05-01T00:00:00.000000000",
                    "2022-06-01T00:00:00.000000000",
                    "2022-07-01T00:00:00.000000000",
                    "2022-08-01T00:00:00.000000000",
                    "2022-09-01T00:00:00.000000000",
                    "2022-10-01T00:00:00.000000000",
                    "2022-11-01T00:00:00.000000000",
                    "2022-12-01T00:00:00.000000000",
                    "2023-01-01T00:00:00.000000000",
                    "2023-02-01T00:00:00.000000000",
                    "2023-03-01T00:00:00.000000000",
                    "2023-04-01T00:00:00.000000000",
                    "2023-05-01T00:00:00.000000000",
                    "2023-06-01T00:00:00.000000000",
                    "2023-07-01T00:00:00.000000000",
                    "2023-08-01T00:00:00.000000000",
                    "2023-09-01T00:00:00.000000000",
                    "2023-10-01T00:00:00.000000000",
                    "2023-11-01T00:00:00.000000000",
                    "2023-12-01T00:00:00.000000000",
                    "2024-01-01T00:00:00.000000000",
                    "2024-02-01T00:00:00.000000000",
                    "2024-03-01T00:00:00.000000000",
                    "2024-04-01T00:00:00.000000000",
                    "2024-05-01T00:00:00.000000000",
                    "2024-06-01T00:00:00.000000000",
                    "2024-07-01T00:00:00.000000000",
                    "2024-08-01T00:00:00.000000000",
                    "2024-09-01T00:00:00.000000000",
                    "2024-10-01T00:00:00.000000000",
                    "2024-11-01T00:00:00.000000000",
                    "2024-12-01T00:00:00.000000000",
                    "2025-01-01T00:00:00.000000000",
                    "2025-02-01T00:00:00.000000000",
                    "2025-03-01T00:00:00.000000000",
                    "2025-04-01T00:00:00.000000000",
                    "2025-05-01T00:00:00.000000000",
                    "2025-06-01T00:00:00.000000000",
                    "2025-07-01T00:00:00.000000000"
                  ],
                  "xaxis": "x6",
                  "y": {
                    "bdata": "qhRcaWrQ0EAFMyjXm7XLQLlRWej5H9NAbHh6pY4G00D9s1YC4ULPQB/ZbwAUk89AKSFu3zYoz0CpXjwJ2xXRQE5qVThlutFAA537c3qR0EDoINWd6k/RQC+xwt9zXNJAUnl+JKov0kDhFQYoGm7RQCV+26TtsdFAYbZ3IL1k0kDfgdVveKTRQBnFcku/JtBAcciiIP7CykCLzhB4FwXNQL8ZD8m7V89AW/231UfGzUAupUHkYajRQGjcWUEGddNAmUHVTCevykB2yWgZTc3KQM5DTMzOacpAOCAcxl/VykC+X+6pbcfJQBADcMbrMcpAuiCdNAbhxUA0bXkGQp7KQNwuNNe5l81ASfy2SeOB0UC8T2hsLj/SQIEB0jZhMtNAXsSuOzXp0EAckhntqIXQQEn1RHNsxNBAzkiq3PE0zUCmmNHHN17QQAsRcAiht9BAMffUFrAEzEAjx+A0Ii7NQFXRMmUOaM1AhdgTfgZxyUDI8puv5zTKQHPl9p6/UstAmYB1rQA7xUD0SlmGfFTHQK3O+kbkwctAPjdHMETxxkCjuLZ1lWPEQIghTGTZvrpAjL9RuzG/sUAwVgs66VOzQBTWoEI4j6lAoB6uWt8WoUA04tw5Z/CiQM25jpLUw6tAWB2dg7kupkB6sIgg7LuoQAJxmU2hMKFA02pI3KMOp0Az227mIDSjQNg6S6N8YKBA3xy5mt6xpEAYj+5XDyKmQLEELMxFPKRAeyKS9C5iqUBABgW4Ux2uQNLHI1SgYK1AxtnCK3BTsUAyuVVR2nayQOSXaCwxRKlAcwFVyY0YnEACyV2ak0qgQF59T78eC5lAyegy/WsjpkBPw17EjmytQGwuJE2ZT6ZA4OyICxnRpkD65abgGxaxQB+fm2JXI7FABTEe3W++qEAMcpXqEb6nQPQER09w259A2J5ZErC6oECZBJwg5DeVQLaUBpE/2JFAroOtckKIoEA=",
                    "dtype": "f8"
                  },
                  "yaxis": "y6"
                },
                {
                  "line": {
                    "color": "#ff7f0e",
                    "dash": "dash"
                  },
                  "mode": "lines",
                  "name": "Existing",
                  "showlegend": false,
                  "type": "scatter",
                  "x": [
                    "2025-08-01T00:00:00.000000000",
                    "2025-09-01T00:00:00.000000000",
                    "2025-10-01T00:00:00.000000000",
                    "2025-11-01T00:00:00.000000000",
                    "2025-12-01T00:00:00.000000000",
                    "2026-01-01T00:00:00.000000000",
                    "2026-02-01T00:00:00.000000000",
                    "2026-03-01T00:00:00.000000000",
                    "2026-04-01T00:00:00.000000000",
                    "2026-05-01T00:00:00.000000000",
                    "2026-06-01T00:00:00.000000000",
                    "2026-07-01T00:00:00.000000000",
                    "2026-08-01T00:00:00.000000000",
                    "2026-09-01T00:00:00.000000000",
                    "2026-10-01T00:00:00.000000000",
                    "2026-11-01T00:00:00.000000000",
                    "2026-12-01T00:00:00.000000000",
                    "2027-01-01T00:00:00.000000000",
                    "2027-02-01T00:00:00.000000000",
                    "2027-03-01T00:00:00.000000000",
                    "2027-04-01T00:00:00.000000000",
                    "2027-05-01T00:00:00.000000000",
                    "2027-06-01T00:00:00.000000000",
                    "2027-07-01T00:00:00.000000000",
                    "2027-08-01T00:00:00.000000000",
                    "2027-09-01T00:00:00.000000000",
                    "2027-10-01T00:00:00.000000000",
                    "2027-11-01T00:00:00.000000000",
                    "2027-12-01T00:00:00.000000000"
                  ],
                  "xaxis": "x6",
                  "y": {
                    "bdata": "POgkJNBfnEBaV705MY6dQNTOBcyDlqBA5qV8ai6so0DIjI4f5JejQF604QWzeKlAMQFXGoLcqkDhRs3dg9axQLh/yvRR8q5AXEF2IY5iq0AwKrB3RXClQM38qJl7w6JAgqO9rYCvn0AhWHqGaRmgQCWU0tXW16BA0g5ZC4jgpEBG8hLLzXqkQAAAAAAAAPh/AAAAAAAA+H8AAAAAAAD4fwAAAAAAAPh/AAAAAAAA+H8AAAAAAAD4fwAAAAAAAPh/AAAAAAAA+H8AAAAAAAD4fwAAAAAAAPh/AAAAAAAA+H8AAAAAAAD4fw==",
                    "dtype": "f8"
                  },
                  "yaxis": "y6"
                },
                {
                  "mode": "lines",
                  "name": "RF",
                  "showlegend": false,
                  "type": "scatter",
                  "visible": false,
                  "x": [
                    "2025-08-01T00:00:00.000000000",
                    "2025-09-01T00:00:00.000000000",
                    "2025-10-01T00:00:00.000000000",
                    "2025-11-01T00:00:00.000000000",
                    "2025-12-01T00:00:00.000000000",
                    "2026-01-01T00:00:00.000000000",
                    "2026-02-01T00:00:00.000000000",
                    "2026-03-01T00:00:00.000000000",
                    "2026-04-01T00:00:00.000000000",
                    "2026-05-01T00:00:00.000000000",
                    "2026-06-01T00:00:00.000000000",
                    "2026-07-01T00:00:00.000000000",
                    "2026-08-01T00:00:00.000000000",
                    "2026-09-01T00:00:00.000000000",
                    "2026-10-01T00:00:00.000000000",
                    "2026-11-01T00:00:00.000000000",
                    "2026-12-01T00:00:00.000000000",
                    "2027-01-01T00:00:00.000000000",
                    "2027-02-01T00:00:00.000000000",
                    "2027-03-01T00:00:00.000000000",
                    "2027-04-01T00:00:00.000000000",
                    "2027-05-01T00:00:00.000000000",
                    "2027-06-01T00:00:00.000000000",
                    "2027-07-01T00:00:00.000000000",
                    "2027-08-01T00:00:00.000000000",
                    "2027-09-01T00:00:00.000000000",
                    "2027-10-01T00:00:00.000000000",
                    "2027-11-01T00:00:00.000000000",
                    "2027-12-01T00:00:00.000000000"
                  ],
                  "xaxis": "x6",
                  "y": {
                    "bdata": "h4vn86O6pUDGS9wFNgqoQCMy3zcevqlAEGGvkzFCrEDu/Y+lg1qsQMKMC5bXfatAtGVXS1WtqECcqBm4gKmhQFydtP1mDaBAFgr5jdvXnECqNUutQlqcQPfxwj8olaFA3rfPbz2ApkD39CyCtTynQNQcA64lkKhAdIuCI6LGq0BRNouy+1isQMKEVJPI2qpAVLF0DRQZpkCtR4uRFBijQJAATSQJWaBAxbTb6GABnkBfPqfm8s2eQPjEdSMCdqNAqLhWG3XApkA0dWGaNOanQOLVWJf0GKhAJSdjJSpNq0CzCFurEtGrQA==",
                    "dtype": "f8"
                  },
                  "yaxis": "y6"
                },
                {
                  "mode": "lines",
                  "name": "SARIMAX",
                  "showlegend": false,
                  "type": "scatter",
                  "visible": true,
                  "x": [
                    "2025-08-01T00:00:00.000000000",
                    "2025-09-01T00:00:00.000000000",
                    "2025-10-01T00:00:00.000000000",
                    "2025-11-01T00:00:00.000000000",
                    "2025-12-01T00:00:00.000000000",
                    "2026-01-01T00:00:00.000000000",
                    "2026-02-01T00:00:00.000000000",
                    "2026-03-01T00:00:00.000000000",
                    "2026-04-01T00:00:00.000000000",
                    "2026-05-01T00:00:00.000000000",
                    "2026-06-01T00:00:00.000000000",
                    "2026-07-01T00:00:00.000000000",
                    "2026-08-01T00:00:00.000000000",
                    "2026-09-01T00:00:00.000000000",
                    "2026-10-01T00:00:00.000000000",
                    "2026-11-01T00:00:00.000000000",
                    "2026-12-01T00:00:00.000000000",
                    "2027-01-01T00:00:00.000000000",
                    "2027-02-01T00:00:00.000000000",
                    "2027-03-01T00:00:00.000000000",
                    "2027-04-01T00:00:00.000000000",
                    "2027-05-01T00:00:00.000000000",
                    "2027-06-01T00:00:00.000000000",
                    "2027-07-01T00:00:00.000000000",
                    "2027-08-01T00:00:00.000000000",
                    "2027-09-01T00:00:00.000000000",
                    "2027-10-01T00:00:00.000000000",
                    "2027-11-01T00:00:00.000000000",
                    "2027-12-01T00:00:00.000000000"
                  ],
                  "xaxis": "x6",
                  "y": {
                    "bdata": "v5zi+D3lqEC1PrTSgbajQIn8vuQ/IaNAnFZNGlh/q0CiEO3asjmtQPfD/LnaPadAqdWQIpO3p0DEnsR168yiQPa36au+PJ9ARousRNc0l0Ccw21WfauNQGoCJlWzdZJAFCsVd/IVn0AoJvU+waaXQGdSor/3oZVAO8L6+/ucokBKXIIOg3ylQKgCrtN7sJxA02bXlsQSn0BXbFisXxKVQCXzKRpvmYtA0CCF5De8fEAgBkZKgqVjwD03vZLzM11AGbmhH48UjUBy2U22r9J5QCnk2YLrIHVAYBNhJlc0lECt9T1ItTiaQA==",
                    "dtype": "f8"
                  },
                  "yaxis": "y6"
                },
                {
                  "mode": "lines",
                  "name": "XGB",
                  "showlegend": false,
                  "type": "scatter",
                  "visible": false,
                  "x": [
                    "2025-08-01T00:00:00.000000000",
                    "2025-09-01T00:00:00.000000000",
                    "2025-10-01T00:00:00.000000000",
                    "2025-11-01T00:00:00.000000000",
                    "2025-12-01T00:00:00.000000000",
                    "2026-01-01T00:00:00.000000000",
                    "2026-02-01T00:00:00.000000000",
                    "2026-03-01T00:00:00.000000000",
                    "2026-04-01T00:00:00.000000000",
                    "2026-05-01T00:00:00.000000000",
                    "2026-06-01T00:00:00.000000000",
                    "2026-07-01T00:00:00.000000000",
                    "2026-08-01T00:00:00.000000000",
                    "2026-09-01T00:00:00.000000000",
                    "2026-10-01T00:00:00.000000000",
                    "2026-11-01T00:00:00.000000000",
                    "2026-12-01T00:00:00.000000000",
                    "2027-01-01T00:00:00.000000000",
                    "2027-02-01T00:00:00.000000000",
                    "2027-03-01T00:00:00.000000000",
                    "2027-04-01T00:00:00.000000000",
                    "2027-05-01T00:00:00.000000000",
                    "2027-06-01T00:00:00.000000000",
                    "2027-07-01T00:00:00.000000000",
                    "2027-08-01T00:00:00.000000000",
                    "2027-09-01T00:00:00.000000000",
                    "2027-10-01T00:00:00.000000000",
                    "2027-11-01T00:00:00.000000000",
                    "2027-12-01T00:00:00.000000000"
                  ],
                  "xaxis": "x6",
                  "y": {
                    "bdata": "Xn82RYmiRUWJnYBFhD+QRZK1kkU0tndFu5liRV9WD0U8O/9EDQwHReKK5ES5OdVEwrsaRd3/PEUnaDpF7WttRcEEjUWmFpBFhkyFRZCpPkVF8whFGU71RIv1/ERiy/FEHzcnRQFVLkW++jpFm+dRRdEfdEU=",
                    "dtype": "f4"
                  },
                  "yaxis": "y6"
                }
              ],
              "layout": {
                "annotations": [
                  {
                    "font": {
                      "size": 16
                    },
                    "showarrow": false,
                    "text": "Algeria",
                    "x": 0.14444444444444446,
                    "xanchor": "center",
                    "xref": "paper",
                    "y": 1,
                    "yanchor": "bottom",
                    "yref": "paper"
                  },
                  {
                    "font": {
                      "size": 16
                    },
                    "showarrow": false,
                    "text": "Libya",
                    "x": 0.5,
                    "xanchor": "center",
                    "xref": "paper",
                    "y": 1,
                    "yanchor": "bottom",
                    "yref": "paper"
                  },
                  {
                    "font": {
                      "size": 16
                    },
                    "showarrow": false,
                    "text": "Iran",
                    "x": 0.8555555555555556,
                    "xanchor": "center",
                    "xref": "paper",
                    "y": 1,
                    "yanchor": "bottom",
                    "yref": "paper"
                  },
                  {
                    "font": {
                      "size": 16
                    },
                    "showarrow": false,
                    "text": "Azerbaijan",
                    "x": 0.14444444444444446,
                    "xanchor": "center",
                    "xref": "paper",
                    "y": 0.375,
                    "yanchor": "bottom",
                    "yref": "paper"
                  },
                  {
                    "font": {
                      "size": 16
                    },
                    "showarrow": false,
                    "text": "Norway",
                    "x": 0.5,
                    "xanchor": "center",
                    "xref": "paper",
                    "y": 0.375,
                    "yanchor": "bottom",
                    "yref": "paper"
                  },
                  {
                    "font": {
                      "size": 16
                    },
                    "showarrow": false,
                    "text": "Russia",
                    "x": 0.8555555555555556,
                    "xanchor": "center",
                    "xref": "paper",
                    "y": 0.375,
                    "yanchor": "bottom",
                    "yref": "paper"
                  }
                ],
                "height": 560,
                "template": {
                  "data": {
                    "bar": [
                      {
                        "error_x": {
                          "color": "#2a3f5f"
                        },
                        "error_y": {
                          "color": "#2a3f5f"
                        },
                        "marker": {
                          "line": {
                            "color": "white",
                            "width": 0.5
                          },
                          "pattern": {
                            "fillmode": "overlay",
                            "size": 10,
                            "solidity": 0.2
                          }
                        },
                        "type": "bar"
                      }
                    ],
                    "barpolar": [
                      {
                        "marker": {
                          "line": {
                            "color": "white",
                            "width": 0.5
                          },
                          "pattern": {
                            "fillmode": "overlay",
                            "size": 10,
                            "solidity": 0.2
                          }
                        },
                        "type": "barpolar"
                      }
                    ],
                    "carpet": [
                      {
                        "aaxis": {
                          "endlinecolor": "#2a3f5f",
                          "gridcolor": "#C8D4E3",
                          "linecolor": "#C8D4E3",
                          "minorgridcolor": "#C8D4E3",
                          "startlinecolor": "#2a3f5f"
                        },
                        "baxis": {
                          "endlinecolor": "#2a3f5f",
                          "gridcolor": "#C8D4E3",
                          "linecolor": "#C8D4E3",
                          "minorgridcolor": "#C8D4E3",
                          "startlinecolor": "#2a3f5f"
                        },
                        "type": "carpet"
                      }
                    ],
                    "choropleth": [
                      {
                        "colorbar": {
                          "outlinewidth": 0,
                          "ticks": ""
                        },
                        "type": "choropleth"
                      }
                    ],
                    "contour": [
                      {
                        "colorbar": {
                          "outlinewidth": 0,
                          "ticks": ""
                        },
                        "colorscale": [
                          [
                            0,
                            "#0d0887"
                          ],
                          [
                            0.1111111111111111,
                            "#46039f"
                          ],
                          [
                            0.2222222222222222,
                            "#7201a8"
                          ],
                          [
                            0.3333333333333333,
                            "#9c179e"
                          ],
                          [
                            0.4444444444444444,
                            "#bd3786"
                          ],
                          [
                            0.5555555555555556,
                            "#d8576b"
                          ],
                          [
                            0.6666666666666666,
                            "#ed7953"
                          ],
                          [
                            0.7777777777777778,
                            "#fb9f3a"
                          ],
                          [
                            0.8888888888888888,
                            "#fdca26"
                          ],
                          [
                            1,
                            "#f0f921"
                          ]
                        ],
                        "type": "contour"
                      }
                    ],
                    "contourcarpet": [
                      {
                        "colorbar": {
                          "outlinewidth": 0,
                          "ticks": ""
                        },
                        "type": "contourcarpet"
                      }
                    ],
                    "heatmap": [
                      {
                        "colorbar": {
                          "outlinewidth": 0,
                          "ticks": ""
                        },
                        "colorscale": [
                          [
                            0,
                            "#0d0887"
                          ],
                          [
                            0.1111111111111111,
                            "#46039f"
                          ],
                          [
                            0.2222222222222222,
                            "#7201a8"
                          ],
                          [
                            0.3333333333333333,
                            "#9c179e"
                          ],
                          [
                            0.4444444444444444,
                            "#bd3786"
                          ],
                          [
                            0.5555555555555556,
                            "#d8576b"
                          ],
                          [
                            0.6666666666666666,
                            "#ed7953"
                          ],
                          [
                            0.7777777777777778,
                            "#fb9f3a"
                          ],
                          [
                            0.8888888888888888,
                            "#fdca26"
                          ],
                          [
                            1,
                            "#f0f921"
                          ]
                        ],
                        "type": "heatmap"
                      }
                    ],
                    "histogram": [
                      {
                        "marker": {
                          "pattern": {
                            "fillmode": "overlay",
                            "size": 10,
                            "solidity": 0.2
                          }
                        },
                        "type": "histogram"
                      }
                    ],
                    "histogram2d": [
                      {
                        "colorbar": {
                          "outlinewidth": 0,
                          "ticks": ""
                        },
                        "colorscale": [
                          [
                            0,
                            "#0d0887"
                          ],
                          [
                            0.1111111111111111,
                            "#46039f"
                          ],
                          [
                            0.2222222222222222,
                            "#7201a8"
                          ],
                          [
                            0.3333333333333333,
                            "#9c179e"
                          ],
                          [
                            0.4444444444444444,
                            "#bd3786"
                          ],
                          [
                            0.5555555555555556,
                            "#d8576b"
                          ],
                          [
                            0.6666666666666666,
                            "#ed7953"
                          ],
                          [
                            0.7777777777777778,
                            "#fb9f3a"
                          ],
                          [
                            0.8888888888888888,
                            "#fdca26"
                          ],
                          [
                            1,
                            "#f0f921"
                          ]
                        ],
                        "type": "histogram2d"
                      }
                    ],
                    "histogram2dcontour": [
                      {
                        "colorbar": {
                          "outlinewidth": 0,
                          "ticks": ""
                        },
                        "colorscale": [
                          [
                            0,
                            "#0d0887"
                          ],
                          [
                            0.1111111111111111,
                            "#46039f"
                          ],
                          [
                            0.2222222222222222,
                            "#7201a8"
                          ],
                          [
                            0.3333333333333333,
                            "#9c179e"
                          ],
                          [
                            0.4444444444444444,
                            "#bd3786"
                          ],
                          [
                            0.5555555555555556,
                            "#d8576b"
                          ],
                          [
                            0.6666666666666666,
                            "#ed7953"
                          ],
                          [
                            0.7777777777777778,
                            "#fb9f3a"
                          ],
                          [
                            0.8888888888888888,
                            "#fdca26"
                          ],
                          [
                            1,
                            "#f0f921"
                          ]
                        ],
                        "type": "histogram2dcontour"
                      }
                    ],
                    "mesh3d": [
                      {
                        "colorbar": {
                          "outlinewidth": 0,
                          "ticks": ""
                        },
                        "type": "mesh3d"
                      }
                    ],
                    "parcoords": [
                      {
                        "line": {
                          "colorbar": {
                            "outlinewidth": 0,
                            "ticks": ""
                          }
                        },
                        "type": "parcoords"
                      }
                    ],
                    "pie": [
                      {
                        "automargin": true,
                        "type": "pie"
                      }
                    ],
                    "scatter": [
                      {
                        "fillpattern": {
                          "fillmode": "overlay",
                          "size": 10,
                          "solidity": 0.2
                        },
                        "type": "scatter"
                      }
                    ],
                    "scatter3d": [
                      {
                        "line": {
                          "colorbar": {
                            "outlinewidth": 0,
                            "ticks": ""
                          }
                        },
                        "marker": {
                          "colorbar": {
                            "outlinewidth": 0,
                            "ticks": ""
                          }
                        },
                        "type": "scatter3d"
                      }
                    ],
                    "scattercarpet": [
                      {
                        "marker": {
                          "colorbar": {
                            "outlinewidth": 0,
                            "ticks": ""
                          }
                        },
                        "type": "scattercarpet"
                      }
                    ],
                    "scattergeo": [
                      {
                        "marker": {
                          "colorbar": {
                            "outlinewidth": 0,
                            "ticks": ""
                          }
                        },
                        "type": "scattergeo"
                      }
                    ],
                    "scattergl": [
                      {
                        "marker": {
                          "colorbar": {
                            "outlinewidth": 0,
                            "ticks": ""
                          }
                        },
                        "type": "scattergl"
                      }
                    ],
                    "scattermap": [
                      {
                        "marker": {
                          "colorbar": {
                            "outlinewidth": 0,
                            "ticks": ""
                          }
                        },
                        "type": "scattermap"
                      }
                    ],
                    "scattermapbox": [
                      {
                        "marker": {
                          "colorbar": {
                            "outlinewidth": 0,
                            "ticks": ""
                          }
                        },
                        "type": "scattermapbox"
                      }
                    ],
                    "scatterpolar": [
                      {
                        "marker": {
                          "colorbar": {
                            "outlinewidth": 0,
                            "ticks": ""
                          }
                        },
                        "type": "scatterpolar"
                      }
                    ],
                    "scatterpolargl": [
                      {
                        "marker": {
                          "colorbar": {
                            "outlinewidth": 0,
                            "ticks": ""
                          }
                        },
                        "type": "scatterpolargl"
                      }
                    ],
                    "scatterternary": [
                      {
                        "marker": {
                          "colorbar": {
                            "outlinewidth": 0,
                            "ticks": ""
                          }
                        },
                        "type": "scatterternary"
                      }
                    ],
                    "surface": [
                      {
                        "colorbar": {
                          "outlinewidth": 0,
                          "ticks": ""
                        },
                        "colorscale": [
                          [
                            0,
                            "#0d0887"
                          ],
                          [
                            0.1111111111111111,
                            "#46039f"
                          ],
                          [
                            0.2222222222222222,
                            "#7201a8"
                          ],
                          [
                            0.3333333333333333,
                            "#9c179e"
                          ],
                          [
                            0.4444444444444444,
                            "#bd3786"
                          ],
                          [
                            0.5555555555555556,
                            "#d8576b"
                          ],
                          [
                            0.6666666666666666,
                            "#ed7953"
                          ],
                          [
                            0.7777777777777778,
                            "#fb9f3a"
                          ],
                          [
                            0.8888888888888888,
                            "#fdca26"
                          ],
                          [
                            1,
                            "#f0f921"
                          ]
                        ],
                        "type": "surface"
                      }
                    ],
                    "table": [
                      {
                        "cells": {
                          "fill": {
                            "color": "#EBF0F8"
                          },
                          "line": {
                            "color": "white"
                          }
                        },
                        "header": {
                          "fill": {
                            "color": "#C8D4E3"
                          },
                          "line": {
                            "color": "white"
                          }
                        },
                        "type": "table"
                      }
                    ]
                  },
                  "layout": {
                    "annotationdefaults": {
                      "arrowcolor": "#2a3f5f",
                      "arrowhead": 0,
                      "arrowwidth": 1
                    },
                    "autotypenumbers": "strict",
                    "coloraxis": {
                      "colorbar": {
                        "outlinewidth": 0,
                        "ticks": ""
                      }
                    },
                    "colorscale": {
                      "diverging": [
                        [
                          0,
                          "#8e0152"
                        ],
                        [
                          0.1,
                          "#c51b7d"
                        ],
                        [
                          0.2,
                          "#de77ae"
                        ],
                        [
                          0.3,
                          "#f1b6da"
                        ],
                        [
                          0.4,
                          "#fde0ef"
                        ],
                        [
                          0.5,
                          "#f7f7f7"
                        ],
                        [
                          0.6,
                          "#e6f5d0"
                        ],
                        [
                          0.7,
                          "#b8e186"
                        ],
                        [
                          0.8,
                          "#7fbc41"
                        ],
                        [
                          0.9,
                          "#4d9221"
                        ],
                        [
                          1,
                          "#276419"
                        ]
                      ],
                      "sequential": [
                        [
                          0,
                          "#0d0887"
                        ],
                        [
                          0.1111111111111111,
                          "#46039f"
                        ],
                        [
                          0.2222222222222222,
                          "#7201a8"
                        ],
                        [
                          0.3333333333333333,
                          "#9c179e"
                        ],
                        [
                          0.4444444444444444,
                          "#bd3786"
                        ],
                        [
                          0.5555555555555556,
                          "#d8576b"
                        ],
                        [
                          0.6666666666666666,
                          "#ed7953"
                        ],
                        [
                          0.7777777777777778,
                          "#fb9f3a"
                        ],
                        [
                          0.8888888888888888,
                          "#fdca26"
                        ],
                        [
                          1,
                          "#f0f921"
                        ]
                      ],
                      "sequentialminus": [
                        [
                          0,
                          "#0d0887"
                        ],
                        [
                          0.1111111111111111,
                          "#46039f"
                        ],
                        [
                          0.2222222222222222,
                          "#7201a8"
                        ],
                        [
                          0.3333333333333333,
                          "#9c179e"
                        ],
                        [
                          0.4444444444444444,
                          "#bd3786"
                        ],
                        [
                          0.5555555555555556,
                          "#d8576b"
                        ],
                        [
                          0.6666666666666666,
                          "#ed7953"
                        ],
                        [
                          0.7777777777777778,
                          "#fb9f3a"
                        ],
                        [
                          0.8888888888888888,
                          "#fdca26"
                        ],
                        [
                          1,
                          "#f0f921"
                        ]
                      ]
                    },
                    "colorway": [
                      "#636efa",
                      "#EF553B",
                      "#00cc96",
                      "#ab63fa",
                      "#FFA15A",
                      "#19d3f3",
                      "#FF6692",
                      "#B6E880",
                      "#FF97FF",
                      "#FECB52"
                    ],
                    "font": {
                      "color": "#2a3f5f"
                    },
                    "geo": {
                      "bgcolor": "white",
                      "lakecolor": "white",
                      "landcolor": "white",
                      "showlakes": true,
                      "showland": true,
                      "subunitcolor": "#C8D4E3"
                    },
                    "hoverlabel": {
                      "align": "left"
                    },
                    "hovermode": "closest",
                    "mapbox": {
                      "style": "light"
                    },
                    "paper_bgcolor": "white",
                    "plot_bgcolor": "white",
                    "polar": {
                      "angularaxis": {
                        "gridcolor": "#EBF0F8",
                        "linecolor": "#EBF0F8",
                        "ticks": ""
                      },
                      "bgcolor": "white",
                      "radialaxis": {
                        "gridcolor": "#EBF0F8",
                        "linecolor": "#EBF0F8",
                        "ticks": ""
                      }
                    },
                    "scene": {
                      "xaxis": {
                        "backgroundcolor": "white",
                        "gridcolor": "#DFE8F3",
                        "gridwidth": 2,
                        "linecolor": "#EBF0F8",
                        "showbackground": true,
                        "ticks": "",
                        "zerolinecolor": "#EBF0F8"
                      },
                      "yaxis": {
                        "backgroundcolor": "white",
                        "gridcolor": "#DFE8F3",
                        "gridwidth": 2,
                        "linecolor": "#EBF0F8",
                        "showbackground": true,
                        "ticks": "",
                        "zerolinecolor": "#EBF0F8"
                      },
                      "zaxis": {
                        "backgroundcolor": "white",
                        "gridcolor": "#DFE8F3",
                        "gridwidth": 2,
                        "linecolor": "#EBF0F8",
                        "showbackground": true,
                        "ticks": "",
                        "zerolinecolor": "#EBF0F8"
                      }
                    },
                    "shapedefaults": {
                      "line": {
                        "color": "#2a3f5f"
                      }
                    },
                    "ternary": {
                      "aaxis": {
                        "gridcolor": "#DFE8F3",
                        "linecolor": "#A2B1C6",
                        "ticks": ""
                      },
                      "baxis": {
                        "gridcolor": "#DFE8F3",
                        "linecolor": "#A2B1C6",
                        "ticks": ""
                      },
                      "bgcolor": "white",
                      "caxis": {
                        "gridcolor": "#DFE8F3",
                        "linecolor": "#A2B1C6",
                        "ticks": ""
                      }
                    },
                    "title": {
                      "x": 0.05
                    },
                    "xaxis": {
                      "automargin": true,
                      "gridcolor": "#EBF0F8",
                      "linecolor": "#EBF0F8",
                      "ticks": "",
                      "title": {
                        "standoff": 15
                      },
                      "zerolinecolor": "#EBF0F8",
                      "zerolinewidth": 2
                    },
                    "yaxis": {
                      "automargin": true,
                      "gridcolor": "#EBF0F8",
                      "linecolor": "#EBF0F8",
                      "ticks": "",
                      "title": {
                        "standoff": 15
                      },
                      "zerolinecolor": "#EBF0F8",
                      "zerolinewidth": 2
                    }
                  }
                },
                "title": {
                  "text": "All routes - SARIMAX"
                },
                "updatemenus": [
                  {
                    "buttons": [
                      {
                        "args": [
                          {
                            "visible": [
                              true,
                              true,
                              true,
                              false,
                              false,
                              true,
                              true,
                              true,
                              false,
                              false,
                              true,
                              true,
                              true,
                              false,
                              false,
                              true,
                              true,
                              true,
                              false,
                              false,
                              true,
                              true,
                              true,
                              false,
                              false,
                              true,
                              true,
                              true,
                              false,
                              false
                            ]
                          },
                          {
                            "title": "All routes - RF vs Actual/Existing"
                          }
                        ],
                        "label": "RF",
                        "method": "update"
                      },
                      {
                        "args": [
                          {
                            "visible": [
                              true,
                              true,
                              false,
                              true,
                              false,
                              true,
                              true,
                              false,
                              true,
                              false,
                              true,
                              true,
                              false,
                              true,
                              false,
                              true,
                              true,
                              false,
                              true,
                              false,
                              true,
                              true,
                              false,
                              true,
                              false,
                              true,
                              true,
                              false,
                              true,
                              false
                            ]
                          },
                          {
                            "title": "All routes - SARIMAX vs Actual/Existing"
                          }
                        ],
                        "label": "SARIMAX",
                        "method": "update"
                      },
                      {
                        "args": [
                          {
                            "visible": [
                              true,
                              true,
                              false,
                              false,
                              true,
                              true,
                              true,
                              false,
                              false,
                              true,
                              true,
                              true,
                              false,
                              false,
                              true,
                              true,
                              true,
                              false,
                              false,
                              true,
                              true,
                              true,
                              false,
                              false,
                              true,
                              true,
                              true,
                              false,
                              false,
                              true
                            ]
                          },
                          {
                            "title": "All routes - XGB vs Actual/Existing"
                          }
                        ],
                        "label": "XGB",
                        "method": "update"
                      }
                    ],
                    "direction": "down",
                    "x": 0.01,
                    "xanchor": "left",
                    "y": 1.1,
                    "yanchor": "top"
                  }
                ],
                "xaxis": {
                  "anchor": "y",
                  "domain": [
                    0,
                    0.2888888888888889
                  ],
                  "matches": "x4",
                  "showticklabels": false
                },
                "xaxis2": {
                  "anchor": "y2",
                  "domain": [
                    0.35555555555555557,
                    0.6444444444444445
                  ],
                  "matches": "x5",
                  "showticklabels": false
                },
                "xaxis3": {
                  "anchor": "y3",
                  "domain": [
                    0.7111111111111111,
                    1
                  ],
                  "matches": "x6",
                  "showticklabels": false
                },
                "xaxis4": {
                  "anchor": "y4",
                  "domain": [
                    0,
                    0.2888888888888889
                  ]
                },
                "xaxis5": {
                  "anchor": "y5",
                  "domain": [
                    0.35555555555555557,
                    0.6444444444444445
                  ]
                },
                "xaxis6": {
                  "anchor": "y6",
                  "domain": [
                    0.7111111111111111,
                    1
                  ]
                },
                "yaxis": {
                  "anchor": "x",
                  "domain": [
                    0.625,
                    1
                  ]
                },
                "yaxis2": {
                  "anchor": "x2",
                  "domain": [
                    0.625,
                    1
                  ]
                },
                "yaxis3": {
                  "anchor": "x3",
                  "domain": [
                    0.625,
                    1
                  ]
                },
                "yaxis4": {
                  "anchor": "x4",
                  "domain": [
                    0,
                    0.375
                  ]
                },
                "yaxis5": {
                  "anchor": "x5",
                  "domain": [
                    0,
                    0.375
                  ]
                },
                "yaxis6": {
                  "anchor": "x6",
                  "domain": [
                    0,
                    0.375
                  ]
                }
              }
            }
          },
          "metadata": {},
          "output_type": "display_data"
        }
      ],
      "source": [
        "# --- Plotly: route dropdown + small multiples ---\n",
        "import plotly.graph_objects as go\n",
        "from plotly.subplots import make_subplots\n",
        "import math\n",
        "\n",
        "if routes:\n",
        "    # 1) Single figure with dropdown to switch route\n",
        "    fig_dd = go.Figure()\n",
        "    route_groups = []  # list of (route, start_idx, end_idx) for visibility control\n",
        "    total_traces = 0\n",
        "\n",
        "    for route in routes:\n",
        "        # Actuals\n",
        "        hist = (df_history[route] if 'df_history' in globals() else speedsheet[route])\n",
        "        fig_dd.add_trace(go.Scatter(x=hist.index, y=hist.values, mode='lines', name=f'Actual ({route})',\n",
        "                                     line=dict(color='#1f77b4')))\n",
        "        # Existing forecast (if present)\n",
        "        if 'df_forecast_period' in globals() and route in df_forecast_period.columns:\n",
        "            ref = df_forecast_period[route]\n",
        "            fig_dd.add_trace(go.Scatter(x=ref.index, y=ref.values, mode='lines', name=f'Existing ({route})',\n",
        "                                         line=dict(color='#ff7f0e', dash='dash')))\n",
        "        # Advanced methods per route\n",
        "        if 'adv_df' in globals() and adv_df is not None and not adv_df.empty:\n",
        "            for m in (methods_adv if 'methods_adv' in globals() else []):\n",
        "                col = f\"{m}_{route}\"\n",
        "                if col in adv_df.columns:\n",
        "                    ser = adv_df[col]\n",
        "                    fig_dd.add_trace(go.Scatter(x=ser.index, y=ser.values, mode='lines', name=f'{m} ({route})'))\n",
        "        # register group span for this route\n",
        "        start_idx = total_traces\n",
        "        total_traces = len(fig_dd.data)\n",
        "        route_groups.append((route, start_idx, total_traces))\n",
        "\n",
        "    # Build visibility masks for dropdown\n",
        "    buttons = []\n",
        "    for i, (route, start, end) in enumerate(route_groups):\n",
        "        vis = [False] * total_traces\n",
        "        for j in range(start, end):\n",
        "            vis[j] = True\n",
        "        buttons.append(dict(label=route,\n",
        "                            method='update',\n",
        "                            args=[{'visible': vis},\n",
        "                                  {'title': f'Advanced forecasts (Route: {route})'}]))\n",
        "\n",
        "    # Default: first route visible\n",
        "    default_vis = [False] * total_traces\n",
        "    if route_groups:\n",
        "        s0, e0 = route_groups[0][1], route_groups[0][2]\n",
        "        for j in range(s0, e0):\n",
        "            default_vis[j] = True\n",
        "\n",
        "    fig_dd.update_layout(\n",
        "        title=f\"Advanced forecasts (Route: {route_groups[0][0] if route_groups else ''})\",\n",
        "        xaxis_title='Date',\n",
        "        yaxis_title='Volume',\n",
        "        template='plotly_white',\n",
        "        updatemenus=[dict(buttons=buttons, direction='down', x=0.01, y=1.12, xanchor='left', yanchor='top')],\n",
        "        legend=dict(orientation='h', yanchor='bottom', y=1.02, xanchor='left', x=0)\n",
        "    )\n",
        "    # apply default visibility\n",
        "    for k, tr in enumerate(fig_dd.data):\n",
        "        tr.visible = default_vis[k]\n",
        "    out_html_dd = OUTPUT_DIR / \"advanced_comparison_dropdown.html\"\n",
        "    fig_dd.write_html(str(out_html_dd))\n",
        "    print(\"Saved dropdown comparison (Plotly) to:\", out_html_dd)\n",
        "    fig_dd.show()\n",
        "\n",
        "    # 2) Small multiples (subplots) over all routes\n",
        "    n = len(routes)\n",
        "    cols = 3\n",
        "    rows = math.ceil(n / cols)\n",
        "    fig_sm = make_subplots(rows=rows, cols=cols, subplot_titles=routes, shared_xaxes=True)\n",
        "\n",
        "    actual_idx = []  # indices of always-on traces (actual + existing)\n",
        "    method_trace_indices = {}  # method -> [indices across subplots]\n",
        "    default_method = 'SARIMAX' if ('methods_adv' in globals() and 'SARIMAX' in methods_adv) else (methods_adv[0] if 'methods_adv' in globals() and methods_adv else None)\n",
        "\n",
        "    r_i = 1\n",
        "    c_i = 1\n",
        "    for route in routes:\n",
        "        # Actuals\n",
        "        hist = (df_history[route] if 'df_history' in globals() else speedsheet[route])\n",
        "        t = fig_sm.add_trace(go.Scatter(x=hist.index, y=hist.values, mode='lines', name='Actual',\n",
        "                                        line=dict(color='#1f77b4'), showlegend=False), row=r_i, col=c_i)\n",
        "        actual_idx.append(len(fig_sm.data) - 1)\n",
        "        # Existing\n",
        "        if 'df_forecast_period' in globals() and route in df_forecast_period.columns:\n",
        "            ref = df_forecast_period[route]\n",
        "            t = fig_sm.add_trace(go.Scatter(x=ref.index, y=ref.values, mode='lines', name='Existing',\n",
        "                                            line=dict(color='#ff7f0e', dash='dash'), showlegend=False), row=r_i, col=c_i)\n",
        "            actual_idx.append(len(fig_sm.data) - 1)\n",
        "        # Advanced methods (one trace per method per route, toggle via dropdown)\n",
        "        if 'adv_df' in globals() and adv_df is not None and not adv_df.empty and ('methods_adv' in globals()):\n",
        "            for m in methods_adv:\n",
        "                col = f\"{m}_{route}\"\n",
        "                if col in adv_df.columns:\n",
        "                    ser = adv_df[col]\n",
        "                    vis = (m == default_method) if default_method else True\n",
        "                    t = fig_sm.add_trace(go.Scatter(x=ser.index, y=ser.values, mode='lines', name=m, showlegend=False, visible=vis), row=r_i, col=c_i)\n",
        "                    idx = len(fig_sm.data) - 1\n",
        "                    method_trace_indices.setdefault(m, []).append(idx)\n",
        "\n",
        "        # increment subplot position\n",
        "        c_i += 1\n",
        "        if c_i > cols:\n",
        "            c_i = 1\n",
        "            r_i += 1\n",
        "\n",
        "    # Build buttons to toggle advanced method across all subplots (actual/existing stay visible)\n",
        "    buttons_sm = []\n",
        "    all_trace_count = len(fig_sm.data)\n",
        "    if method_trace_indices:\n",
        "        for m in methods_adv:\n",
        "            vis = [True] * all_trace_count  # start with all visible\n",
        "            # turn off all advanced method traces first\n",
        "            for mm, idxs in method_trace_indices.items():\n",
        "                for idx in idxs:\n",
        "                    vis[idx] = False\n",
        "            # turn on selected method traces\n",
        "            if m in method_trace_indices:\n",
        "                for idx in method_trace_indices[m]:\n",
        "                    vis[idx] = True\n",
        "            buttons_sm.append(dict(label=m, method='update', args=[{'visible': vis}, {'title': f'All routes - {m} vs Actual/Existing'}]))\n",
        "\n",
        "    fig_sm.update_layout(\n",
        "        title=f\"All routes - {default_method if default_method else 'Actual/Existing only'}\",\n",
        "        template='plotly_white',\n",
        "        height=max(500, 280 * rows),\n",
        "        updatemenus=[dict(buttons=buttons_sm, direction='down', x=0.01, y=1.10, xanchor='left', yanchor='top')] if buttons_sm else None\n",
        "    )\n",
        "    out_html_sm = OUTPUT_DIR / \"routes_small_multiples.html\"\n",
        "    fig_sm.write_html(str(out_html_sm))\n",
        "    print(\"Saved small multiples (Plotly) to:\", out_html_sm)\n",
        "    fig_sm.show()\n",
        "else:\n",
        "    print(\"No routes detected; skipping Plotly dropdown and subplots.\")"
      ]
    }
  ],
  "metadata": {
    "kernelspec": {
      "display_name": "Python 3",
      "language": "python",
      "name": "python3"
    },
    "language_info": {
      "codemirror_mode": {
        "name": "ipython",
        "version": 3
      },
      "file_extension": ".py",
      "mimetype": "text/x-python",
      "name": "python",
      "nbconvert_exporter": "python",
      "pygments_lexer": "ipython3",
      "version": "3.11.9"
    }
  },
  "nbformat": 4,
  "nbformat_minor": 2
}
